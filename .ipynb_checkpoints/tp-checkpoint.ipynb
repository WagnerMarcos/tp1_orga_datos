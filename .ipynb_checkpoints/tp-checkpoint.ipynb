{
 "cells": [
  {
   "cell_type": "code",
   "execution_count": 1,
   "id": "extended-franchise",
   "metadata": {},
   "outputs": [],
   "source": [
    "import pandas as pd\n",
    "import seaborn as sns\n",
    "import matplotlib as mpl"
   ]
  },
  {
   "cell_type": "code",
   "execution_count": 2,
   "id": "casual-tactics",
   "metadata": {},
   "outputs": [],
   "source": [
    "df = pd.read_csv(\"train_values.csv\", index_col=\"building_id\")\n",
    "df2 = pd.read_csv(\"train_labels.csv\", index_col=\"building_id\")"
   ]
  },
  {
   "cell_type": "code",
   "execution_count": 3,
   "id": "educated-perfume",
   "metadata": {},
   "outputs": [],
   "source": [
    "df = df.merge(df2, left_index=True, right_index=True).reset_index()"
   ]
  },
  {
   "cell_type": "code",
   "execution_count": 4,
   "id": "micro-confirmation",
   "metadata": {},
   "outputs": [
    {
     "data": {
      "text/html": [
       "<div>\n",
       "<style scoped>\n",
       "    .dataframe tbody tr th:only-of-type {\n",
       "        vertical-align: middle;\n",
       "    }\n",
       "\n",
       "    .dataframe tbody tr th {\n",
       "        vertical-align: top;\n",
       "    }\n",
       "\n",
       "    .dataframe thead th {\n",
       "        text-align: right;\n",
       "    }\n",
       "</style>\n",
       "<table border=\"1\" class=\"dataframe\">\n",
       "  <thead>\n",
       "    <tr style=\"text-align: right;\">\n",
       "      <th></th>\n",
       "      <th>building_id</th>\n",
       "      <th>geo_level_1_id</th>\n",
       "      <th>geo_level_2_id</th>\n",
       "      <th>geo_level_3_id</th>\n",
       "      <th>count_floors_pre_eq</th>\n",
       "      <th>age</th>\n",
       "      <th>area_percentage</th>\n",
       "      <th>height_percentage</th>\n",
       "      <th>land_surface_condition</th>\n",
       "      <th>foundation_type</th>\n",
       "      <th>...</th>\n",
       "      <th>has_secondary_use_hotel</th>\n",
       "      <th>has_secondary_use_rental</th>\n",
       "      <th>has_secondary_use_institution</th>\n",
       "      <th>has_secondary_use_school</th>\n",
       "      <th>has_secondary_use_industry</th>\n",
       "      <th>has_secondary_use_health_post</th>\n",
       "      <th>has_secondary_use_gov_office</th>\n",
       "      <th>has_secondary_use_use_police</th>\n",
       "      <th>has_secondary_use_other</th>\n",
       "      <th>damage_grade</th>\n",
       "    </tr>\n",
       "  </thead>\n",
       "  <tbody>\n",
       "    <tr>\n",
       "      <th>0</th>\n",
       "      <td>802906</td>\n",
       "      <td>6</td>\n",
       "      <td>487</td>\n",
       "      <td>12198</td>\n",
       "      <td>2</td>\n",
       "      <td>30</td>\n",
       "      <td>6</td>\n",
       "      <td>5</td>\n",
       "      <td>t</td>\n",
       "      <td>r</td>\n",
       "      <td>...</td>\n",
       "      <td>0</td>\n",
       "      <td>0</td>\n",
       "      <td>0</td>\n",
       "      <td>0</td>\n",
       "      <td>0</td>\n",
       "      <td>0</td>\n",
       "      <td>0</td>\n",
       "      <td>0</td>\n",
       "      <td>0</td>\n",
       "      <td>3</td>\n",
       "    </tr>\n",
       "    <tr>\n",
       "      <th>1</th>\n",
       "      <td>28830</td>\n",
       "      <td>8</td>\n",
       "      <td>900</td>\n",
       "      <td>2812</td>\n",
       "      <td>2</td>\n",
       "      <td>10</td>\n",
       "      <td>8</td>\n",
       "      <td>7</td>\n",
       "      <td>o</td>\n",
       "      <td>r</td>\n",
       "      <td>...</td>\n",
       "      <td>0</td>\n",
       "      <td>0</td>\n",
       "      <td>0</td>\n",
       "      <td>0</td>\n",
       "      <td>0</td>\n",
       "      <td>0</td>\n",
       "      <td>0</td>\n",
       "      <td>0</td>\n",
       "      <td>0</td>\n",
       "      <td>2</td>\n",
       "    </tr>\n",
       "    <tr>\n",
       "      <th>2</th>\n",
       "      <td>94947</td>\n",
       "      <td>21</td>\n",
       "      <td>363</td>\n",
       "      <td>8973</td>\n",
       "      <td>2</td>\n",
       "      <td>10</td>\n",
       "      <td>5</td>\n",
       "      <td>5</td>\n",
       "      <td>t</td>\n",
       "      <td>r</td>\n",
       "      <td>...</td>\n",
       "      <td>0</td>\n",
       "      <td>0</td>\n",
       "      <td>0</td>\n",
       "      <td>0</td>\n",
       "      <td>0</td>\n",
       "      <td>0</td>\n",
       "      <td>0</td>\n",
       "      <td>0</td>\n",
       "      <td>0</td>\n",
       "      <td>3</td>\n",
       "    </tr>\n",
       "    <tr>\n",
       "      <th>3</th>\n",
       "      <td>590882</td>\n",
       "      <td>22</td>\n",
       "      <td>418</td>\n",
       "      <td>10694</td>\n",
       "      <td>2</td>\n",
       "      <td>10</td>\n",
       "      <td>6</td>\n",
       "      <td>5</td>\n",
       "      <td>t</td>\n",
       "      <td>r</td>\n",
       "      <td>...</td>\n",
       "      <td>0</td>\n",
       "      <td>0</td>\n",
       "      <td>0</td>\n",
       "      <td>0</td>\n",
       "      <td>0</td>\n",
       "      <td>0</td>\n",
       "      <td>0</td>\n",
       "      <td>0</td>\n",
       "      <td>0</td>\n",
       "      <td>2</td>\n",
       "    </tr>\n",
       "    <tr>\n",
       "      <th>4</th>\n",
       "      <td>201944</td>\n",
       "      <td>11</td>\n",
       "      <td>131</td>\n",
       "      <td>1488</td>\n",
       "      <td>3</td>\n",
       "      <td>30</td>\n",
       "      <td>8</td>\n",
       "      <td>9</td>\n",
       "      <td>t</td>\n",
       "      <td>r</td>\n",
       "      <td>...</td>\n",
       "      <td>0</td>\n",
       "      <td>0</td>\n",
       "      <td>0</td>\n",
       "      <td>0</td>\n",
       "      <td>0</td>\n",
       "      <td>0</td>\n",
       "      <td>0</td>\n",
       "      <td>0</td>\n",
       "      <td>0</td>\n",
       "      <td>3</td>\n",
       "    </tr>\n",
       "    <tr>\n",
       "      <th>...</th>\n",
       "      <td>...</td>\n",
       "      <td>...</td>\n",
       "      <td>...</td>\n",
       "      <td>...</td>\n",
       "      <td>...</td>\n",
       "      <td>...</td>\n",
       "      <td>...</td>\n",
       "      <td>...</td>\n",
       "      <td>...</td>\n",
       "      <td>...</td>\n",
       "      <td>...</td>\n",
       "      <td>...</td>\n",
       "      <td>...</td>\n",
       "      <td>...</td>\n",
       "      <td>...</td>\n",
       "      <td>...</td>\n",
       "      <td>...</td>\n",
       "      <td>...</td>\n",
       "      <td>...</td>\n",
       "      <td>...</td>\n",
       "      <td>...</td>\n",
       "    </tr>\n",
       "    <tr>\n",
       "      <th>260596</th>\n",
       "      <td>688636</td>\n",
       "      <td>25</td>\n",
       "      <td>1335</td>\n",
       "      <td>1621</td>\n",
       "      <td>1</td>\n",
       "      <td>55</td>\n",
       "      <td>6</td>\n",
       "      <td>3</td>\n",
       "      <td>n</td>\n",
       "      <td>r</td>\n",
       "      <td>...</td>\n",
       "      <td>0</td>\n",
       "      <td>0</td>\n",
       "      <td>0</td>\n",
       "      <td>0</td>\n",
       "      <td>0</td>\n",
       "      <td>0</td>\n",
       "      <td>0</td>\n",
       "      <td>0</td>\n",
       "      <td>0</td>\n",
       "      <td>2</td>\n",
       "    </tr>\n",
       "    <tr>\n",
       "      <th>260597</th>\n",
       "      <td>669485</td>\n",
       "      <td>17</td>\n",
       "      <td>715</td>\n",
       "      <td>2060</td>\n",
       "      <td>2</td>\n",
       "      <td>0</td>\n",
       "      <td>6</td>\n",
       "      <td>5</td>\n",
       "      <td>t</td>\n",
       "      <td>r</td>\n",
       "      <td>...</td>\n",
       "      <td>0</td>\n",
       "      <td>0</td>\n",
       "      <td>0</td>\n",
       "      <td>0</td>\n",
       "      <td>0</td>\n",
       "      <td>0</td>\n",
       "      <td>0</td>\n",
       "      <td>0</td>\n",
       "      <td>0</td>\n",
       "      <td>3</td>\n",
       "    </tr>\n",
       "    <tr>\n",
       "      <th>260598</th>\n",
       "      <td>602512</td>\n",
       "      <td>17</td>\n",
       "      <td>51</td>\n",
       "      <td>8163</td>\n",
       "      <td>3</td>\n",
       "      <td>55</td>\n",
       "      <td>6</td>\n",
       "      <td>7</td>\n",
       "      <td>t</td>\n",
       "      <td>r</td>\n",
       "      <td>...</td>\n",
       "      <td>0</td>\n",
       "      <td>0</td>\n",
       "      <td>0</td>\n",
       "      <td>0</td>\n",
       "      <td>0</td>\n",
       "      <td>0</td>\n",
       "      <td>0</td>\n",
       "      <td>0</td>\n",
       "      <td>0</td>\n",
       "      <td>3</td>\n",
       "    </tr>\n",
       "    <tr>\n",
       "      <th>260599</th>\n",
       "      <td>151409</td>\n",
       "      <td>26</td>\n",
       "      <td>39</td>\n",
       "      <td>1851</td>\n",
       "      <td>2</td>\n",
       "      <td>10</td>\n",
       "      <td>14</td>\n",
       "      <td>6</td>\n",
       "      <td>t</td>\n",
       "      <td>r</td>\n",
       "      <td>...</td>\n",
       "      <td>0</td>\n",
       "      <td>0</td>\n",
       "      <td>0</td>\n",
       "      <td>0</td>\n",
       "      <td>0</td>\n",
       "      <td>0</td>\n",
       "      <td>0</td>\n",
       "      <td>0</td>\n",
       "      <td>0</td>\n",
       "      <td>2</td>\n",
       "    </tr>\n",
       "    <tr>\n",
       "      <th>260600</th>\n",
       "      <td>747594</td>\n",
       "      <td>21</td>\n",
       "      <td>9</td>\n",
       "      <td>9101</td>\n",
       "      <td>3</td>\n",
       "      <td>10</td>\n",
       "      <td>7</td>\n",
       "      <td>6</td>\n",
       "      <td>n</td>\n",
       "      <td>r</td>\n",
       "      <td>...</td>\n",
       "      <td>0</td>\n",
       "      <td>0</td>\n",
       "      <td>0</td>\n",
       "      <td>0</td>\n",
       "      <td>0</td>\n",
       "      <td>0</td>\n",
       "      <td>0</td>\n",
       "      <td>0</td>\n",
       "      <td>0</td>\n",
       "      <td>3</td>\n",
       "    </tr>\n",
       "  </tbody>\n",
       "</table>\n",
       "<p>260601 rows × 40 columns</p>\n",
       "</div>"
      ],
      "text/plain": [
       "        building_id  geo_level_1_id  geo_level_2_id  geo_level_3_id  \\\n",
       "0            802906               6             487           12198   \n",
       "1             28830               8             900            2812   \n",
       "2             94947              21             363            8973   \n",
       "3            590882              22             418           10694   \n",
       "4            201944              11             131            1488   \n",
       "...             ...             ...             ...             ...   \n",
       "260596       688636              25            1335            1621   \n",
       "260597       669485              17             715            2060   \n",
       "260598       602512              17              51            8163   \n",
       "260599       151409              26              39            1851   \n",
       "260600       747594              21               9            9101   \n",
       "\n",
       "        count_floors_pre_eq  age  area_percentage  height_percentage  \\\n",
       "0                         2   30                6                  5   \n",
       "1                         2   10                8                  7   \n",
       "2                         2   10                5                  5   \n",
       "3                         2   10                6                  5   \n",
       "4                         3   30                8                  9   \n",
       "...                     ...  ...              ...                ...   \n",
       "260596                    1   55                6                  3   \n",
       "260597                    2    0                6                  5   \n",
       "260598                    3   55                6                  7   \n",
       "260599                    2   10               14                  6   \n",
       "260600                    3   10                7                  6   \n",
       "\n",
       "       land_surface_condition foundation_type  ... has_secondary_use_hotel  \\\n",
       "0                           t               r  ...                       0   \n",
       "1                           o               r  ...                       0   \n",
       "2                           t               r  ...                       0   \n",
       "3                           t               r  ...                       0   \n",
       "4                           t               r  ...                       0   \n",
       "...                       ...             ...  ...                     ...   \n",
       "260596                      n               r  ...                       0   \n",
       "260597                      t               r  ...                       0   \n",
       "260598                      t               r  ...                       0   \n",
       "260599                      t               r  ...                       0   \n",
       "260600                      n               r  ...                       0   \n",
       "\n",
       "       has_secondary_use_rental has_secondary_use_institution  \\\n",
       "0                             0                             0   \n",
       "1                             0                             0   \n",
       "2                             0                             0   \n",
       "3                             0                             0   \n",
       "4                             0                             0   \n",
       "...                         ...                           ...   \n",
       "260596                        0                             0   \n",
       "260597                        0                             0   \n",
       "260598                        0                             0   \n",
       "260599                        0                             0   \n",
       "260600                        0                             0   \n",
       "\n",
       "       has_secondary_use_school has_secondary_use_industry  \\\n",
       "0                             0                          0   \n",
       "1                             0                          0   \n",
       "2                             0                          0   \n",
       "3                             0                          0   \n",
       "4                             0                          0   \n",
       "...                         ...                        ...   \n",
       "260596                        0                          0   \n",
       "260597                        0                          0   \n",
       "260598                        0                          0   \n",
       "260599                        0                          0   \n",
       "260600                        0                          0   \n",
       "\n",
       "        has_secondary_use_health_post  has_secondary_use_gov_office  \\\n",
       "0                                   0                             0   \n",
       "1                                   0                             0   \n",
       "2                                   0                             0   \n",
       "3                                   0                             0   \n",
       "4                                   0                             0   \n",
       "...                               ...                           ...   \n",
       "260596                              0                             0   \n",
       "260597                              0                             0   \n",
       "260598                              0                             0   \n",
       "260599                              0                             0   \n",
       "260600                              0                             0   \n",
       "\n",
       "        has_secondary_use_use_police  has_secondary_use_other  damage_grade  \n",
       "0                                  0                        0             3  \n",
       "1                                  0                        0             2  \n",
       "2                                  0                        0             3  \n",
       "3                                  0                        0             2  \n",
       "4                                  0                        0             3  \n",
       "...                              ...                      ...           ...  \n",
       "260596                             0                        0             2  \n",
       "260597                             0                        0             3  \n",
       "260598                             0                        0             3  \n",
       "260599                             0                        0             2  \n",
       "260600                             0                        0             3  \n",
       "\n",
       "[260601 rows x 40 columns]"
      ]
     },
     "execution_count": 4,
     "metadata": {},
     "output_type": "execute_result"
    }
   ],
   "source": [
    "df"
   ]
  },
  {
   "cell_type": "code",
   "execution_count": 5,
   "id": "unique-solution",
   "metadata": {},
   "outputs": [],
   "source": [
    "d = {1:\"low\", 2:\"medium\", 3:\"high\"}\n",
    "df.damage_grade = df.damage_grade.apply(lambda x: d[x])"
   ]
  },
  {
   "cell_type": "code",
   "execution_count": 6,
   "id": "ranking-dressing",
   "metadata": {},
   "outputs": [
    {
     "data": {
      "text/plain": [
       "Index(['building_id', 'geo_level_1_id', 'geo_level_2_id', 'geo_level_3_id',\n",
       "       'count_floors_pre_eq', 'age', 'area_percentage', 'height_percentage',\n",
       "       'land_surface_condition', 'foundation_type', 'roof_type',\n",
       "       'ground_floor_type', 'other_floor_type', 'position',\n",
       "       'plan_configuration', 'has_superstructure_adobe_mud',\n",
       "       'has_superstructure_mud_mortar_stone', 'has_superstructure_stone_flag',\n",
       "       'has_superstructure_cement_mortar_stone',\n",
       "       'has_superstructure_mud_mortar_brick',\n",
       "       'has_superstructure_cement_mortar_brick', 'has_superstructure_timber',\n",
       "       'has_superstructure_bamboo', 'has_superstructure_rc_non_engineered',\n",
       "       'has_superstructure_rc_engineered', 'has_superstructure_other',\n",
       "       'legal_ownership_status', 'count_families', 'has_secondary_use',\n",
       "       'has_secondary_use_agriculture', 'has_secondary_use_hotel',\n",
       "       'has_secondary_use_rental', 'has_secondary_use_institution',\n",
       "       'has_secondary_use_school', 'has_secondary_use_industry',\n",
       "       'has_secondary_use_health_post', 'has_secondary_use_gov_office',\n",
       "       'has_secondary_use_use_police', 'has_secondary_use_other',\n",
       "       'damage_grade'],\n",
       "      dtype='object')"
      ]
     },
     "execution_count": 6,
     "metadata": {},
     "output_type": "execute_result"
    }
   ],
   "source": [
    "df.columns"
   ]
  },
  {
   "cell_type": "code",
   "execution_count": 7,
   "id": "destroyed-applicant",
   "metadata": {},
   "outputs": [
    {
     "data": {
      "text/plain": [
       "<AxesSubplot:xlabel='damage_grade', ylabel='count'>"
      ]
     },
     "execution_count": 7,
     "metadata": {},
     "output_type": "execute_result"
    },
    {
     "data": {
      "image/png": "[encoded data removed]",
      "text/plain": [
       "<Figure size 432x288 with 1 Axes>"
      ]
     },
     "metadata": {
      "needs_background": "light"
     },
     "output_type": "display_data"
    }
   ],
   "source": [
    "sns.countplot(x=\"damage_grade\", data=df)"
   ]
  },
  {
   "cell_type": "code",
   "execution_count": 8,
   "id": "annual-guatemala",
   "metadata": {},
   "outputs": [
    {
     "data": {
      "text/plain": [
       "<AxesSubplot:xlabel='ground_floor_type', ylabel='count'>"
      ]
     },
     "execution_count": 8,
     "metadata": {},
     "output_type": "execute_result"
    },
    {
     "data": {
      "image/png": "[encoded data removed]",
      "text/plain": [
       "<Figure size 432x288 with 1 Axes>"
      ]
     },
     "metadata": {
      "needs_background": "light"
     },
     "output_type": "display_data"
    }
   ],
   "source": [
    "sns.countplot(x=\"ground_floor_type\", data=df)"
   ]
  },
  {
   "cell_type": "code",
   "execution_count": 9,
   "id": "minimal-store",
   "metadata": {},
   "outputs": [],
   "source": [
    "bins = [-1, 10, 20, 30, 40, 50, 70, 10000]\n",
    "labels = [\"0 a 10\", \"0 a 20\", \"20 a 30\", \"30 a 40\", \"40 a 50\", \"50 a 70\", \"70 a 10000\"]\n",
    "df['binned'] = pd.cut(df['age'], bins=bins, labels=labels)"
   ]
  },
  {
   "cell_type": "code",
   "execution_count": 10,
   "id": "civil-paraguay",
   "metadata": {},
   "outputs": [
    {
     "data": {
      "text/plain": [
       "0 a 10        98634\n",
       "0 a 20        68192\n",
       "20 a 30       42394\n",
       "30 a 40       21269\n",
       "40 a 50       11968\n",
       "70 a 10000     9401\n",
       "50 a 70        8743\n",
       "Name: binned, dtype: int64"
      ]
     },
     "execution_count": 10,
     "metadata": {},
     "output_type": "execute_result"
    }
   ],
   "source": [
    "df.binned.value_counts()"
   ]
  },
  {
   "cell_type": "code",
   "execution_count": 11,
   "id": "official-welcome",
   "metadata": {},
   "outputs": [
    {
     "data": {
      "text/html": [
       "<div>\n",
       "<style scoped>\n",
       "    .dataframe tbody tr th:only-of-type {\n",
       "        vertical-align: middle;\n",
       "    }\n",
       "\n",
       "    .dataframe tbody tr th {\n",
       "        vertical-align: top;\n",
       "    }\n",
       "\n",
       "    .dataframe thead tr th {\n",
       "        text-align: left;\n",
       "    }\n",
       "\n",
       "    .dataframe thead tr:last-of-type th {\n",
       "        text-align: right;\n",
       "    }\n",
       "</style>\n",
       "<table border=\"1\" class=\"dataframe\">\n",
       "  <thead>\n",
       "    <tr>\n",
       "      <th></th>\n",
       "      <th></th>\n",
       "      <th colspan=\"7\" halign=\"left\">count</th>\n",
       "    </tr>\n",
       "    <tr>\n",
       "      <th></th>\n",
       "      <th>binned</th>\n",
       "      <th>0 a 10</th>\n",
       "      <th>0 a 20</th>\n",
       "      <th>20 a 30</th>\n",
       "      <th>30 a 40</th>\n",
       "      <th>40 a 50</th>\n",
       "      <th>50 a 70</th>\n",
       "      <th>70 a 10000</th>\n",
       "    </tr>\n",
       "    <tr>\n",
       "      <th>damage_grade</th>\n",
       "      <th>ground_floor_type</th>\n",
       "      <th></th>\n",
       "      <th></th>\n",
       "      <th></th>\n",
       "      <th></th>\n",
       "      <th></th>\n",
       "      <th></th>\n",
       "      <th></th>\n",
       "    </tr>\n",
       "  </thead>\n",
       "  <tbody>\n",
       "    <tr>\n",
       "      <th rowspan=\"5\" valign=\"top\">high</th>\n",
       "      <th>f</th>\n",
       "      <td>24077</td>\n",
       "      <td>21248</td>\n",
       "      <td>14272</td>\n",
       "      <td>7406</td>\n",
       "      <td>4212</td>\n",
       "      <td>3018</td>\n",
       "      <td>3035</td>\n",
       "    </tr>\n",
       "    <tr>\n",
       "      <th>m</th>\n",
       "      <td>20</td>\n",
       "      <td>17</td>\n",
       "      <td>17</td>\n",
       "      <td>9</td>\n",
       "      <td>7</td>\n",
       "      <td>1</td>\n",
       "      <td>4</td>\n",
       "    </tr>\n",
       "    <tr>\n",
       "      <th>v</th>\n",
       "      <td>623</td>\n",
       "      <td>354</td>\n",
       "      <td>194</td>\n",
       "      <td>88</td>\n",
       "      <td>34</td>\n",
       "      <td>13</td>\n",
       "      <td>7</td>\n",
       "    </tr>\n",
       "    <tr>\n",
       "      <th>x</th>\n",
       "      <td>2517</td>\n",
       "      <td>2310</td>\n",
       "      <td>1587</td>\n",
       "      <td>785</td>\n",
       "      <td>456</td>\n",
       "      <td>314</td>\n",
       "      <td>320</td>\n",
       "    </tr>\n",
       "    <tr>\n",
       "      <th>z</th>\n",
       "      <td>113</td>\n",
       "      <td>61</td>\n",
       "      <td>36</td>\n",
       "      <td>12</td>\n",
       "      <td>11</td>\n",
       "      <td>13</td>\n",
       "      <td>27</td>\n",
       "    </tr>\n",
       "    <tr>\n",
       "      <th rowspan=\"5\" valign=\"top\">low</th>\n",
       "      <th>f</th>\n",
       "      <td>7345</td>\n",
       "      <td>2798</td>\n",
       "      <td>1251</td>\n",
       "      <td>478</td>\n",
       "      <td>256</td>\n",
       "      <td>148</td>\n",
       "      <td>198</td>\n",
       "    </tr>\n",
       "    <tr>\n",
       "      <th>m</th>\n",
       "      <td>70</td>\n",
       "      <td>8</td>\n",
       "      <td>7</td>\n",
       "      <td>4</td>\n",
       "      <td>1</td>\n",
       "      <td>0</td>\n",
       "      <td>0</td>\n",
       "    </tr>\n",
       "    <tr>\n",
       "      <th>v</th>\n",
       "      <td>8293</td>\n",
       "      <td>1524</td>\n",
       "      <td>337</td>\n",
       "      <td>82</td>\n",
       "      <td>10</td>\n",
       "      <td>10</td>\n",
       "      <td>53</td>\n",
       "    </tr>\n",
       "    <tr>\n",
       "      <th>x</th>\n",
       "      <td>1301</td>\n",
       "      <td>467</td>\n",
       "      <td>170</td>\n",
       "      <td>69</td>\n",
       "      <td>22</td>\n",
       "      <td>11</td>\n",
       "      <td>12</td>\n",
       "    </tr>\n",
       "    <tr>\n",
       "      <th>z</th>\n",
       "      <td>154</td>\n",
       "      <td>35</td>\n",
       "      <td>6</td>\n",
       "      <td>2</td>\n",
       "      <td>1</td>\n",
       "      <td>0</td>\n",
       "      <td>1</td>\n",
       "    </tr>\n",
       "    <tr>\n",
       "      <th rowspan=\"5\" valign=\"top\">medium</th>\n",
       "      <th>f</th>\n",
       "      <td>40461</td>\n",
       "      <td>32417</td>\n",
       "      <td>20870</td>\n",
       "      <td>10545</td>\n",
       "      <td>6074</td>\n",
       "      <td>4627</td>\n",
       "      <td>4883</td>\n",
       "    </tr>\n",
       "    <tr>\n",
       "      <th>m</th>\n",
       "      <td>127</td>\n",
       "      <td>91</td>\n",
       "      <td>67</td>\n",
       "      <td>30</td>\n",
       "      <td>10</td>\n",
       "      <td>5</td>\n",
       "      <td>13</td>\n",
       "    </tr>\n",
       "    <tr>\n",
       "      <th>v</th>\n",
       "      <td>8186</td>\n",
       "      <td>2933</td>\n",
       "      <td>1118</td>\n",
       "      <td>414</td>\n",
       "      <td>131</td>\n",
       "      <td>53</td>\n",
       "      <td>136</td>\n",
       "    </tr>\n",
       "    <tr>\n",
       "      <th>x</th>\n",
       "      <td>5051</td>\n",
       "      <td>3823</td>\n",
       "      <td>2419</td>\n",
       "      <td>1328</td>\n",
       "      <td>728</td>\n",
       "      <td>518</td>\n",
       "      <td>669</td>\n",
       "    </tr>\n",
       "    <tr>\n",
       "      <th>z</th>\n",
       "      <td>296</td>\n",
       "      <td>106</td>\n",
       "      <td>43</td>\n",
       "      <td>17</td>\n",
       "      <td>15</td>\n",
       "      <td>12</td>\n",
       "      <td>43</td>\n",
       "    </tr>\n",
       "  </tbody>\n",
       "</table>\n",
       "</div>"
      ],
      "text/plain": [
       "                                count                                         \\\n",
       "binned                         0 a 10 0 a 20 20 a 30 30 a 40 40 a 50 50 a 70   \n",
       "damage_grade ground_floor_type                                                 \n",
       "high         f                  24077  21248   14272    7406    4212    3018   \n",
       "             m                     20     17      17       9       7       1   \n",
       "             v                    623    354     194      88      34      13   \n",
       "             x                   2517   2310    1587     785     456     314   \n",
       "             z                    113     61      36      12      11      13   \n",
       "low          f                   7345   2798    1251     478     256     148   \n",
       "             m                     70      8       7       4       1       0   \n",
       "             v                   8293   1524     337      82      10      10   \n",
       "             x                   1301    467     170      69      22      11   \n",
       "             z                    154     35       6       2       1       0   \n",
       "medium       f                  40461  32417   20870   10545    6074    4627   \n",
       "             m                    127     91      67      30      10       5   \n",
       "             v                   8186   2933    1118     414     131      53   \n",
       "             x                   5051   3823    2419    1328     728     518   \n",
       "             z                    296    106      43      17      15      12   \n",
       "\n",
       "                                           \n",
       "binned                         70 a 10000  \n",
       "damage_grade ground_floor_type             \n",
       "high         f                       3035  \n",
       "             m                          4  \n",
       "             v                          7  \n",
       "             x                        320  \n",
       "             z                         27  \n",
       "low          f                        198  \n",
       "             m                          0  \n",
       "             v                         53  \n",
       "             x                         12  \n",
       "             z                          1  \n",
       "medium       f                       4883  \n",
       "             m                         13  \n",
       "             v                        136  \n",
       "             x                        669  \n",
       "             z                         43  "
      ]
     },
     "execution_count": 11,
     "metadata": {},
     "output_type": "execute_result"
    }
   ],
   "source": [
    "g = df.groupby([\"damage_grade\",\"ground_floor_type\",\"binned\"]).agg(count=(\"geo_level_1_id\",\"count\")).unstack()\n",
    "g"
   ]
  },
  {
   "cell_type": "code",
   "execution_count": 12,
   "id": "baking-steering",
   "metadata": {},
   "outputs": [],
   "source": [
    "g.columns = g.columns.get_level_values(1)\n",
    "g.columns.name = None"
   ]
  },
  {
   "cell_type": "code",
   "execution_count": 13,
   "id": "pleased-wedding",
   "metadata": {},
   "outputs": [
    {
     "data": {
      "text/html": [
       "<div>\n",
       "<style scoped>\n",
       "    .dataframe tbody tr th:only-of-type {\n",
       "        vertical-align: middle;\n",
       "    }\n",
       "\n",
       "    .dataframe tbody tr th {\n",
       "        vertical-align: top;\n",
       "    }\n",
       "\n",
       "    .dataframe thead th {\n",
       "        text-align: right;\n",
       "    }\n",
       "</style>\n",
       "<table border=\"1\" class=\"dataframe\">\n",
       "  <thead>\n",
       "    <tr style=\"text-align: right;\">\n",
       "      <th></th>\n",
       "      <th></th>\n",
       "      <th>0 a 10</th>\n",
       "      <th>0 a 20</th>\n",
       "      <th>20 a 30</th>\n",
       "      <th>30 a 40</th>\n",
       "      <th>40 a 50</th>\n",
       "      <th>50 a 70</th>\n",
       "      <th>70 a 10000</th>\n",
       "    </tr>\n",
       "    <tr>\n",
       "      <th>damage_grade</th>\n",
       "      <th>ground_floor_type</th>\n",
       "      <th></th>\n",
       "      <th></th>\n",
       "      <th></th>\n",
       "      <th></th>\n",
       "      <th></th>\n",
       "      <th></th>\n",
       "      <th></th>\n",
       "    </tr>\n",
       "  </thead>\n",
       "  <tbody>\n",
       "    <tr>\n",
       "      <th rowspan=\"5\" valign=\"top\">high</th>\n",
       "      <th>f</th>\n",
       "      <td>24077</td>\n",
       "      <td>21248</td>\n",
       "      <td>14272</td>\n",
       "      <td>7406</td>\n",
       "      <td>4212</td>\n",
       "      <td>3018</td>\n",
       "      <td>3035</td>\n",
       "    </tr>\n",
       "    <tr>\n",
       "      <th>m</th>\n",
       "      <td>20</td>\n",
       "      <td>17</td>\n",
       "      <td>17</td>\n",
       "      <td>9</td>\n",
       "      <td>7</td>\n",
       "      <td>1</td>\n",
       "      <td>4</td>\n",
       "    </tr>\n",
       "    <tr>\n",
       "      <th>v</th>\n",
       "      <td>623</td>\n",
       "      <td>354</td>\n",
       "      <td>194</td>\n",
       "      <td>88</td>\n",
       "      <td>34</td>\n",
       "      <td>13</td>\n",
       "      <td>7</td>\n",
       "    </tr>\n",
       "    <tr>\n",
       "      <th>x</th>\n",
       "      <td>2517</td>\n",
       "      <td>2310</td>\n",
       "      <td>1587</td>\n",
       "      <td>785</td>\n",
       "      <td>456</td>\n",
       "      <td>314</td>\n",
       "      <td>320</td>\n",
       "    </tr>\n",
       "    <tr>\n",
       "      <th>z</th>\n",
       "      <td>113</td>\n",
       "      <td>61</td>\n",
       "      <td>36</td>\n",
       "      <td>12</td>\n",
       "      <td>11</td>\n",
       "      <td>13</td>\n",
       "      <td>27</td>\n",
       "    </tr>\n",
       "    <tr>\n",
       "      <th rowspan=\"5\" valign=\"top\">low</th>\n",
       "      <th>f</th>\n",
       "      <td>7345</td>\n",
       "      <td>2798</td>\n",
       "      <td>1251</td>\n",
       "      <td>478</td>\n",
       "      <td>256</td>\n",
       "      <td>148</td>\n",
       "      <td>198</td>\n",
       "    </tr>\n",
       "    <tr>\n",
       "      <th>m</th>\n",
       "      <td>70</td>\n",
       "      <td>8</td>\n",
       "      <td>7</td>\n",
       "      <td>4</td>\n",
       "      <td>1</td>\n",
       "      <td>0</td>\n",
       "      <td>0</td>\n",
       "    </tr>\n",
       "    <tr>\n",
       "      <th>v</th>\n",
       "      <td>8293</td>\n",
       "      <td>1524</td>\n",
       "      <td>337</td>\n",
       "      <td>82</td>\n",
       "      <td>10</td>\n",
       "      <td>10</td>\n",
       "      <td>53</td>\n",
       "    </tr>\n",
       "    <tr>\n",
       "      <th>x</th>\n",
       "      <td>1301</td>\n",
       "      <td>467</td>\n",
       "      <td>170</td>\n",
       "      <td>69</td>\n",
       "      <td>22</td>\n",
       "      <td>11</td>\n",
       "      <td>12</td>\n",
       "    </tr>\n",
       "    <tr>\n",
       "      <th>z</th>\n",
       "      <td>154</td>\n",
       "      <td>35</td>\n",
       "      <td>6</td>\n",
       "      <td>2</td>\n",
       "      <td>1</td>\n",
       "      <td>0</td>\n",
       "      <td>1</td>\n",
       "    </tr>\n",
       "    <tr>\n",
       "      <th rowspan=\"5\" valign=\"top\">medium</th>\n",
       "      <th>f</th>\n",
       "      <td>40461</td>\n",
       "      <td>32417</td>\n",
       "      <td>20870</td>\n",
       "      <td>10545</td>\n",
       "      <td>6074</td>\n",
       "      <td>4627</td>\n",
       "      <td>4883</td>\n",
       "    </tr>\n",
       "    <tr>\n",
       "      <th>m</th>\n",
       "      <td>127</td>\n",
       "      <td>91</td>\n",
       "      <td>67</td>\n",
       "      <td>30</td>\n",
       "      <td>10</td>\n",
       "      <td>5</td>\n",
       "      <td>13</td>\n",
       "    </tr>\n",
       "    <tr>\n",
       "      <th>v</th>\n",
       "      <td>8186</td>\n",
       "      <td>2933</td>\n",
       "      <td>1118</td>\n",
       "      <td>414</td>\n",
       "      <td>131</td>\n",
       "      <td>53</td>\n",
       "      <td>136</td>\n",
       "    </tr>\n",
       "    <tr>\n",
       "      <th>x</th>\n",
       "      <td>5051</td>\n",
       "      <td>3823</td>\n",
       "      <td>2419</td>\n",
       "      <td>1328</td>\n",
       "      <td>728</td>\n",
       "      <td>518</td>\n",
       "      <td>669</td>\n",
       "    </tr>\n",
       "    <tr>\n",
       "      <th>z</th>\n",
       "      <td>296</td>\n",
       "      <td>106</td>\n",
       "      <td>43</td>\n",
       "      <td>17</td>\n",
       "      <td>15</td>\n",
       "      <td>12</td>\n",
       "      <td>43</td>\n",
       "    </tr>\n",
       "  </tbody>\n",
       "</table>\n",
       "</div>"
      ],
      "text/plain": [
       "                                0 a 10  0 a 20  20 a 30  30 a 40  40 a 50  \\\n",
       "damage_grade ground_floor_type                                              \n",
       "high         f                   24077   21248    14272     7406     4212   \n",
       "             m                      20      17       17        9        7   \n",
       "             v                     623     354      194       88       34   \n",
       "             x                    2517    2310     1587      785      456   \n",
       "             z                     113      61       36       12       11   \n",
       "low          f                    7345    2798     1251      478      256   \n",
       "             m                      70       8        7        4        1   \n",
       "             v                    8293    1524      337       82       10   \n",
       "             x                    1301     467      170       69       22   \n",
       "             z                     154      35        6        2        1   \n",
       "medium       f                   40461   32417    20870    10545     6074   \n",
       "             m                     127      91       67       30       10   \n",
       "             v                    8186    2933     1118      414      131   \n",
       "             x                    5051    3823     2419     1328      728   \n",
       "             z                     296     106       43       17       15   \n",
       "\n",
       "                                50 a 70  70 a 10000  \n",
       "damage_grade ground_floor_type                       \n",
       "high         f                     3018        3035  \n",
       "             m                        1           4  \n",
       "             v                       13           7  \n",
       "             x                      314         320  \n",
       "             z                       13          27  \n",
       "low          f                      148         198  \n",
       "             m                        0           0  \n",
       "             v                       10          53  \n",
       "             x                       11          12  \n",
       "             z                        0           1  \n",
       "medium       f                     4627        4883  \n",
       "             m                        5          13  \n",
       "             v                       53         136  \n",
       "             x                      518         669  \n",
       "             z                       12          43  "
      ]
     },
     "execution_count": 13,
     "metadata": {},
     "output_type": "execute_result"
    }
   ],
   "source": [
    "g"
   ]
  },
  {
   "cell_type": "markdown",
   "id": "independent-helena",
   "metadata": {},
   "source": [
    "# los levels id son como decir comuna, barrio y no se, calles"
   ]
  },
  {
   "cell_type": "code",
   "execution_count": 14,
   "id": "novel-dialogue",
   "metadata": {},
   "outputs": [
    {
     "data": {
      "text/html": [
       "<div>\n",
       "<style scoped>\n",
       "    .dataframe tbody tr th:only-of-type {\n",
       "        vertical-align: middle;\n",
       "    }\n",
       "\n",
       "    .dataframe tbody tr th {\n",
       "        vertical-align: top;\n",
       "    }\n",
       "\n",
       "    .dataframe thead th {\n",
       "        text-align: right;\n",
       "    }\n",
       "</style>\n",
       "<table border=\"1\" class=\"dataframe\">\n",
       "  <thead>\n",
       "    <tr style=\"text-align: right;\">\n",
       "      <th></th>\n",
       "      <th></th>\n",
       "      <th>building_id</th>\n",
       "      <th>geo_level_2_id</th>\n",
       "      <th>geo_level_3_id</th>\n",
       "      <th>count_floors_pre_eq</th>\n",
       "      <th>age</th>\n",
       "      <th>area_percentage</th>\n",
       "      <th>height_percentage</th>\n",
       "      <th>land_surface_condition</th>\n",
       "      <th>foundation_type</th>\n",
       "      <th>roof_type</th>\n",
       "      <th>...</th>\n",
       "      <th>has_secondary_use_hotel</th>\n",
       "      <th>has_secondary_use_rental</th>\n",
       "      <th>has_secondary_use_institution</th>\n",
       "      <th>has_secondary_use_school</th>\n",
       "      <th>has_secondary_use_industry</th>\n",
       "      <th>has_secondary_use_health_post</th>\n",
       "      <th>has_secondary_use_gov_office</th>\n",
       "      <th>has_secondary_use_use_police</th>\n",
       "      <th>has_secondary_use_other</th>\n",
       "      <th>binned</th>\n",
       "    </tr>\n",
       "    <tr>\n",
       "      <th>damage_grade</th>\n",
       "      <th>geo_level_1_id</th>\n",
       "      <th></th>\n",
       "      <th></th>\n",
       "      <th></th>\n",
       "      <th></th>\n",
       "      <th></th>\n",
       "      <th></th>\n",
       "      <th></th>\n",
       "      <th></th>\n",
       "      <th></th>\n",
       "      <th></th>\n",
       "      <th></th>\n",
       "      <th></th>\n",
       "      <th></th>\n",
       "      <th></th>\n",
       "      <th></th>\n",
       "      <th></th>\n",
       "      <th></th>\n",
       "      <th></th>\n",
       "      <th></th>\n",
       "      <th></th>\n",
       "      <th></th>\n",
       "    </tr>\n",
       "  </thead>\n",
       "  <tbody>\n",
       "    <tr>\n",
       "      <th rowspan=\"5\" valign=\"top\">high</th>\n",
       "      <th>0</th>\n",
       "      <td>599</td>\n",
       "      <td>599</td>\n",
       "      <td>599</td>\n",
       "      <td>599</td>\n",
       "      <td>599</td>\n",
       "      <td>599</td>\n",
       "      <td>599</td>\n",
       "      <td>599</td>\n",
       "      <td>599</td>\n",
       "      <td>599</td>\n",
       "      <td>...</td>\n",
       "      <td>599</td>\n",
       "      <td>599</td>\n",
       "      <td>599</td>\n",
       "      <td>599</td>\n",
       "      <td>599</td>\n",
       "      <td>599</td>\n",
       "      <td>599</td>\n",
       "      <td>599</td>\n",
       "      <td>599</td>\n",
       "      <td>599</td>\n",
       "    </tr>\n",
       "    <tr>\n",
       "      <th>1</th>\n",
       "      <td>305</td>\n",
       "      <td>305</td>\n",
       "      <td>305</td>\n",
       "      <td>305</td>\n",
       "      <td>305</td>\n",
       "      <td>305</td>\n",
       "      <td>305</td>\n",
       "      <td>305</td>\n",
       "      <td>305</td>\n",
       "      <td>305</td>\n",
       "      <td>...</td>\n",
       "      <td>305</td>\n",
       "      <td>305</td>\n",
       "      <td>305</td>\n",
       "      <td>305</td>\n",
       "      <td>305</td>\n",
       "      <td>305</td>\n",
       "      <td>305</td>\n",
       "      <td>305</td>\n",
       "      <td>305</td>\n",
       "      <td>305</td>\n",
       "    </tr>\n",
       "    <tr>\n",
       "      <th>2</th>\n",
       "      <td>236</td>\n",
       "      <td>236</td>\n",
       "      <td>236</td>\n",
       "      <td>236</td>\n",
       "      <td>236</td>\n",
       "      <td>236</td>\n",
       "      <td>236</td>\n",
       "      <td>236</td>\n",
       "      <td>236</td>\n",
       "      <td>236</td>\n",
       "      <td>...</td>\n",
       "      <td>236</td>\n",
       "      <td>236</td>\n",
       "      <td>236</td>\n",
       "      <td>236</td>\n",
       "      <td>236</td>\n",
       "      <td>236</td>\n",
       "      <td>236</td>\n",
       "      <td>236</td>\n",
       "      <td>236</td>\n",
       "      <td>236</td>\n",
       "    </tr>\n",
       "    <tr>\n",
       "      <th>3</th>\n",
       "      <td>2745</td>\n",
       "      <td>2745</td>\n",
       "      <td>2745</td>\n",
       "      <td>2745</td>\n",
       "      <td>2745</td>\n",
       "      <td>2745</td>\n",
       "      <td>2745</td>\n",
       "      <td>2745</td>\n",
       "      <td>2745</td>\n",
       "      <td>2745</td>\n",
       "      <td>...</td>\n",
       "      <td>2745</td>\n",
       "      <td>2745</td>\n",
       "      <td>2745</td>\n",
       "      <td>2745</td>\n",
       "      <td>2745</td>\n",
       "      <td>2745</td>\n",
       "      <td>2745</td>\n",
       "      <td>2745</td>\n",
       "      <td>2745</td>\n",
       "      <td>2745</td>\n",
       "    </tr>\n",
       "    <tr>\n",
       "      <th>4</th>\n",
       "      <td>2883</td>\n",
       "      <td>2883</td>\n",
       "      <td>2883</td>\n",
       "      <td>2883</td>\n",
       "      <td>2883</td>\n",
       "      <td>2883</td>\n",
       "      <td>2883</td>\n",
       "      <td>2883</td>\n",
       "      <td>2883</td>\n",
       "      <td>2883</td>\n",
       "      <td>...</td>\n",
       "      <td>2883</td>\n",
       "      <td>2883</td>\n",
       "      <td>2883</td>\n",
       "      <td>2883</td>\n",
       "      <td>2883</td>\n",
       "      <td>2883</td>\n",
       "      <td>2883</td>\n",
       "      <td>2883</td>\n",
       "      <td>2883</td>\n",
       "      <td>2883</td>\n",
       "    </tr>\n",
       "    <tr>\n",
       "      <th>...</th>\n",
       "      <th>...</th>\n",
       "      <td>...</td>\n",
       "      <td>...</td>\n",
       "      <td>...</td>\n",
       "      <td>...</td>\n",
       "      <td>...</td>\n",
       "      <td>...</td>\n",
       "      <td>...</td>\n",
       "      <td>...</td>\n",
       "      <td>...</td>\n",
       "      <td>...</td>\n",
       "      <td>...</td>\n",
       "      <td>...</td>\n",
       "      <td>...</td>\n",
       "      <td>...</td>\n",
       "      <td>...</td>\n",
       "      <td>...</td>\n",
       "      <td>...</td>\n",
       "      <td>...</td>\n",
       "      <td>...</td>\n",
       "      <td>...</td>\n",
       "      <td>...</td>\n",
       "    </tr>\n",
       "    <tr>\n",
       "      <th rowspan=\"5\" valign=\"top\">medium</th>\n",
       "      <th>26</th>\n",
       "      <td>12645</td>\n",
       "      <td>12645</td>\n",
       "      <td>12645</td>\n",
       "      <td>12645</td>\n",
       "      <td>12645</td>\n",
       "      <td>12645</td>\n",
       "      <td>12645</td>\n",
       "      <td>12645</td>\n",
       "      <td>12645</td>\n",
       "      <td>12645</td>\n",
       "      <td>...</td>\n",
       "      <td>12645</td>\n",
       "      <td>12645</td>\n",
       "      <td>12645</td>\n",
       "      <td>12645</td>\n",
       "      <td>12645</td>\n",
       "      <td>12645</td>\n",
       "      <td>12645</td>\n",
       "      <td>12645</td>\n",
       "      <td>12645</td>\n",
       "      <td>12645</td>\n",
       "    </tr>\n",
       "    <tr>\n",
       "      <th>27</th>\n",
       "      <td>6007</td>\n",
       "      <td>6007</td>\n",
       "      <td>6007</td>\n",
       "      <td>6007</td>\n",
       "      <td>6007</td>\n",
       "      <td>6007</td>\n",
       "      <td>6007</td>\n",
       "      <td>6007</td>\n",
       "      <td>6007</td>\n",
       "      <td>6007</td>\n",
       "      <td>...</td>\n",
       "      <td>6007</td>\n",
       "      <td>6007</td>\n",
       "      <td>6007</td>\n",
       "      <td>6007</td>\n",
       "      <td>6007</td>\n",
       "      <td>6007</td>\n",
       "      <td>6007</td>\n",
       "      <td>6007</td>\n",
       "      <td>6007</td>\n",
       "      <td>6007</td>\n",
       "    </tr>\n",
       "    <tr>\n",
       "      <th>28</th>\n",
       "      <td>157</td>\n",
       "      <td>157</td>\n",
       "      <td>157</td>\n",
       "      <td>157</td>\n",
       "      <td>157</td>\n",
       "      <td>157</td>\n",
       "      <td>157</td>\n",
       "      <td>157</td>\n",
       "      <td>157</td>\n",
       "      <td>157</td>\n",
       "      <td>...</td>\n",
       "      <td>157</td>\n",
       "      <td>157</td>\n",
       "      <td>157</td>\n",
       "      <td>157</td>\n",
       "      <td>157</td>\n",
       "      <td>157</td>\n",
       "      <td>157</td>\n",
       "      <td>157</td>\n",
       "      <td>157</td>\n",
       "      <td>157</td>\n",
       "    </tr>\n",
       "    <tr>\n",
       "      <th>29</th>\n",
       "      <td>349</td>\n",
       "      <td>349</td>\n",
       "      <td>349</td>\n",
       "      <td>349</td>\n",
       "      <td>349</td>\n",
       "      <td>349</td>\n",
       "      <td>349</td>\n",
       "      <td>349</td>\n",
       "      <td>349</td>\n",
       "      <td>349</td>\n",
       "      <td>...</td>\n",
       "      <td>349</td>\n",
       "      <td>349</td>\n",
       "      <td>349</td>\n",
       "      <td>349</td>\n",
       "      <td>349</td>\n",
       "      <td>349</td>\n",
       "      <td>349</td>\n",
       "      <td>349</td>\n",
       "      <td>349</td>\n",
       "      <td>349</td>\n",
       "    </tr>\n",
       "    <tr>\n",
       "      <th>30</th>\n",
       "      <td>2127</td>\n",
       "      <td>2127</td>\n",
       "      <td>2127</td>\n",
       "      <td>2127</td>\n",
       "      <td>2127</td>\n",
       "      <td>2127</td>\n",
       "      <td>2127</td>\n",
       "      <td>2127</td>\n",
       "      <td>2127</td>\n",
       "      <td>2127</td>\n",
       "      <td>...</td>\n",
       "      <td>2127</td>\n",
       "      <td>2127</td>\n",
       "      <td>2127</td>\n",
       "      <td>2127</td>\n",
       "      <td>2127</td>\n",
       "      <td>2127</td>\n",
       "      <td>2127</td>\n",
       "      <td>2127</td>\n",
       "      <td>2127</td>\n",
       "      <td>2127</td>\n",
       "    </tr>\n",
       "  </tbody>\n",
       "</table>\n",
       "<p>92 rows × 39 columns</p>\n",
       "</div>"
      ],
      "text/plain": [
       "                             building_id  geo_level_2_id  geo_level_3_id  \\\n",
       "damage_grade geo_level_1_id                                                \n",
       "high         0                       599             599             599   \n",
       "             1                       305             305             305   \n",
       "             2                       236             236             236   \n",
       "             3                      2745            2745            2745   \n",
       "             4                      2883            2883            2883   \n",
       "...                                  ...             ...             ...   \n",
       "medium       26                    12645           12645           12645   \n",
       "             27                     6007            6007            6007   \n",
       "             28                      157             157             157   \n",
       "             29                      349             349             349   \n",
       "             30                     2127            2127            2127   \n",
       "\n",
       "                             count_floors_pre_eq    age  area_percentage  \\\n",
       "damage_grade geo_level_1_id                                                \n",
       "high         0                               599    599              599   \n",
       "             1                               305    305              305   \n",
       "             2                               236    236              236   \n",
       "             3                              2745   2745             2745   \n",
       "             4                              2883   2883             2883   \n",
       "...                                          ...    ...              ...   \n",
       "medium       26                            12645  12645            12645   \n",
       "             27                             6007   6007             6007   \n",
       "             28                              157    157              157   \n",
       "             29                              349    349              349   \n",
       "             30                             2127   2127             2127   \n",
       "\n",
       "                             height_percentage  land_surface_condition  \\\n",
       "damage_grade geo_level_1_id                                              \n",
       "high         0                             599                     599   \n",
       "             1                             305                     305   \n",
       "             2                             236                     236   \n",
       "             3                            2745                    2745   \n",
       "             4                            2883                    2883   \n",
       "...                                        ...                     ...   \n",
       "medium       26                          12645                   12645   \n",
       "             27                           6007                    6007   \n",
       "             28                            157                     157   \n",
       "             29                            349                     349   \n",
       "             30                           2127                    2127   \n",
       "\n",
       "                             foundation_type  roof_type  ...  \\\n",
       "damage_grade geo_level_1_id                              ...   \n",
       "high         0                           599        599  ...   \n",
       "             1                           305        305  ...   \n",
       "             2                           236        236  ...   \n",
       "             3                          2745       2745  ...   \n",
       "             4                          2883       2883  ...   \n",
       "...                                      ...        ...  ...   \n",
       "medium       26                        12645      12645  ...   \n",
       "             27                         6007       6007  ...   \n",
       "             28                          157        157  ...   \n",
       "             29                          349        349  ...   \n",
       "             30                         2127       2127  ...   \n",
       "\n",
       "                             has_secondary_use_hotel  \\\n",
       "damage_grade geo_level_1_id                            \n",
       "high         0                                   599   \n",
       "             1                                   305   \n",
       "             2                                   236   \n",
       "             3                                  2745   \n",
       "             4                                  2883   \n",
       "...                                              ...   \n",
       "medium       26                                12645   \n",
       "             27                                 6007   \n",
       "             28                                  157   \n",
       "             29                                  349   \n",
       "             30                                 2127   \n",
       "\n",
       "                             has_secondary_use_rental  \\\n",
       "damage_grade geo_level_1_id                             \n",
       "high         0                                    599   \n",
       "             1                                    305   \n",
       "             2                                    236   \n",
       "             3                                   2745   \n",
       "             4                                   2883   \n",
       "...                                               ...   \n",
       "medium       26                                 12645   \n",
       "             27                                  6007   \n",
       "             28                                   157   \n",
       "             29                                   349   \n",
       "             30                                  2127   \n",
       "\n",
       "                             has_secondary_use_institution  \\\n",
       "damage_grade geo_level_1_id                                  \n",
       "high         0                                         599   \n",
       "             1                                         305   \n",
       "             2                                         236   \n",
       "             3                                        2745   \n",
       "             4                                        2883   \n",
       "...                                                    ...   \n",
       "medium       26                                      12645   \n",
       "             27                                       6007   \n",
       "             28                                        157   \n",
       "             29                                        349   \n",
       "             30                                       2127   \n",
       "\n",
       "                             has_secondary_use_school  \\\n",
       "damage_grade geo_level_1_id                             \n",
       "high         0                                    599   \n",
       "             1                                    305   \n",
       "             2                                    236   \n",
       "             3                                   2745   \n",
       "             4                                   2883   \n",
       "...                                               ...   \n",
       "medium       26                                 12645   \n",
       "             27                                  6007   \n",
       "             28                                   157   \n",
       "             29                                   349   \n",
       "             30                                  2127   \n",
       "\n",
       "                             has_secondary_use_industry  \\\n",
       "damage_grade geo_level_1_id                               \n",
       "high         0                                      599   \n",
       "             1                                      305   \n",
       "             2                                      236   \n",
       "             3                                     2745   \n",
       "             4                                     2883   \n",
       "...                                                 ...   \n",
       "medium       26                                   12645   \n",
       "             27                                    6007   \n",
       "             28                                     157   \n",
       "             29                                     349   \n",
       "             30                                    2127   \n",
       "\n",
       "                             has_secondary_use_health_post  \\\n",
       "damage_grade geo_level_1_id                                  \n",
       "high         0                                         599   \n",
       "             1                                         305   \n",
       "             2                                         236   \n",
       "             3                                        2745   \n",
       "             4                                        2883   \n",
       "...                                                    ...   \n",
       "medium       26                                      12645   \n",
       "             27                                       6007   \n",
       "             28                                        157   \n",
       "             29                                        349   \n",
       "             30                                       2127   \n",
       "\n",
       "                             has_secondary_use_gov_office  \\\n",
       "damage_grade geo_level_1_id                                 \n",
       "high         0                                        599   \n",
       "             1                                        305   \n",
       "             2                                        236   \n",
       "             3                                       2745   \n",
       "             4                                       2883   \n",
       "...                                                   ...   \n",
       "medium       26                                     12645   \n",
       "             27                                      6007   \n",
       "             28                                       157   \n",
       "             29                                       349   \n",
       "             30                                      2127   \n",
       "\n",
       "                             has_secondary_use_use_police  \\\n",
       "damage_grade geo_level_1_id                                 \n",
       "high         0                                        599   \n",
       "             1                                        305   \n",
       "             2                                        236   \n",
       "             3                                       2745   \n",
       "             4                                       2883   \n",
       "...                                                   ...   \n",
       "medium       26                                     12645   \n",
       "             27                                      6007   \n",
       "             28                                       157   \n",
       "             29                                       349   \n",
       "             30                                      2127   \n",
       "\n",
       "                             has_secondary_use_other  binned  \n",
       "damage_grade geo_level_1_id                                   \n",
       "high         0                                   599     599  \n",
       "             1                                   305     305  \n",
       "             2                                   236     236  \n",
       "             3                                  2745    2745  \n",
       "             4                                  2883    2883  \n",
       "...                                              ...     ...  \n",
       "medium       26                                12645   12645  \n",
       "             27                                 6007    6007  \n",
       "             28                                  157     157  \n",
       "             29                                  349     349  \n",
       "             30                                 2127    2127  \n",
       "\n",
       "[92 rows x 39 columns]"
      ]
     },
     "execution_count": 14,
     "metadata": {},
     "output_type": "execute_result"
    }
   ],
   "source": [
    "df.groupby([\"damage_grade\",\"geo_level_1_id\"]).agg(\"count\")"
   ]
  },
  {
   "cell_type": "code",
   "execution_count": 15,
   "id": "violent-surrey",
   "metadata": {},
   "outputs": [
    {
     "data": {
      "text/html": [
       "<div>\n",
       "<style scoped>\n",
       "    .dataframe tbody tr th:only-of-type {\n",
       "        vertical-align: middle;\n",
       "    }\n",
       "\n",
       "    .dataframe tbody tr th {\n",
       "        vertical-align: top;\n",
       "    }\n",
       "\n",
       "    .dataframe thead th {\n",
       "        text-align: right;\n",
       "    }\n",
       "</style>\n",
       "<table border=\"1\" class=\"dataframe\">\n",
       "  <thead>\n",
       "    <tr style=\"text-align: right;\">\n",
       "      <th></th>\n",
       "      <th></th>\n",
       "      <th>building_id</th>\n",
       "      <th>geo_level_1_id</th>\n",
       "      <th>geo_level_3_id</th>\n",
       "      <th>count_floors_pre_eq</th>\n",
       "      <th>age</th>\n",
       "      <th>area_percentage</th>\n",
       "      <th>height_percentage</th>\n",
       "      <th>land_surface_condition</th>\n",
       "      <th>foundation_type</th>\n",
       "      <th>roof_type</th>\n",
       "      <th>...</th>\n",
       "      <th>has_secondary_use_hotel</th>\n",
       "      <th>has_secondary_use_rental</th>\n",
       "      <th>has_secondary_use_institution</th>\n",
       "      <th>has_secondary_use_school</th>\n",
       "      <th>has_secondary_use_industry</th>\n",
       "      <th>has_secondary_use_health_post</th>\n",
       "      <th>has_secondary_use_gov_office</th>\n",
       "      <th>has_secondary_use_use_police</th>\n",
       "      <th>has_secondary_use_other</th>\n",
       "      <th>binned</th>\n",
       "    </tr>\n",
       "    <tr>\n",
       "      <th>damage_grade</th>\n",
       "      <th>geo_level_2_id</th>\n",
       "      <th></th>\n",
       "      <th></th>\n",
       "      <th></th>\n",
       "      <th></th>\n",
       "      <th></th>\n",
       "      <th></th>\n",
       "      <th></th>\n",
       "      <th></th>\n",
       "      <th></th>\n",
       "      <th></th>\n",
       "      <th></th>\n",
       "      <th></th>\n",
       "      <th></th>\n",
       "      <th></th>\n",
       "      <th></th>\n",
       "      <th></th>\n",
       "      <th></th>\n",
       "      <th></th>\n",
       "      <th></th>\n",
       "      <th></th>\n",
       "      <th></th>\n",
       "    </tr>\n",
       "  </thead>\n",
       "  <tbody>\n",
       "    <tr>\n",
       "      <th rowspan=\"5\" valign=\"top\">high</th>\n",
       "      <th>0</th>\n",
       "      <td>29</td>\n",
       "      <td>29</td>\n",
       "      <td>29</td>\n",
       "      <td>29</td>\n",
       "      <td>29</td>\n",
       "      <td>29</td>\n",
       "      <td>29</td>\n",
       "      <td>29</td>\n",
       "      <td>29</td>\n",
       "      <td>29</td>\n",
       "      <td>...</td>\n",
       "      <td>29</td>\n",
       "      <td>29</td>\n",
       "      <td>29</td>\n",
       "      <td>29</td>\n",
       "      <td>29</td>\n",
       "      <td>29</td>\n",
       "      <td>29</td>\n",
       "      <td>29</td>\n",
       "      <td>29</td>\n",
       "      <td>29</td>\n",
       "    </tr>\n",
       "    <tr>\n",
       "      <th>1</th>\n",
       "      <td>71</td>\n",
       "      <td>71</td>\n",
       "      <td>71</td>\n",
       "      <td>71</td>\n",
       "      <td>71</td>\n",
       "      <td>71</td>\n",
       "      <td>71</td>\n",
       "      <td>71</td>\n",
       "      <td>71</td>\n",
       "      <td>71</td>\n",
       "      <td>...</td>\n",
       "      <td>71</td>\n",
       "      <td>71</td>\n",
       "      <td>71</td>\n",
       "      <td>71</td>\n",
       "      <td>71</td>\n",
       "      <td>71</td>\n",
       "      <td>71</td>\n",
       "      <td>71</td>\n",
       "      <td>71</td>\n",
       "      <td>71</td>\n",
       "    </tr>\n",
       "    <tr>\n",
       "      <th>3</th>\n",
       "      <td>13</td>\n",
       "      <td>13</td>\n",
       "      <td>13</td>\n",
       "      <td>13</td>\n",
       "      <td>13</td>\n",
       "      <td>13</td>\n",
       "      <td>13</td>\n",
       "      <td>13</td>\n",
       "      <td>13</td>\n",
       "      <td>13</td>\n",
       "      <td>...</td>\n",
       "      <td>13</td>\n",
       "      <td>13</td>\n",
       "      <td>13</td>\n",
       "      <td>13</td>\n",
       "      <td>13</td>\n",
       "      <td>13</td>\n",
       "      <td>13</td>\n",
       "      <td>13</td>\n",
       "      <td>13</td>\n",
       "      <td>13</td>\n",
       "    </tr>\n",
       "    <tr>\n",
       "      <th>4</th>\n",
       "      <td>166</td>\n",
       "      <td>166</td>\n",
       "      <td>166</td>\n",
       "      <td>166</td>\n",
       "      <td>166</td>\n",
       "      <td>166</td>\n",
       "      <td>166</td>\n",
       "      <td>166</td>\n",
       "      <td>166</td>\n",
       "      <td>166</td>\n",
       "      <td>...</td>\n",
       "      <td>166</td>\n",
       "      <td>166</td>\n",
       "      <td>166</td>\n",
       "      <td>166</td>\n",
       "      <td>166</td>\n",
       "      <td>166</td>\n",
       "      <td>166</td>\n",
       "      <td>166</td>\n",
       "      <td>166</td>\n",
       "      <td>166</td>\n",
       "    </tr>\n",
       "    <tr>\n",
       "      <th>5</th>\n",
       "      <td>4</td>\n",
       "      <td>4</td>\n",
       "      <td>4</td>\n",
       "      <td>4</td>\n",
       "      <td>4</td>\n",
       "      <td>4</td>\n",
       "      <td>4</td>\n",
       "      <td>4</td>\n",
       "      <td>4</td>\n",
       "      <td>4</td>\n",
       "      <td>...</td>\n",
       "      <td>4</td>\n",
       "      <td>4</td>\n",
       "      <td>4</td>\n",
       "      <td>4</td>\n",
       "      <td>4</td>\n",
       "      <td>4</td>\n",
       "      <td>4</td>\n",
       "      <td>4</td>\n",
       "      <td>4</td>\n",
       "      <td>4</td>\n",
       "    </tr>\n",
       "    <tr>\n",
       "      <th>...</th>\n",
       "      <th>...</th>\n",
       "      <td>...</td>\n",
       "      <td>...</td>\n",
       "      <td>...</td>\n",
       "      <td>...</td>\n",
       "      <td>...</td>\n",
       "      <td>...</td>\n",
       "      <td>...</td>\n",
       "      <td>...</td>\n",
       "      <td>...</td>\n",
       "      <td>...</td>\n",
       "      <td>...</td>\n",
       "      <td>...</td>\n",
       "      <td>...</td>\n",
       "      <td>...</td>\n",
       "      <td>...</td>\n",
       "      <td>...</td>\n",
       "      <td>...</td>\n",
       "      <td>...</td>\n",
       "      <td>...</td>\n",
       "      <td>...</td>\n",
       "      <td>...</td>\n",
       "    </tr>\n",
       "    <tr>\n",
       "      <th rowspan=\"5\" valign=\"top\">medium</th>\n",
       "      <th>1423</th>\n",
       "      <td>3</td>\n",
       "      <td>3</td>\n",
       "      <td>3</td>\n",
       "      <td>3</td>\n",
       "      <td>3</td>\n",
       "      <td>3</td>\n",
       "      <td>3</td>\n",
       "      <td>3</td>\n",
       "      <td>3</td>\n",
       "      <td>3</td>\n",
       "      <td>...</td>\n",
       "      <td>3</td>\n",
       "      <td>3</td>\n",
       "      <td>3</td>\n",
       "      <td>3</td>\n",
       "      <td>3</td>\n",
       "      <td>3</td>\n",
       "      <td>3</td>\n",
       "      <td>3</td>\n",
       "      <td>3</td>\n",
       "      <td>3</td>\n",
       "    </tr>\n",
       "    <tr>\n",
       "      <th>1424</th>\n",
       "      <td>7</td>\n",
       "      <td>7</td>\n",
       "      <td>7</td>\n",
       "      <td>7</td>\n",
       "      <td>7</td>\n",
       "      <td>7</td>\n",
       "      <td>7</td>\n",
       "      <td>7</td>\n",
       "      <td>7</td>\n",
       "      <td>7</td>\n",
       "      <td>...</td>\n",
       "      <td>7</td>\n",
       "      <td>7</td>\n",
       "      <td>7</td>\n",
       "      <td>7</td>\n",
       "      <td>7</td>\n",
       "      <td>7</td>\n",
       "      <td>7</td>\n",
       "      <td>7</td>\n",
       "      <td>7</td>\n",
       "      <td>7</td>\n",
       "    </tr>\n",
       "    <tr>\n",
       "      <th>1425</th>\n",
       "      <td>138</td>\n",
       "      <td>138</td>\n",
       "      <td>138</td>\n",
       "      <td>138</td>\n",
       "      <td>138</td>\n",
       "      <td>138</td>\n",
       "      <td>138</td>\n",
       "      <td>138</td>\n",
       "      <td>138</td>\n",
       "      <td>138</td>\n",
       "      <td>...</td>\n",
       "      <td>138</td>\n",
       "      <td>138</td>\n",
       "      <td>138</td>\n",
       "      <td>138</td>\n",
       "      <td>138</td>\n",
       "      <td>138</td>\n",
       "      <td>138</td>\n",
       "      <td>138</td>\n",
       "      <td>138</td>\n",
       "      <td>138</td>\n",
       "    </tr>\n",
       "    <tr>\n",
       "      <th>1426</th>\n",
       "      <td>53</td>\n",
       "      <td>53</td>\n",
       "      <td>53</td>\n",
       "      <td>53</td>\n",
       "      <td>53</td>\n",
       "      <td>53</td>\n",
       "      <td>53</td>\n",
       "      <td>53</td>\n",
       "      <td>53</td>\n",
       "      <td>53</td>\n",
       "      <td>...</td>\n",
       "      <td>53</td>\n",
       "      <td>53</td>\n",
       "      <td>53</td>\n",
       "      <td>53</td>\n",
       "      <td>53</td>\n",
       "      <td>53</td>\n",
       "      <td>53</td>\n",
       "      <td>53</td>\n",
       "      <td>53</td>\n",
       "      <td>53</td>\n",
       "    </tr>\n",
       "    <tr>\n",
       "      <th>1427</th>\n",
       "      <td>1</td>\n",
       "      <td>1</td>\n",
       "      <td>1</td>\n",
       "      <td>1</td>\n",
       "      <td>1</td>\n",
       "      <td>1</td>\n",
       "      <td>1</td>\n",
       "      <td>1</td>\n",
       "      <td>1</td>\n",
       "      <td>1</td>\n",
       "      <td>...</td>\n",
       "      <td>1</td>\n",
       "      <td>1</td>\n",
       "      <td>1</td>\n",
       "      <td>1</td>\n",
       "      <td>1</td>\n",
       "      <td>1</td>\n",
       "      <td>1</td>\n",
       "      <td>1</td>\n",
       "      <td>1</td>\n",
       "      <td>1</td>\n",
       "    </tr>\n",
       "  </tbody>\n",
       "</table>\n",
       "<p>3673 rows × 39 columns</p>\n",
       "</div>"
      ],
      "text/plain": [
       "                             building_id  geo_level_1_id  geo_level_3_id  \\\n",
       "damage_grade geo_level_2_id                                                \n",
       "high         0                        29              29              29   \n",
       "             1                        71              71              71   \n",
       "             3                        13              13              13   \n",
       "             4                       166             166             166   \n",
       "             5                         4               4               4   \n",
       "...                                  ...             ...             ...   \n",
       "medium       1423                      3               3               3   \n",
       "             1424                      7               7               7   \n",
       "             1425                    138             138             138   \n",
       "             1426                     53              53              53   \n",
       "             1427                      1               1               1   \n",
       "\n",
       "                             count_floors_pre_eq  age  area_percentage  \\\n",
       "damage_grade geo_level_2_id                                              \n",
       "high         0                                29   29               29   \n",
       "             1                                71   71               71   \n",
       "             3                                13   13               13   \n",
       "             4                               166  166              166   \n",
       "             5                                 4    4                4   \n",
       "...                                          ...  ...              ...   \n",
       "medium       1423                              3    3                3   \n",
       "             1424                              7    7                7   \n",
       "             1425                            138  138              138   \n",
       "             1426                             53   53               53   \n",
       "             1427                              1    1                1   \n",
       "\n",
       "                             height_percentage  land_surface_condition  \\\n",
       "damage_grade geo_level_2_id                                              \n",
       "high         0                              29                      29   \n",
       "             1                              71                      71   \n",
       "             3                              13                      13   \n",
       "             4                             166                     166   \n",
       "             5                               4                       4   \n",
       "...                                        ...                     ...   \n",
       "medium       1423                            3                       3   \n",
       "             1424                            7                       7   \n",
       "             1425                          138                     138   \n",
       "             1426                           53                      53   \n",
       "             1427                            1                       1   \n",
       "\n",
       "                             foundation_type  roof_type  ...  \\\n",
       "damage_grade geo_level_2_id                              ...   \n",
       "high         0                            29         29  ...   \n",
       "             1                            71         71  ...   \n",
       "             3                            13         13  ...   \n",
       "             4                           166        166  ...   \n",
       "             5                             4          4  ...   \n",
       "...                                      ...        ...  ...   \n",
       "medium       1423                          3          3  ...   \n",
       "             1424                          7          7  ...   \n",
       "             1425                        138        138  ...   \n",
       "             1426                         53         53  ...   \n",
       "             1427                          1          1  ...   \n",
       "\n",
       "                             has_secondary_use_hotel  \\\n",
       "damage_grade geo_level_2_id                            \n",
       "high         0                                    29   \n",
       "             1                                    71   \n",
       "             3                                    13   \n",
       "             4                                   166   \n",
       "             5                                     4   \n",
       "...                                              ...   \n",
       "medium       1423                                  3   \n",
       "             1424                                  7   \n",
       "             1425                                138   \n",
       "             1426                                 53   \n",
       "             1427                                  1   \n",
       "\n",
       "                             has_secondary_use_rental  \\\n",
       "damage_grade geo_level_2_id                             \n",
       "high         0                                     29   \n",
       "             1                                     71   \n",
       "             3                                     13   \n",
       "             4                                    166   \n",
       "             5                                      4   \n",
       "...                                               ...   \n",
       "medium       1423                                   3   \n",
       "             1424                                   7   \n",
       "             1425                                 138   \n",
       "             1426                                  53   \n",
       "             1427                                   1   \n",
       "\n",
       "                             has_secondary_use_institution  \\\n",
       "damage_grade geo_level_2_id                                  \n",
       "high         0                                          29   \n",
       "             1                                          71   \n",
       "             3                                          13   \n",
       "             4                                         166   \n",
       "             5                                           4   \n",
       "...                                                    ...   \n",
       "medium       1423                                        3   \n",
       "             1424                                        7   \n",
       "             1425                                      138   \n",
       "             1426                                       53   \n",
       "             1427                                        1   \n",
       "\n",
       "                             has_secondary_use_school  \\\n",
       "damage_grade geo_level_2_id                             \n",
       "high         0                                     29   \n",
       "             1                                     71   \n",
       "             3                                     13   \n",
       "             4                                    166   \n",
       "             5                                      4   \n",
       "...                                               ...   \n",
       "medium       1423                                   3   \n",
       "             1424                                   7   \n",
       "             1425                                 138   \n",
       "             1426                                  53   \n",
       "             1427                                   1   \n",
       "\n",
       "                             has_secondary_use_industry  \\\n",
       "damage_grade geo_level_2_id                               \n",
       "high         0                                       29   \n",
       "             1                                       71   \n",
       "             3                                       13   \n",
       "             4                                      166   \n",
       "             5                                        4   \n",
       "...                                                 ...   \n",
       "medium       1423                                     3   \n",
       "             1424                                     7   \n",
       "             1425                                   138   \n",
       "             1426                                    53   \n",
       "             1427                                     1   \n",
       "\n",
       "                             has_secondary_use_health_post  \\\n",
       "damage_grade geo_level_2_id                                  \n",
       "high         0                                          29   \n",
       "             1                                          71   \n",
       "             3                                          13   \n",
       "             4                                         166   \n",
       "             5                                           4   \n",
       "...                                                    ...   \n",
       "medium       1423                                        3   \n",
       "             1424                                        7   \n",
       "             1425                                      138   \n",
       "             1426                                       53   \n",
       "             1427                                        1   \n",
       "\n",
       "                             has_secondary_use_gov_office  \\\n",
       "damage_grade geo_level_2_id                                 \n",
       "high         0                                         29   \n",
       "             1                                         71   \n",
       "             3                                         13   \n",
       "             4                                        166   \n",
       "             5                                          4   \n",
       "...                                                   ...   \n",
       "medium       1423                                       3   \n",
       "             1424                                       7   \n",
       "             1425                                     138   \n",
       "             1426                                      53   \n",
       "             1427                                       1   \n",
       "\n",
       "                             has_secondary_use_use_police  \\\n",
       "damage_grade geo_level_2_id                                 \n",
       "high         0                                         29   \n",
       "             1                                         71   \n",
       "             3                                         13   \n",
       "             4                                        166   \n",
       "             5                                          4   \n",
       "...                                                   ...   \n",
       "medium       1423                                       3   \n",
       "             1424                                       7   \n",
       "             1425                                     138   \n",
       "             1426                                      53   \n",
       "             1427                                       1   \n",
       "\n",
       "                             has_secondary_use_other  binned  \n",
       "damage_grade geo_level_2_id                                   \n",
       "high         0                                    29      29  \n",
       "             1                                    71      71  \n",
       "             3                                    13      13  \n",
       "             4                                   166     166  \n",
       "             5                                     4       4  \n",
       "...                                              ...     ...  \n",
       "medium       1423                                  3       3  \n",
       "             1424                                  7       7  \n",
       "             1425                                138     138  \n",
       "             1426                                 53      53  \n",
       "             1427                                  1       1  \n",
       "\n",
       "[3673 rows x 39 columns]"
      ]
     },
     "execution_count": 15,
     "metadata": {},
     "output_type": "execute_result"
    }
   ],
   "source": [
    "df.groupby([\"damage_grade\",\"geo_level_2_id\"]).agg(\"count\")"
   ]
  },
  {
   "cell_type": "code",
   "execution_count": 16,
   "id": "norman-polish",
   "metadata": {},
   "outputs": [
    {
     "data": {
      "text/html": [
       "<div>\n",
       "<style scoped>\n",
       "    .dataframe tbody tr th:only-of-type {\n",
       "        vertical-align: middle;\n",
       "    }\n",
       "\n",
       "    .dataframe tbody tr th {\n",
       "        vertical-align: top;\n",
       "    }\n",
       "\n",
       "    .dataframe thead th {\n",
       "        text-align: right;\n",
       "    }\n",
       "</style>\n",
       "<table border=\"1\" class=\"dataframe\">\n",
       "  <thead>\n",
       "    <tr style=\"text-align: right;\">\n",
       "      <th></th>\n",
       "      <th></th>\n",
       "      <th>building_id</th>\n",
       "      <th>geo_level_1_id</th>\n",
       "      <th>geo_level_2_id</th>\n",
       "      <th>count_floors_pre_eq</th>\n",
       "      <th>age</th>\n",
       "      <th>area_percentage</th>\n",
       "      <th>height_percentage</th>\n",
       "      <th>land_surface_condition</th>\n",
       "      <th>foundation_type</th>\n",
       "      <th>roof_type</th>\n",
       "      <th>...</th>\n",
       "      <th>has_secondary_use_hotel</th>\n",
       "      <th>has_secondary_use_rental</th>\n",
       "      <th>has_secondary_use_institution</th>\n",
       "      <th>has_secondary_use_school</th>\n",
       "      <th>has_secondary_use_industry</th>\n",
       "      <th>has_secondary_use_health_post</th>\n",
       "      <th>has_secondary_use_gov_office</th>\n",
       "      <th>has_secondary_use_use_police</th>\n",
       "      <th>has_secondary_use_other</th>\n",
       "      <th>binned</th>\n",
       "    </tr>\n",
       "    <tr>\n",
       "      <th>damage_grade</th>\n",
       "      <th>geo_level_3_id</th>\n",
       "      <th></th>\n",
       "      <th></th>\n",
       "      <th></th>\n",
       "      <th></th>\n",
       "      <th></th>\n",
       "      <th></th>\n",
       "      <th></th>\n",
       "      <th></th>\n",
       "      <th></th>\n",
       "      <th></th>\n",
       "      <th></th>\n",
       "      <th></th>\n",
       "      <th></th>\n",
       "      <th></th>\n",
       "      <th></th>\n",
       "      <th></th>\n",
       "      <th></th>\n",
       "      <th></th>\n",
       "      <th></th>\n",
       "      <th></th>\n",
       "      <th></th>\n",
       "    </tr>\n",
       "  </thead>\n",
       "  <tbody>\n",
       "    <tr>\n",
       "      <th rowspan=\"5\" valign=\"top\">high</th>\n",
       "      <th>0</th>\n",
       "      <td>2</td>\n",
       "      <td>2</td>\n",
       "      <td>2</td>\n",
       "      <td>2</td>\n",
       "      <td>2</td>\n",
       "      <td>2</td>\n",
       "      <td>2</td>\n",
       "      <td>2</td>\n",
       "      <td>2</td>\n",
       "      <td>2</td>\n",
       "      <td>...</td>\n",
       "      <td>2</td>\n",
       "      <td>2</td>\n",
       "      <td>2</td>\n",
       "      <td>2</td>\n",
       "      <td>2</td>\n",
       "      <td>2</td>\n",
       "      <td>2</td>\n",
       "      <td>2</td>\n",
       "      <td>2</td>\n",
       "      <td>2</td>\n",
       "    </tr>\n",
       "    <tr>\n",
       "      <th>1</th>\n",
       "      <td>4</td>\n",
       "      <td>4</td>\n",
       "      <td>4</td>\n",
       "      <td>4</td>\n",
       "      <td>4</td>\n",
       "      <td>4</td>\n",
       "      <td>4</td>\n",
       "      <td>4</td>\n",
       "      <td>4</td>\n",
       "      <td>4</td>\n",
       "      <td>...</td>\n",
       "      <td>4</td>\n",
       "      <td>4</td>\n",
       "      <td>4</td>\n",
       "      <td>4</td>\n",
       "      <td>4</td>\n",
       "      <td>4</td>\n",
       "      <td>4</td>\n",
       "      <td>4</td>\n",
       "      <td>4</td>\n",
       "      <td>4</td>\n",
       "    </tr>\n",
       "    <tr>\n",
       "      <th>6</th>\n",
       "      <td>13</td>\n",
       "      <td>13</td>\n",
       "      <td>13</td>\n",
       "      <td>13</td>\n",
       "      <td>13</td>\n",
       "      <td>13</td>\n",
       "      <td>13</td>\n",
       "      <td>13</td>\n",
       "      <td>13</td>\n",
       "      <td>13</td>\n",
       "      <td>...</td>\n",
       "      <td>13</td>\n",
       "      <td>13</td>\n",
       "      <td>13</td>\n",
       "      <td>13</td>\n",
       "      <td>13</td>\n",
       "      <td>13</td>\n",
       "      <td>13</td>\n",
       "      <td>13</td>\n",
       "      <td>13</td>\n",
       "      <td>13</td>\n",
       "    </tr>\n",
       "    <tr>\n",
       "      <th>8</th>\n",
       "      <td>14</td>\n",
       "      <td>14</td>\n",
       "      <td>14</td>\n",
       "      <td>14</td>\n",
       "      <td>14</td>\n",
       "      <td>14</td>\n",
       "      <td>14</td>\n",
       "      <td>14</td>\n",
       "      <td>14</td>\n",
       "      <td>14</td>\n",
       "      <td>...</td>\n",
       "      <td>14</td>\n",
       "      <td>14</td>\n",
       "      <td>14</td>\n",
       "      <td>14</td>\n",
       "      <td>14</td>\n",
       "      <td>14</td>\n",
       "      <td>14</td>\n",
       "      <td>14</td>\n",
       "      <td>14</td>\n",
       "      <td>14</td>\n",
       "    </tr>\n",
       "    <tr>\n",
       "      <th>9</th>\n",
       "      <td>2</td>\n",
       "      <td>2</td>\n",
       "      <td>2</td>\n",
       "      <td>2</td>\n",
       "      <td>2</td>\n",
       "      <td>2</td>\n",
       "      <td>2</td>\n",
       "      <td>2</td>\n",
       "      <td>2</td>\n",
       "      <td>2</td>\n",
       "      <td>...</td>\n",
       "      <td>2</td>\n",
       "      <td>2</td>\n",
       "      <td>2</td>\n",
       "      <td>2</td>\n",
       "      <td>2</td>\n",
       "      <td>2</td>\n",
       "      <td>2</td>\n",
       "      <td>2</td>\n",
       "      <td>2</td>\n",
       "      <td>2</td>\n",
       "    </tr>\n",
       "    <tr>\n",
       "      <th>...</th>\n",
       "      <th>...</th>\n",
       "      <td>...</td>\n",
       "      <td>...</td>\n",
       "      <td>...</td>\n",
       "      <td>...</td>\n",
       "      <td>...</td>\n",
       "      <td>...</td>\n",
       "      <td>...</td>\n",
       "      <td>...</td>\n",
       "      <td>...</td>\n",
       "      <td>...</td>\n",
       "      <td>...</td>\n",
       "      <td>...</td>\n",
       "      <td>...</td>\n",
       "      <td>...</td>\n",
       "      <td>...</td>\n",
       "      <td>...</td>\n",
       "      <td>...</td>\n",
       "      <td>...</td>\n",
       "      <td>...</td>\n",
       "      <td>...</td>\n",
       "      <td>...</td>\n",
       "    </tr>\n",
       "    <tr>\n",
       "      <th rowspan=\"5\" valign=\"top\">medium</th>\n",
       "      <th>12562</th>\n",
       "      <td>3</td>\n",
       "      <td>3</td>\n",
       "      <td>3</td>\n",
       "      <td>3</td>\n",
       "      <td>3</td>\n",
       "      <td>3</td>\n",
       "      <td>3</td>\n",
       "      <td>3</td>\n",
       "      <td>3</td>\n",
       "      <td>3</td>\n",
       "      <td>...</td>\n",
       "      <td>3</td>\n",
       "      <td>3</td>\n",
       "      <td>3</td>\n",
       "      <td>3</td>\n",
       "      <td>3</td>\n",
       "      <td>3</td>\n",
       "      <td>3</td>\n",
       "      <td>3</td>\n",
       "      <td>3</td>\n",
       "      <td>3</td>\n",
       "    </tr>\n",
       "    <tr>\n",
       "      <th>12563</th>\n",
       "      <td>23</td>\n",
       "      <td>23</td>\n",
       "      <td>23</td>\n",
       "      <td>23</td>\n",
       "      <td>23</td>\n",
       "      <td>23</td>\n",
       "      <td>23</td>\n",
       "      <td>23</td>\n",
       "      <td>23</td>\n",
       "      <td>23</td>\n",
       "      <td>...</td>\n",
       "      <td>23</td>\n",
       "      <td>23</td>\n",
       "      <td>23</td>\n",
       "      <td>23</td>\n",
       "      <td>23</td>\n",
       "      <td>23</td>\n",
       "      <td>23</td>\n",
       "      <td>23</td>\n",
       "      <td>23</td>\n",
       "      <td>23</td>\n",
       "    </tr>\n",
       "    <tr>\n",
       "      <th>12564</th>\n",
       "      <td>6</td>\n",
       "      <td>6</td>\n",
       "      <td>6</td>\n",
       "      <td>6</td>\n",
       "      <td>6</td>\n",
       "      <td>6</td>\n",
       "      <td>6</td>\n",
       "      <td>6</td>\n",
       "      <td>6</td>\n",
       "      <td>6</td>\n",
       "      <td>...</td>\n",
       "      <td>6</td>\n",
       "      <td>6</td>\n",
       "      <td>6</td>\n",
       "      <td>6</td>\n",
       "      <td>6</td>\n",
       "      <td>6</td>\n",
       "      <td>6</td>\n",
       "      <td>6</td>\n",
       "      <td>6</td>\n",
       "      <td>6</td>\n",
       "    </tr>\n",
       "    <tr>\n",
       "      <th>12565</th>\n",
       "      <td>2</td>\n",
       "      <td>2</td>\n",
       "      <td>2</td>\n",
       "      <td>2</td>\n",
       "      <td>2</td>\n",
       "      <td>2</td>\n",
       "      <td>2</td>\n",
       "      <td>2</td>\n",
       "      <td>2</td>\n",
       "      <td>2</td>\n",
       "      <td>...</td>\n",
       "      <td>2</td>\n",
       "      <td>2</td>\n",
       "      <td>2</td>\n",
       "      <td>2</td>\n",
       "      <td>2</td>\n",
       "      <td>2</td>\n",
       "      <td>2</td>\n",
       "      <td>2</td>\n",
       "      <td>2</td>\n",
       "      <td>2</td>\n",
       "    </tr>\n",
       "    <tr>\n",
       "      <th>12567</th>\n",
       "      <td>1</td>\n",
       "      <td>1</td>\n",
       "      <td>1</td>\n",
       "      <td>1</td>\n",
       "      <td>1</td>\n",
       "      <td>1</td>\n",
       "      <td>1</td>\n",
       "      <td>1</td>\n",
       "      <td>1</td>\n",
       "      <td>1</td>\n",
       "      <td>...</td>\n",
       "      <td>1</td>\n",
       "      <td>1</td>\n",
       "      <td>1</td>\n",
       "      <td>1</td>\n",
       "      <td>1</td>\n",
       "      <td>1</td>\n",
       "      <td>1</td>\n",
       "      <td>1</td>\n",
       "      <td>1</td>\n",
       "      <td>1</td>\n",
       "    </tr>\n",
       "  </tbody>\n",
       "</table>\n",
       "<p>23165 rows × 39 columns</p>\n",
       "</div>"
      ],
      "text/plain": [
       "                             building_id  geo_level_1_id  geo_level_2_id  \\\n",
       "damage_grade geo_level_3_id                                                \n",
       "high         0                         2               2               2   \n",
       "             1                         4               4               4   \n",
       "             6                        13              13              13   \n",
       "             8                        14              14              14   \n",
       "             9                         2               2               2   \n",
       "...                                  ...             ...             ...   \n",
       "medium       12562                     3               3               3   \n",
       "             12563                    23              23              23   \n",
       "             12564                     6               6               6   \n",
       "             12565                     2               2               2   \n",
       "             12567                     1               1               1   \n",
       "\n",
       "                             count_floors_pre_eq  age  area_percentage  \\\n",
       "damage_grade geo_level_3_id                                              \n",
       "high         0                                 2    2                2   \n",
       "             1                                 4    4                4   \n",
       "             6                                13   13               13   \n",
       "             8                                14   14               14   \n",
       "             9                                 2    2                2   \n",
       "...                                          ...  ...              ...   \n",
       "medium       12562                             3    3                3   \n",
       "             12563                            23   23               23   \n",
       "             12564                             6    6                6   \n",
       "             12565                             2    2                2   \n",
       "             12567                             1    1                1   \n",
       "\n",
       "                             height_percentage  land_surface_condition  \\\n",
       "damage_grade geo_level_3_id                                              \n",
       "high         0                               2                       2   \n",
       "             1                               4                       4   \n",
       "             6                              13                      13   \n",
       "             8                              14                      14   \n",
       "             9                               2                       2   \n",
       "...                                        ...                     ...   \n",
       "medium       12562                           3                       3   \n",
       "             12563                          23                      23   \n",
       "             12564                           6                       6   \n",
       "             12565                           2                       2   \n",
       "             12567                           1                       1   \n",
       "\n",
       "                             foundation_type  roof_type  ...  \\\n",
       "damage_grade geo_level_3_id                              ...   \n",
       "high         0                             2          2  ...   \n",
       "             1                             4          4  ...   \n",
       "             6                            13         13  ...   \n",
       "             8                            14         14  ...   \n",
       "             9                             2          2  ...   \n",
       "...                                      ...        ...  ...   \n",
       "medium       12562                         3          3  ...   \n",
       "             12563                        23         23  ...   \n",
       "             12564                         6          6  ...   \n",
       "             12565                         2          2  ...   \n",
       "             12567                         1          1  ...   \n",
       "\n",
       "                             has_secondary_use_hotel  \\\n",
       "damage_grade geo_level_3_id                            \n",
       "high         0                                     2   \n",
       "             1                                     4   \n",
       "             6                                    13   \n",
       "             8                                    14   \n",
       "             9                                     2   \n",
       "...                                              ...   \n",
       "medium       12562                                 3   \n",
       "             12563                                23   \n",
       "             12564                                 6   \n",
       "             12565                                 2   \n",
       "             12567                                 1   \n",
       "\n",
       "                             has_secondary_use_rental  \\\n",
       "damage_grade geo_level_3_id                             \n",
       "high         0                                      2   \n",
       "             1                                      4   \n",
       "             6                                     13   \n",
       "             8                                     14   \n",
       "             9                                      2   \n",
       "...                                               ...   \n",
       "medium       12562                                  3   \n",
       "             12563                                 23   \n",
       "             12564                                  6   \n",
       "             12565                                  2   \n",
       "             12567                                  1   \n",
       "\n",
       "                             has_secondary_use_institution  \\\n",
       "damage_grade geo_level_3_id                                  \n",
       "high         0                                           2   \n",
       "             1                                           4   \n",
       "             6                                          13   \n",
       "             8                                          14   \n",
       "             9                                           2   \n",
       "...                                                    ...   \n",
       "medium       12562                                       3   \n",
       "             12563                                      23   \n",
       "             12564                                       6   \n",
       "             12565                                       2   \n",
       "             12567                                       1   \n",
       "\n",
       "                             has_secondary_use_school  \\\n",
       "damage_grade geo_level_3_id                             \n",
       "high         0                                      2   \n",
       "             1                                      4   \n",
       "             6                                     13   \n",
       "             8                                     14   \n",
       "             9                                      2   \n",
       "...                                               ...   \n",
       "medium       12562                                  3   \n",
       "             12563                                 23   \n",
       "             12564                                  6   \n",
       "             12565                                  2   \n",
       "             12567                                  1   \n",
       "\n",
       "                             has_secondary_use_industry  \\\n",
       "damage_grade geo_level_3_id                               \n",
       "high         0                                        2   \n",
       "             1                                        4   \n",
       "             6                                       13   \n",
       "             8                                       14   \n",
       "             9                                        2   \n",
       "...                                                 ...   \n",
       "medium       12562                                    3   \n",
       "             12563                                   23   \n",
       "             12564                                    6   \n",
       "             12565                                    2   \n",
       "             12567                                    1   \n",
       "\n",
       "                             has_secondary_use_health_post  \\\n",
       "damage_grade geo_level_3_id                                  \n",
       "high         0                                           2   \n",
       "             1                                           4   \n",
       "             6                                          13   \n",
       "             8                                          14   \n",
       "             9                                           2   \n",
       "...                                                    ...   \n",
       "medium       12562                                       3   \n",
       "             12563                                      23   \n",
       "             12564                                       6   \n",
       "             12565                                       2   \n",
       "             12567                                       1   \n",
       "\n",
       "                             has_secondary_use_gov_office  \\\n",
       "damage_grade geo_level_3_id                                 \n",
       "high         0                                          2   \n",
       "             1                                          4   \n",
       "             6                                         13   \n",
       "             8                                         14   \n",
       "             9                                          2   \n",
       "...                                                   ...   \n",
       "medium       12562                                      3   \n",
       "             12563                                     23   \n",
       "             12564                                      6   \n",
       "             12565                                      2   \n",
       "             12567                                      1   \n",
       "\n",
       "                             has_secondary_use_use_police  \\\n",
       "damage_grade geo_level_3_id                                 \n",
       "high         0                                          2   \n",
       "             1                                          4   \n",
       "             6                                         13   \n",
       "             8                                         14   \n",
       "             9                                          2   \n",
       "...                                                   ...   \n",
       "medium       12562                                      3   \n",
       "             12563                                     23   \n",
       "             12564                                      6   \n",
       "             12565                                      2   \n",
       "             12567                                      1   \n",
       "\n",
       "                             has_secondary_use_other  binned  \n",
       "damage_grade geo_level_3_id                                   \n",
       "high         0                                     2       2  \n",
       "             1                                     4       4  \n",
       "             6                                    13      13  \n",
       "             8                                    14      14  \n",
       "             9                                     2       2  \n",
       "...                                              ...     ...  \n",
       "medium       12562                                 3       3  \n",
       "             12563                                23      23  \n",
       "             12564                                 6       6  \n",
       "             12565                                 2       2  \n",
       "             12567                                 1       1  \n",
       "\n",
       "[23165 rows x 39 columns]"
      ]
     },
     "execution_count": 16,
     "metadata": {},
     "output_type": "execute_result"
    }
   ],
   "source": [
    "df.groupby([\"damage_grade\",\"geo_level_3_id\"]).agg(\"count\")"
   ]
  },
  {
   "cell_type": "code",
   "execution_count": 17,
   "id": "meaning-pledge",
   "metadata": {},
   "outputs": [
    {
     "data": {
      "text/html": [
       "<div>\n",
       "<style scoped>\n",
       "    .dataframe tbody tr th:only-of-type {\n",
       "        vertical-align: middle;\n",
       "    }\n",
       "\n",
       "    .dataframe tbody tr th {\n",
       "        vertical-align: top;\n",
       "    }\n",
       "\n",
       "    .dataframe thead th {\n",
       "        text-align: right;\n",
       "    }\n",
       "</style>\n",
       "<table border=\"1\" class=\"dataframe\">\n",
       "  <thead>\n",
       "    <tr style=\"text-align: right;\">\n",
       "      <th></th>\n",
       "      <th></th>\n",
       "      <th>building_id</th>\n",
       "      <th>geo_level_1_id</th>\n",
       "      <th>geo_level_2_id</th>\n",
       "      <th>geo_level_3_id</th>\n",
       "      <th>age</th>\n",
       "      <th>area_percentage</th>\n",
       "      <th>height_percentage</th>\n",
       "      <th>land_surface_condition</th>\n",
       "      <th>foundation_type</th>\n",
       "      <th>roof_type</th>\n",
       "      <th>...</th>\n",
       "      <th>has_secondary_use_hotel</th>\n",
       "      <th>has_secondary_use_rental</th>\n",
       "      <th>has_secondary_use_institution</th>\n",
       "      <th>has_secondary_use_school</th>\n",
       "      <th>has_secondary_use_industry</th>\n",
       "      <th>has_secondary_use_health_post</th>\n",
       "      <th>has_secondary_use_gov_office</th>\n",
       "      <th>has_secondary_use_use_police</th>\n",
       "      <th>has_secondary_use_other</th>\n",
       "      <th>binned</th>\n",
       "    </tr>\n",
       "    <tr>\n",
       "      <th>damage_grade</th>\n",
       "      <th>count_floors_pre_eq</th>\n",
       "      <th></th>\n",
       "      <th></th>\n",
       "      <th></th>\n",
       "      <th></th>\n",
       "      <th></th>\n",
       "      <th></th>\n",
       "      <th></th>\n",
       "      <th></th>\n",
       "      <th></th>\n",
       "      <th></th>\n",
       "      <th></th>\n",
       "      <th></th>\n",
       "      <th></th>\n",
       "      <th></th>\n",
       "      <th></th>\n",
       "      <th></th>\n",
       "      <th></th>\n",
       "      <th></th>\n",
       "      <th></th>\n",
       "      <th></th>\n",
       "      <th></th>\n",
       "    </tr>\n",
       "  </thead>\n",
       "  <tbody>\n",
       "    <tr>\n",
       "      <th rowspan=\"7\" valign=\"top\">high</th>\n",
       "      <th>1</th>\n",
       "      <td>10674</td>\n",
       "      <td>10674</td>\n",
       "      <td>10674</td>\n",
       "      <td>10674</td>\n",
       "      <td>10674</td>\n",
       "      <td>10674</td>\n",
       "      <td>10674</td>\n",
       "      <td>10674</td>\n",
       "      <td>10674</td>\n",
       "      <td>10674</td>\n",
       "      <td>...</td>\n",
       "      <td>10674</td>\n",
       "      <td>10674</td>\n",
       "      <td>10674</td>\n",
       "      <td>10674</td>\n",
       "      <td>10674</td>\n",
       "      <td>10674</td>\n",
       "      <td>10674</td>\n",
       "      <td>10674</td>\n",
       "      <td>10674</td>\n",
       "      <td>10674</td>\n",
       "    </tr>\n",
       "    <tr>\n",
       "      <th>2</th>\n",
       "      <td>50062</td>\n",
       "      <td>50062</td>\n",
       "      <td>50062</td>\n",
       "      <td>50062</td>\n",
       "      <td>50062</td>\n",
       "      <td>50062</td>\n",
       "      <td>50062</td>\n",
       "      <td>50062</td>\n",
       "      <td>50062</td>\n",
       "      <td>50062</td>\n",
       "      <td>...</td>\n",
       "      <td>50062</td>\n",
       "      <td>50062</td>\n",
       "      <td>50062</td>\n",
       "      <td>50062</td>\n",
       "      <td>50062</td>\n",
       "      <td>50062</td>\n",
       "      <td>50062</td>\n",
       "      <td>50062</td>\n",
       "      <td>50062</td>\n",
       "      <td>50062</td>\n",
       "    </tr>\n",
       "    <tr>\n",
       "      <th>3</th>\n",
       "      <td>24601</td>\n",
       "      <td>24601</td>\n",
       "      <td>24601</td>\n",
       "      <td>24601</td>\n",
       "      <td>24601</td>\n",
       "      <td>24601</td>\n",
       "      <td>24601</td>\n",
       "      <td>24601</td>\n",
       "      <td>24601</td>\n",
       "      <td>24601</td>\n",
       "      <td>...</td>\n",
       "      <td>24601</td>\n",
       "      <td>24601</td>\n",
       "      <td>24601</td>\n",
       "      <td>24601</td>\n",
       "      <td>24601</td>\n",
       "      <td>24601</td>\n",
       "      <td>24601</td>\n",
       "      <td>24601</td>\n",
       "      <td>24601</td>\n",
       "      <td>24601</td>\n",
       "    </tr>\n",
       "    <tr>\n",
       "      <th>4</th>\n",
       "      <td>1343</td>\n",
       "      <td>1343</td>\n",
       "      <td>1343</td>\n",
       "      <td>1343</td>\n",
       "      <td>1343</td>\n",
       "      <td>1343</td>\n",
       "      <td>1343</td>\n",
       "      <td>1343</td>\n",
       "      <td>1343</td>\n",
       "      <td>1343</td>\n",
       "      <td>...</td>\n",
       "      <td>1343</td>\n",
       "      <td>1343</td>\n",
       "      <td>1343</td>\n",
       "      <td>1343</td>\n",
       "      <td>1343</td>\n",
       "      <td>1343</td>\n",
       "      <td>1343</td>\n",
       "      <td>1343</td>\n",
       "      <td>1343</td>\n",
       "      <td>1343</td>\n",
       "    </tr>\n",
       "    <tr>\n",
       "      <th>5</th>\n",
       "      <td>511</td>\n",
       "      <td>511</td>\n",
       "      <td>511</td>\n",
       "      <td>511</td>\n",
       "      <td>511</td>\n",
       "      <td>511</td>\n",
       "      <td>511</td>\n",
       "      <td>511</td>\n",
       "      <td>511</td>\n",
       "      <td>511</td>\n",
       "      <td>...</td>\n",
       "      <td>511</td>\n",
       "      <td>511</td>\n",
       "      <td>511</td>\n",
       "      <td>511</td>\n",
       "      <td>511</td>\n",
       "      <td>511</td>\n",
       "      <td>511</td>\n",
       "      <td>511</td>\n",
       "      <td>511</td>\n",
       "      <td>511</td>\n",
       "    </tr>\n",
       "    <tr>\n",
       "      <th>6</th>\n",
       "      <td>23</td>\n",
       "      <td>23</td>\n",
       "      <td>23</td>\n",
       "      <td>23</td>\n",
       "      <td>23</td>\n",
       "      <td>23</td>\n",
       "      <td>23</td>\n",
       "      <td>23</td>\n",
       "      <td>23</td>\n",
       "      <td>23</td>\n",
       "      <td>...</td>\n",
       "      <td>23</td>\n",
       "      <td>23</td>\n",
       "      <td>23</td>\n",
       "      <td>23</td>\n",
       "      <td>23</td>\n",
       "      <td>23</td>\n",
       "      <td>23</td>\n",
       "      <td>23</td>\n",
       "      <td>23</td>\n",
       "      <td>23</td>\n",
       "    </tr>\n",
       "    <tr>\n",
       "      <th>7</th>\n",
       "      <td>4</td>\n",
       "      <td>4</td>\n",
       "      <td>4</td>\n",
       "      <td>4</td>\n",
       "      <td>4</td>\n",
       "      <td>4</td>\n",
       "      <td>4</td>\n",
       "      <td>4</td>\n",
       "      <td>4</td>\n",
       "      <td>4</td>\n",
       "      <td>...</td>\n",
       "      <td>4</td>\n",
       "      <td>4</td>\n",
       "      <td>4</td>\n",
       "      <td>4</td>\n",
       "      <td>4</td>\n",
       "      <td>4</td>\n",
       "      <td>4</td>\n",
       "      <td>4</td>\n",
       "      <td>4</td>\n",
       "      <td>4</td>\n",
       "    </tr>\n",
       "    <tr>\n",
       "      <th rowspan=\"8\" valign=\"top\">low</th>\n",
       "      <th>1</th>\n",
       "      <td>8969</td>\n",
       "      <td>8969</td>\n",
       "      <td>8969</td>\n",
       "      <td>8969</td>\n",
       "      <td>8969</td>\n",
       "      <td>8969</td>\n",
       "      <td>8969</td>\n",
       "      <td>8969</td>\n",
       "      <td>8969</td>\n",
       "      <td>8969</td>\n",
       "      <td>...</td>\n",
       "      <td>8969</td>\n",
       "      <td>8969</td>\n",
       "      <td>8969</td>\n",
       "      <td>8969</td>\n",
       "      <td>8969</td>\n",
       "      <td>8969</td>\n",
       "      <td>8969</td>\n",
       "      <td>8969</td>\n",
       "      <td>8969</td>\n",
       "      <td>8969</td>\n",
       "    </tr>\n",
       "    <tr>\n",
       "      <th>2</th>\n",
       "      <td>12593</td>\n",
       "      <td>12593</td>\n",
       "      <td>12593</td>\n",
       "      <td>12593</td>\n",
       "      <td>12593</td>\n",
       "      <td>12593</td>\n",
       "      <td>12593</td>\n",
       "      <td>12593</td>\n",
       "      <td>12593</td>\n",
       "      <td>12593</td>\n",
       "      <td>...</td>\n",
       "      <td>12593</td>\n",
       "      <td>12593</td>\n",
       "      <td>12593</td>\n",
       "      <td>12593</td>\n",
       "      <td>12593</td>\n",
       "      <td>12593</td>\n",
       "      <td>12593</td>\n",
       "      <td>12593</td>\n",
       "      <td>12593</td>\n",
       "      <td>12593</td>\n",
       "    </tr>\n",
       "    <tr>\n",
       "      <th>3</th>\n",
       "      <td>2537</td>\n",
       "      <td>2537</td>\n",
       "      <td>2537</td>\n",
       "      <td>2537</td>\n",
       "      <td>2537</td>\n",
       "      <td>2537</td>\n",
       "      <td>2537</td>\n",
       "      <td>2537</td>\n",
       "      <td>2537</td>\n",
       "      <td>2537</td>\n",
       "      <td>...</td>\n",
       "      <td>2537</td>\n",
       "      <td>2537</td>\n",
       "      <td>2537</td>\n",
       "      <td>2537</td>\n",
       "      <td>2537</td>\n",
       "      <td>2537</td>\n",
       "      <td>2537</td>\n",
       "      <td>2537</td>\n",
       "      <td>2537</td>\n",
       "      <td>2537</td>\n",
       "    </tr>\n",
       "    <tr>\n",
       "      <th>4</th>\n",
       "      <td>707</td>\n",
       "      <td>707</td>\n",
       "      <td>707</td>\n",
       "      <td>707</td>\n",
       "      <td>707</td>\n",
       "      <td>707</td>\n",
       "      <td>707</td>\n",
       "      <td>707</td>\n",
       "      <td>707</td>\n",
       "      <td>707</td>\n",
       "      <td>...</td>\n",
       "      <td>707</td>\n",
       "      <td>707</td>\n",
       "      <td>707</td>\n",
       "      <td>707</td>\n",
       "      <td>707</td>\n",
       "      <td>707</td>\n",
       "      <td>707</td>\n",
       "      <td>707</td>\n",
       "      <td>707</td>\n",
       "      <td>707</td>\n",
       "    </tr>\n",
       "    <tr>\n",
       "      <th>5</th>\n",
       "      <td>254</td>\n",
       "      <td>254</td>\n",
       "      <td>254</td>\n",
       "      <td>254</td>\n",
       "      <td>254</td>\n",
       "      <td>254</td>\n",
       "      <td>254</td>\n",
       "      <td>254</td>\n",
       "      <td>254</td>\n",
       "      <td>254</td>\n",
       "      <td>...</td>\n",
       "      <td>254</td>\n",
       "      <td>254</td>\n",
       "      <td>254</td>\n",
       "      <td>254</td>\n",
       "      <td>254</td>\n",
       "      <td>254</td>\n",
       "      <td>254</td>\n",
       "      <td>254</td>\n",
       "      <td>254</td>\n",
       "      <td>254</td>\n",
       "    </tr>\n",
       "    <tr>\n",
       "      <th>6</th>\n",
       "      <td>53</td>\n",
       "      <td>53</td>\n",
       "      <td>53</td>\n",
       "      <td>53</td>\n",
       "      <td>53</td>\n",
       "      <td>53</td>\n",
       "      <td>53</td>\n",
       "      <td>53</td>\n",
       "      <td>53</td>\n",
       "      <td>53</td>\n",
       "      <td>...</td>\n",
       "      <td>53</td>\n",
       "      <td>53</td>\n",
       "      <td>53</td>\n",
       "      <td>53</td>\n",
       "      <td>53</td>\n",
       "      <td>53</td>\n",
       "      <td>53</td>\n",
       "      <td>53</td>\n",
       "      <td>53</td>\n",
       "      <td>53</td>\n",
       "    </tr>\n",
       "    <tr>\n",
       "      <th>7</th>\n",
       "      <td>10</td>\n",
       "      <td>10</td>\n",
       "      <td>10</td>\n",
       "      <td>10</td>\n",
       "      <td>10</td>\n",
       "      <td>10</td>\n",
       "      <td>10</td>\n",
       "      <td>10</td>\n",
       "      <td>10</td>\n",
       "      <td>10</td>\n",
       "      <td>...</td>\n",
       "      <td>10</td>\n",
       "      <td>10</td>\n",
       "      <td>10</td>\n",
       "      <td>10</td>\n",
       "      <td>10</td>\n",
       "      <td>10</td>\n",
       "      <td>10</td>\n",
       "      <td>10</td>\n",
       "      <td>10</td>\n",
       "      <td>10</td>\n",
       "    </tr>\n",
       "    <tr>\n",
       "      <th>9</th>\n",
       "      <td>1</td>\n",
       "      <td>1</td>\n",
       "      <td>1</td>\n",
       "      <td>1</td>\n",
       "      <td>1</td>\n",
       "      <td>1</td>\n",
       "      <td>1</td>\n",
       "      <td>1</td>\n",
       "      <td>1</td>\n",
       "      <td>1</td>\n",
       "      <td>...</td>\n",
       "      <td>1</td>\n",
       "      <td>1</td>\n",
       "      <td>1</td>\n",
       "      <td>1</td>\n",
       "      <td>1</td>\n",
       "      <td>1</td>\n",
       "      <td>1</td>\n",
       "      <td>1</td>\n",
       "      <td>1</td>\n",
       "      <td>1</td>\n",
       "    </tr>\n",
       "    <tr>\n",
       "      <th rowspan=\"8\" valign=\"top\">medium</th>\n",
       "      <th>1</th>\n",
       "      <td>20798</td>\n",
       "      <td>20798</td>\n",
       "      <td>20798</td>\n",
       "      <td>20798</td>\n",
       "      <td>20798</td>\n",
       "      <td>20798</td>\n",
       "      <td>20798</td>\n",
       "      <td>20798</td>\n",
       "      <td>20798</td>\n",
       "      <td>20798</td>\n",
       "      <td>...</td>\n",
       "      <td>20798</td>\n",
       "      <td>20798</td>\n",
       "      <td>20798</td>\n",
       "      <td>20798</td>\n",
       "      <td>20798</td>\n",
       "      <td>20798</td>\n",
       "      <td>20798</td>\n",
       "      <td>20798</td>\n",
       "      <td>20798</td>\n",
       "      <td>20798</td>\n",
       "    </tr>\n",
       "    <tr>\n",
       "      <th>2</th>\n",
       "      <td>93968</td>\n",
       "      <td>93968</td>\n",
       "      <td>93968</td>\n",
       "      <td>93968</td>\n",
       "      <td>93968</td>\n",
       "      <td>93968</td>\n",
       "      <td>93968</td>\n",
       "      <td>93968</td>\n",
       "      <td>93968</td>\n",
       "      <td>93968</td>\n",
       "      <td>...</td>\n",
       "      <td>93968</td>\n",
       "      <td>93968</td>\n",
       "      <td>93968</td>\n",
       "      <td>93968</td>\n",
       "      <td>93968</td>\n",
       "      <td>93968</td>\n",
       "      <td>93968</td>\n",
       "      <td>93968</td>\n",
       "      <td>93968</td>\n",
       "      <td>93968</td>\n",
       "    </tr>\n",
       "    <tr>\n",
       "      <th>3</th>\n",
       "      <td>28479</td>\n",
       "      <td>28479</td>\n",
       "      <td>28479</td>\n",
       "      <td>28479</td>\n",
       "      <td>28479</td>\n",
       "      <td>28479</td>\n",
       "      <td>28479</td>\n",
       "      <td>28479</td>\n",
       "      <td>28479</td>\n",
       "      <td>28479</td>\n",
       "      <td>...</td>\n",
       "      <td>28479</td>\n",
       "      <td>28479</td>\n",
       "      <td>28479</td>\n",
       "      <td>28479</td>\n",
       "      <td>28479</td>\n",
       "      <td>28479</td>\n",
       "      <td>28479</td>\n",
       "      <td>28479</td>\n",
       "      <td>28479</td>\n",
       "      <td>28479</td>\n",
       "    </tr>\n",
       "    <tr>\n",
       "      <th>4</th>\n",
       "      <td>3374</td>\n",
       "      <td>3374</td>\n",
       "      <td>3374</td>\n",
       "      <td>3374</td>\n",
       "      <td>3374</td>\n",
       "      <td>3374</td>\n",
       "      <td>3374</td>\n",
       "      <td>3374</td>\n",
       "      <td>3374</td>\n",
       "      <td>3374</td>\n",
       "      <td>...</td>\n",
       "      <td>3374</td>\n",
       "      <td>3374</td>\n",
       "      <td>3374</td>\n",
       "      <td>3374</td>\n",
       "      <td>3374</td>\n",
       "      <td>3374</td>\n",
       "      <td>3374</td>\n",
       "      <td>3374</td>\n",
       "      <td>3374</td>\n",
       "      <td>3374</td>\n",
       "    </tr>\n",
       "    <tr>\n",
       "      <th>5</th>\n",
       "      <td>1481</td>\n",
       "      <td>1481</td>\n",
       "      <td>1481</td>\n",
       "      <td>1481</td>\n",
       "      <td>1481</td>\n",
       "      <td>1481</td>\n",
       "      <td>1481</td>\n",
       "      <td>1481</td>\n",
       "      <td>1481</td>\n",
       "      <td>1481</td>\n",
       "      <td>...</td>\n",
       "      <td>1481</td>\n",
       "      <td>1481</td>\n",
       "      <td>1481</td>\n",
       "      <td>1481</td>\n",
       "      <td>1481</td>\n",
       "      <td>1481</td>\n",
       "      <td>1481</td>\n",
       "      <td>1481</td>\n",
       "      <td>1481</td>\n",
       "      <td>1481</td>\n",
       "    </tr>\n",
       "    <tr>\n",
       "      <th>6</th>\n",
       "      <td>133</td>\n",
       "      <td>133</td>\n",
       "      <td>133</td>\n",
       "      <td>133</td>\n",
       "      <td>133</td>\n",
       "      <td>133</td>\n",
       "      <td>133</td>\n",
       "      <td>133</td>\n",
       "      <td>133</td>\n",
       "      <td>133</td>\n",
       "      <td>...</td>\n",
       "      <td>133</td>\n",
       "      <td>133</td>\n",
       "      <td>133</td>\n",
       "      <td>133</td>\n",
       "      <td>133</td>\n",
       "      <td>133</td>\n",
       "      <td>133</td>\n",
       "      <td>133</td>\n",
       "      <td>133</td>\n",
       "      <td>133</td>\n",
       "    </tr>\n",
       "    <tr>\n",
       "      <th>7</th>\n",
       "      <td>25</td>\n",
       "      <td>25</td>\n",
       "      <td>25</td>\n",
       "      <td>25</td>\n",
       "      <td>25</td>\n",
       "      <td>25</td>\n",
       "      <td>25</td>\n",
       "      <td>25</td>\n",
       "      <td>25</td>\n",
       "      <td>25</td>\n",
       "      <td>...</td>\n",
       "      <td>25</td>\n",
       "      <td>25</td>\n",
       "      <td>25</td>\n",
       "      <td>25</td>\n",
       "      <td>25</td>\n",
       "      <td>25</td>\n",
       "      <td>25</td>\n",
       "      <td>25</td>\n",
       "      <td>25</td>\n",
       "      <td>25</td>\n",
       "    </tr>\n",
       "    <tr>\n",
       "      <th>8</th>\n",
       "      <td>1</td>\n",
       "      <td>1</td>\n",
       "      <td>1</td>\n",
       "      <td>1</td>\n",
       "      <td>1</td>\n",
       "      <td>1</td>\n",
       "      <td>1</td>\n",
       "      <td>1</td>\n",
       "      <td>1</td>\n",
       "      <td>1</td>\n",
       "      <td>...</td>\n",
       "      <td>1</td>\n",
       "      <td>1</td>\n",
       "      <td>1</td>\n",
       "      <td>1</td>\n",
       "      <td>1</td>\n",
       "      <td>1</td>\n",
       "      <td>1</td>\n",
       "      <td>1</td>\n",
       "      <td>1</td>\n",
       "      <td>1</td>\n",
       "    </tr>\n",
       "  </tbody>\n",
       "</table>\n",
       "<p>23 rows × 39 columns</p>\n",
       "</div>"
      ],
      "text/plain": [
       "                                  building_id  geo_level_1_id  geo_level_2_id  \\\n",
       "damage_grade count_floors_pre_eq                                                \n",
       "high         1                          10674           10674           10674   \n",
       "             2                          50062           50062           50062   \n",
       "             3                          24601           24601           24601   \n",
       "             4                           1343            1343            1343   \n",
       "             5                            511             511             511   \n",
       "             6                             23              23              23   \n",
       "             7                              4               4               4   \n",
       "low          1                           8969            8969            8969   \n",
       "             2                          12593           12593           12593   \n",
       "             3                           2537            2537            2537   \n",
       "             4                            707             707             707   \n",
       "             5                            254             254             254   \n",
       "             6                             53              53              53   \n",
       "             7                             10              10              10   \n",
       "             9                              1               1               1   \n",
       "medium       1                          20798           20798           20798   \n",
       "             2                          93968           93968           93968   \n",
       "             3                          28479           28479           28479   \n",
       "             4                           3374            3374            3374   \n",
       "             5                           1481            1481            1481   \n",
       "             6                            133             133             133   \n",
       "             7                             25              25              25   \n",
       "             8                              1               1               1   \n",
       "\n",
       "                                  geo_level_3_id    age  area_percentage  \\\n",
       "damage_grade count_floors_pre_eq                                           \n",
       "high         1                             10674  10674            10674   \n",
       "             2                             50062  50062            50062   \n",
       "             3                             24601  24601            24601   \n",
       "             4                              1343   1343             1343   \n",
       "             5                               511    511              511   \n",
       "             6                                23     23               23   \n",
       "             7                                 4      4                4   \n",
       "low          1                              8969   8969             8969   \n",
       "             2                             12593  12593            12593   \n",
       "             3                              2537   2537             2537   \n",
       "             4                               707    707              707   \n",
       "             5                               254    254              254   \n",
       "             6                                53     53               53   \n",
       "             7                                10     10               10   \n",
       "             9                                 1      1                1   \n",
       "medium       1                             20798  20798            20798   \n",
       "             2                             93968  93968            93968   \n",
       "             3                             28479  28479            28479   \n",
       "             4                              3374   3374             3374   \n",
       "             5                              1481   1481             1481   \n",
       "             6                               133    133              133   \n",
       "             7                                25     25               25   \n",
       "             8                                 1      1                1   \n",
       "\n",
       "                                  height_percentage  land_surface_condition  \\\n",
       "damage_grade count_floors_pre_eq                                              \n",
       "high         1                                10674                   10674   \n",
       "             2                                50062                   50062   \n",
       "             3                                24601                   24601   \n",
       "             4                                 1343                    1343   \n",
       "             5                                  511                     511   \n",
       "             6                                   23                      23   \n",
       "             7                                    4                       4   \n",
       "low          1                                 8969                    8969   \n",
       "             2                                12593                   12593   \n",
       "             3                                 2537                    2537   \n",
       "             4                                  707                     707   \n",
       "             5                                  254                     254   \n",
       "             6                                   53                      53   \n",
       "             7                                   10                      10   \n",
       "             9                                    1                       1   \n",
       "medium       1                                20798                   20798   \n",
       "             2                                93968                   93968   \n",
       "             3                                28479                   28479   \n",
       "             4                                 3374                    3374   \n",
       "             5                                 1481                    1481   \n",
       "             6                                  133                     133   \n",
       "             7                                   25                      25   \n",
       "             8                                    1                       1   \n",
       "\n",
       "                                  foundation_type  roof_type  ...  \\\n",
       "damage_grade count_floors_pre_eq                              ...   \n",
       "high         1                              10674      10674  ...   \n",
       "             2                              50062      50062  ...   \n",
       "             3                              24601      24601  ...   \n",
       "             4                               1343       1343  ...   \n",
       "             5                                511        511  ...   \n",
       "             6                                 23         23  ...   \n",
       "             7                                  4          4  ...   \n",
       "low          1                               8969       8969  ...   \n",
       "             2                              12593      12593  ...   \n",
       "             3                               2537       2537  ...   \n",
       "             4                                707        707  ...   \n",
       "             5                                254        254  ...   \n",
       "             6                                 53         53  ...   \n",
       "             7                                 10         10  ...   \n",
       "             9                                  1          1  ...   \n",
       "medium       1                              20798      20798  ...   \n",
       "             2                              93968      93968  ...   \n",
       "             3                              28479      28479  ...   \n",
       "             4                               3374       3374  ...   \n",
       "             5                               1481       1481  ...   \n",
       "             6                                133        133  ...   \n",
       "             7                                 25         25  ...   \n",
       "             8                                  1          1  ...   \n",
       "\n",
       "                                  has_secondary_use_hotel  \\\n",
       "damage_grade count_floors_pre_eq                            \n",
       "high         1                                      10674   \n",
       "             2                                      50062   \n",
       "             3                                      24601   \n",
       "             4                                       1343   \n",
       "             5                                        511   \n",
       "             6                                         23   \n",
       "             7                                          4   \n",
       "low          1                                       8969   \n",
       "             2                                      12593   \n",
       "             3                                       2537   \n",
       "             4                                        707   \n",
       "             5                                        254   \n",
       "             6                                         53   \n",
       "             7                                         10   \n",
       "             9                                          1   \n",
       "medium       1                                      20798   \n",
       "             2                                      93968   \n",
       "             3                                      28479   \n",
       "             4                                       3374   \n",
       "             5                                       1481   \n",
       "             6                                        133   \n",
       "             7                                         25   \n",
       "             8                                          1   \n",
       "\n",
       "                                  has_secondary_use_rental  \\\n",
       "damage_grade count_floors_pre_eq                             \n",
       "high         1                                       10674   \n",
       "             2                                       50062   \n",
       "             3                                       24601   \n",
       "             4                                        1343   \n",
       "             5                                         511   \n",
       "             6                                          23   \n",
       "             7                                           4   \n",
       "low          1                                        8969   \n",
       "             2                                       12593   \n",
       "             3                                        2537   \n",
       "             4                                         707   \n",
       "             5                                         254   \n",
       "             6                                          53   \n",
       "             7                                          10   \n",
       "             9                                           1   \n",
       "medium       1                                       20798   \n",
       "             2                                       93968   \n",
       "             3                                       28479   \n",
       "             4                                        3374   \n",
       "             5                                        1481   \n",
       "             6                                         133   \n",
       "             7                                          25   \n",
       "             8                                           1   \n",
       "\n",
       "                                  has_secondary_use_institution  \\\n",
       "damage_grade count_floors_pre_eq                                  \n",
       "high         1                                            10674   \n",
       "             2                                            50062   \n",
       "             3                                            24601   \n",
       "             4                                             1343   \n",
       "             5                                              511   \n",
       "             6                                               23   \n",
       "             7                                                4   \n",
       "low          1                                             8969   \n",
       "             2                                            12593   \n",
       "             3                                             2537   \n",
       "             4                                              707   \n",
       "             5                                              254   \n",
       "             6                                               53   \n",
       "             7                                               10   \n",
       "             9                                                1   \n",
       "medium       1                                            20798   \n",
       "             2                                            93968   \n",
       "             3                                            28479   \n",
       "             4                                             3374   \n",
       "             5                                             1481   \n",
       "             6                                              133   \n",
       "             7                                               25   \n",
       "             8                                                1   \n",
       "\n",
       "                                  has_secondary_use_school  \\\n",
       "damage_grade count_floors_pre_eq                             \n",
       "high         1                                       10674   \n",
       "             2                                       50062   \n",
       "             3                                       24601   \n",
       "             4                                        1343   \n",
       "             5                                         511   \n",
       "             6                                          23   \n",
       "             7                                           4   \n",
       "low          1                                        8969   \n",
       "             2                                       12593   \n",
       "             3                                        2537   \n",
       "             4                                         707   \n",
       "             5                                         254   \n",
       "             6                                          53   \n",
       "             7                                          10   \n",
       "             9                                           1   \n",
       "medium       1                                       20798   \n",
       "             2                                       93968   \n",
       "             3                                       28479   \n",
       "             4                                        3374   \n",
       "             5                                        1481   \n",
       "             6                                         133   \n",
       "             7                                          25   \n",
       "             8                                           1   \n",
       "\n",
       "                                  has_secondary_use_industry  \\\n",
       "damage_grade count_floors_pre_eq                               \n",
       "high         1                                         10674   \n",
       "             2                                         50062   \n",
       "             3                                         24601   \n",
       "             4                                          1343   \n",
       "             5                                           511   \n",
       "             6                                            23   \n",
       "             7                                             4   \n",
       "low          1                                          8969   \n",
       "             2                                         12593   \n",
       "             3                                          2537   \n",
       "             4                                           707   \n",
       "             5                                           254   \n",
       "             6                                            53   \n",
       "             7                                            10   \n",
       "             9                                             1   \n",
       "medium       1                                         20798   \n",
       "             2                                         93968   \n",
       "             3                                         28479   \n",
       "             4                                          3374   \n",
       "             5                                          1481   \n",
       "             6                                           133   \n",
       "             7                                            25   \n",
       "             8                                             1   \n",
       "\n",
       "                                  has_secondary_use_health_post  \\\n",
       "damage_grade count_floors_pre_eq                                  \n",
       "high         1                                            10674   \n",
       "             2                                            50062   \n",
       "             3                                            24601   \n",
       "             4                                             1343   \n",
       "             5                                              511   \n",
       "             6                                               23   \n",
       "             7                                                4   \n",
       "low          1                                             8969   \n",
       "             2                                            12593   \n",
       "             3                                             2537   \n",
       "             4                                              707   \n",
       "             5                                              254   \n",
       "             6                                               53   \n",
       "             7                                               10   \n",
       "             9                                                1   \n",
       "medium       1                                            20798   \n",
       "             2                                            93968   \n",
       "             3                                            28479   \n",
       "             4                                             3374   \n",
       "             5                                             1481   \n",
       "             6                                              133   \n",
       "             7                                               25   \n",
       "             8                                                1   \n",
       "\n",
       "                                  has_secondary_use_gov_office  \\\n",
       "damage_grade count_floors_pre_eq                                 \n",
       "high         1                                           10674   \n",
       "             2                                           50062   \n",
       "             3                                           24601   \n",
       "             4                                            1343   \n",
       "             5                                             511   \n",
       "             6                                              23   \n",
       "             7                                               4   \n",
       "low          1                                            8969   \n",
       "             2                                           12593   \n",
       "             3                                            2537   \n",
       "             4                                             707   \n",
       "             5                                             254   \n",
       "             6                                              53   \n",
       "             7                                              10   \n",
       "             9                                               1   \n",
       "medium       1                                           20798   \n",
       "             2                                           93968   \n",
       "             3                                           28479   \n",
       "             4                                            3374   \n",
       "             5                                            1481   \n",
       "             6                                             133   \n",
       "             7                                              25   \n",
       "             8                                               1   \n",
       "\n",
       "                                  has_secondary_use_use_police  \\\n",
       "damage_grade count_floors_pre_eq                                 \n",
       "high         1                                           10674   \n",
       "             2                                           50062   \n",
       "             3                                           24601   \n",
       "             4                                            1343   \n",
       "             5                                             511   \n",
       "             6                                              23   \n",
       "             7                                               4   \n",
       "low          1                                            8969   \n",
       "             2                                           12593   \n",
       "             3                                            2537   \n",
       "             4                                             707   \n",
       "             5                                             254   \n",
       "             6                                              53   \n",
       "             7                                              10   \n",
       "             9                                               1   \n",
       "medium       1                                           20798   \n",
       "             2                                           93968   \n",
       "             3                                           28479   \n",
       "             4                                            3374   \n",
       "             5                                            1481   \n",
       "             6                                             133   \n",
       "             7                                              25   \n",
       "             8                                               1   \n",
       "\n",
       "                                  has_secondary_use_other  binned  \n",
       "damage_grade count_floors_pre_eq                                   \n",
       "high         1                                      10674   10674  \n",
       "             2                                      50062   50062  \n",
       "             3                                      24601   24601  \n",
       "             4                                       1343    1343  \n",
       "             5                                        511     511  \n",
       "             6                                         23      23  \n",
       "             7                                          4       4  \n",
       "low          1                                       8969    8969  \n",
       "             2                                      12593   12593  \n",
       "             3                                       2537    2537  \n",
       "             4                                        707     707  \n",
       "             5                                        254     254  \n",
       "             6                                         53      53  \n",
       "             7                                         10      10  \n",
       "             9                                          1       1  \n",
       "medium       1                                      20798   20798  \n",
       "             2                                      93968   93968  \n",
       "             3                                      28479   28479  \n",
       "             4                                       3374    3374  \n",
       "             5                                       1481    1481  \n",
       "             6                                        133     133  \n",
       "             7                                         25      25  \n",
       "             8                                          1       1  \n",
       "\n",
       "[23 rows x 39 columns]"
      ]
     },
     "execution_count": 17,
     "metadata": {},
     "output_type": "execute_result"
    }
   ],
   "source": [
    "df.groupby([\"damage_grade\",\"count_floors_pre_eq\"]).count()"
   ]
  },
  {
   "cell_type": "code",
   "execution_count": 18,
   "id": "boxed-windsor",
   "metadata": {},
   "outputs": [
    {
     "data": {
      "text/html": [
       "<div>\n",
       "<style scoped>\n",
       "    .dataframe tbody tr th:only-of-type {\n",
       "        vertical-align: middle;\n",
       "    }\n",
       "\n",
       "    .dataframe tbody tr th {\n",
       "        vertical-align: top;\n",
       "    }\n",
       "\n",
       "    .dataframe thead th {\n",
       "        text-align: right;\n",
       "    }\n",
       "</style>\n",
       "<table border=\"1\" class=\"dataframe\">\n",
       "  <thead>\n",
       "    <tr style=\"text-align: right;\">\n",
       "      <th></th>\n",
       "      <th></th>\n",
       "      <th>building_id</th>\n",
       "      <th>geo_level_1_id</th>\n",
       "      <th>geo_level_2_id</th>\n",
       "      <th>geo_level_3_id</th>\n",
       "      <th>count_floors_pre_eq</th>\n",
       "      <th>age</th>\n",
       "      <th>area_percentage</th>\n",
       "      <th>height_percentage</th>\n",
       "      <th>land_surface_condition</th>\n",
       "      <th>foundation_type</th>\n",
       "      <th>...</th>\n",
       "      <th>has_secondary_use_hotel</th>\n",
       "      <th>has_secondary_use_rental</th>\n",
       "      <th>has_secondary_use_institution</th>\n",
       "      <th>has_secondary_use_school</th>\n",
       "      <th>has_secondary_use_industry</th>\n",
       "      <th>has_secondary_use_health_post</th>\n",
       "      <th>has_secondary_use_gov_office</th>\n",
       "      <th>has_secondary_use_use_police</th>\n",
       "      <th>has_secondary_use_other</th>\n",
       "      <th>binned</th>\n",
       "    </tr>\n",
       "    <tr>\n",
       "      <th>damage_grade</th>\n",
       "      <th>has_superstructure_rc_engineered</th>\n",
       "      <th></th>\n",
       "      <th></th>\n",
       "      <th></th>\n",
       "      <th></th>\n",
       "      <th></th>\n",
       "      <th></th>\n",
       "      <th></th>\n",
       "      <th></th>\n",
       "      <th></th>\n",
       "      <th></th>\n",
       "      <th></th>\n",
       "      <th></th>\n",
       "      <th></th>\n",
       "      <th></th>\n",
       "      <th></th>\n",
       "      <th></th>\n",
       "      <th></th>\n",
       "      <th></th>\n",
       "      <th></th>\n",
       "      <th></th>\n",
       "      <th></th>\n",
       "    </tr>\n",
       "  </thead>\n",
       "  <tbody>\n",
       "    <tr>\n",
       "      <th rowspan=\"2\" valign=\"top\">high</th>\n",
       "      <th>0</th>\n",
       "      <td>87143</td>\n",
       "      <td>87143</td>\n",
       "      <td>87143</td>\n",
       "      <td>87143</td>\n",
       "      <td>87143</td>\n",
       "      <td>87143</td>\n",
       "      <td>87143</td>\n",
       "      <td>87143</td>\n",
       "      <td>87143</td>\n",
       "      <td>87143</td>\n",
       "      <td>...</td>\n",
       "      <td>87143</td>\n",
       "      <td>87143</td>\n",
       "      <td>87143</td>\n",
       "      <td>87143</td>\n",
       "      <td>87143</td>\n",
       "      <td>87143</td>\n",
       "      <td>87143</td>\n",
       "      <td>87143</td>\n",
       "      <td>87143</td>\n",
       "      <td>87143</td>\n",
       "    </tr>\n",
       "    <tr>\n",
       "      <th>1</th>\n",
       "      <td>75</td>\n",
       "      <td>75</td>\n",
       "      <td>75</td>\n",
       "      <td>75</td>\n",
       "      <td>75</td>\n",
       "      <td>75</td>\n",
       "      <td>75</td>\n",
       "      <td>75</td>\n",
       "      <td>75</td>\n",
       "      <td>75</td>\n",
       "      <td>...</td>\n",
       "      <td>75</td>\n",
       "      <td>75</td>\n",
       "      <td>75</td>\n",
       "      <td>75</td>\n",
       "      <td>75</td>\n",
       "      <td>75</td>\n",
       "      <td>75</td>\n",
       "      <td>75</td>\n",
       "      <td>75</td>\n",
       "      <td>75</td>\n",
       "    </tr>\n",
       "    <tr>\n",
       "      <th rowspan=\"2\" valign=\"top\">low</th>\n",
       "      <th>0</th>\n",
       "      <td>22468</td>\n",
       "      <td>22468</td>\n",
       "      <td>22468</td>\n",
       "      <td>22468</td>\n",
       "      <td>22468</td>\n",
       "      <td>22468</td>\n",
       "      <td>22468</td>\n",
       "      <td>22468</td>\n",
       "      <td>22468</td>\n",
       "      <td>22468</td>\n",
       "      <td>...</td>\n",
       "      <td>22468</td>\n",
       "      <td>22468</td>\n",
       "      <td>22468</td>\n",
       "      <td>22468</td>\n",
       "      <td>22468</td>\n",
       "      <td>22468</td>\n",
       "      <td>22468</td>\n",
       "      <td>22468</td>\n",
       "      <td>22468</td>\n",
       "      <td>22468</td>\n",
       "    </tr>\n",
       "    <tr>\n",
       "      <th>1</th>\n",
       "      <td>2656</td>\n",
       "      <td>2656</td>\n",
       "      <td>2656</td>\n",
       "      <td>2656</td>\n",
       "      <td>2656</td>\n",
       "      <td>2656</td>\n",
       "      <td>2656</td>\n",
       "      <td>2656</td>\n",
       "      <td>2656</td>\n",
       "      <td>2656</td>\n",
       "      <td>...</td>\n",
       "      <td>2656</td>\n",
       "      <td>2656</td>\n",
       "      <td>2656</td>\n",
       "      <td>2656</td>\n",
       "      <td>2656</td>\n",
       "      <td>2656</td>\n",
       "      <td>2656</td>\n",
       "      <td>2656</td>\n",
       "      <td>2656</td>\n",
       "      <td>2656</td>\n",
       "    </tr>\n",
       "    <tr>\n",
       "      <th rowspan=\"2\" valign=\"top\">medium</th>\n",
       "      <th>0</th>\n",
       "      <td>146857</td>\n",
       "      <td>146857</td>\n",
       "      <td>146857</td>\n",
       "      <td>146857</td>\n",
       "      <td>146857</td>\n",
       "      <td>146857</td>\n",
       "      <td>146857</td>\n",
       "      <td>146857</td>\n",
       "      <td>146857</td>\n",
       "      <td>146857</td>\n",
       "      <td>...</td>\n",
       "      <td>146857</td>\n",
       "      <td>146857</td>\n",
       "      <td>146857</td>\n",
       "      <td>146857</td>\n",
       "      <td>146857</td>\n",
       "      <td>146857</td>\n",
       "      <td>146857</td>\n",
       "      <td>146857</td>\n",
       "      <td>146857</td>\n",
       "      <td>146857</td>\n",
       "    </tr>\n",
       "    <tr>\n",
       "      <th>1</th>\n",
       "      <td>1402</td>\n",
       "      <td>1402</td>\n",
       "      <td>1402</td>\n",
       "      <td>1402</td>\n",
       "      <td>1402</td>\n",
       "      <td>1402</td>\n",
       "      <td>1402</td>\n",
       "      <td>1402</td>\n",
       "      <td>1402</td>\n",
       "      <td>1402</td>\n",
       "      <td>...</td>\n",
       "      <td>1402</td>\n",
       "      <td>1402</td>\n",
       "      <td>1402</td>\n",
       "      <td>1402</td>\n",
       "      <td>1402</td>\n",
       "      <td>1402</td>\n",
       "      <td>1402</td>\n",
       "      <td>1402</td>\n",
       "      <td>1402</td>\n",
       "      <td>1402</td>\n",
       "    </tr>\n",
       "  </tbody>\n",
       "</table>\n",
       "<p>6 rows × 39 columns</p>\n",
       "</div>"
      ],
      "text/plain": [
       "                                               building_id  geo_level_1_id  \\\n",
       "damage_grade has_superstructure_rc_engineered                                \n",
       "high         0                                       87143           87143   \n",
       "             1                                          75              75   \n",
       "low          0                                       22468           22468   \n",
       "             1                                        2656            2656   \n",
       "medium       0                                      146857          146857   \n",
       "             1                                        1402            1402   \n",
       "\n",
       "                                               geo_level_2_id  geo_level_3_id  \\\n",
       "damage_grade has_superstructure_rc_engineered                                   \n",
       "high         0                                          87143           87143   \n",
       "             1                                             75              75   \n",
       "low          0                                          22468           22468   \n",
       "             1                                           2656            2656   \n",
       "medium       0                                         146857          146857   \n",
       "             1                                           1402            1402   \n",
       "\n",
       "                                               count_floors_pre_eq     age  \\\n",
       "damage_grade has_superstructure_rc_engineered                                \n",
       "high         0                                               87143   87143   \n",
       "             1                                                  75      75   \n",
       "low          0                                               22468   22468   \n",
       "             1                                                2656    2656   \n",
       "medium       0                                              146857  146857   \n",
       "             1                                                1402    1402   \n",
       "\n",
       "                                               area_percentage  \\\n",
       "damage_grade has_superstructure_rc_engineered                    \n",
       "high         0                                           87143   \n",
       "             1                                              75   \n",
       "low          0                                           22468   \n",
       "             1                                            2656   \n",
       "medium       0                                          146857   \n",
       "             1                                            1402   \n",
       "\n",
       "                                               height_percentage  \\\n",
       "damage_grade has_superstructure_rc_engineered                      \n",
       "high         0                                             87143   \n",
       "             1                                                75   \n",
       "low          0                                             22468   \n",
       "             1                                              2656   \n",
       "medium       0                                            146857   \n",
       "             1                                              1402   \n",
       "\n",
       "                                               land_surface_condition  \\\n",
       "damage_grade has_superstructure_rc_engineered                           \n",
       "high         0                                                  87143   \n",
       "             1                                                     75   \n",
       "low          0                                                  22468   \n",
       "             1                                                   2656   \n",
       "medium       0                                                 146857   \n",
       "             1                                                   1402   \n",
       "\n",
       "                                               foundation_type  ...  \\\n",
       "damage_grade has_superstructure_rc_engineered                   ...   \n",
       "high         0                                           87143  ...   \n",
       "             1                                              75  ...   \n",
       "low          0                                           22468  ...   \n",
       "             1                                            2656  ...   \n",
       "medium       0                                          146857  ...   \n",
       "             1                                            1402  ...   \n",
       "\n",
       "                                               has_secondary_use_hotel  \\\n",
       "damage_grade has_superstructure_rc_engineered                            \n",
       "high         0                                                   87143   \n",
       "             1                                                      75   \n",
       "low          0                                                   22468   \n",
       "             1                                                    2656   \n",
       "medium       0                                                  146857   \n",
       "             1                                                    1402   \n",
       "\n",
       "                                               has_secondary_use_rental  \\\n",
       "damage_grade has_superstructure_rc_engineered                             \n",
       "high         0                                                    87143   \n",
       "             1                                                       75   \n",
       "low          0                                                    22468   \n",
       "             1                                                     2656   \n",
       "medium       0                                                   146857   \n",
       "             1                                                     1402   \n",
       "\n",
       "                                               has_secondary_use_institution  \\\n",
       "damage_grade has_superstructure_rc_engineered                                  \n",
       "high         0                                                         87143   \n",
       "             1                                                            75   \n",
       "low          0                                                         22468   \n",
       "             1                                                          2656   \n",
       "medium       0                                                        146857   \n",
       "             1                                                          1402   \n",
       "\n",
       "                                               has_secondary_use_school  \\\n",
       "damage_grade has_superstructure_rc_engineered                             \n",
       "high         0                                                    87143   \n",
       "             1                                                       75   \n",
       "low          0                                                    22468   \n",
       "             1                                                     2656   \n",
       "medium       0                                                   146857   \n",
       "             1                                                     1402   \n",
       "\n",
       "                                               has_secondary_use_industry  \\\n",
       "damage_grade has_superstructure_rc_engineered                               \n",
       "high         0                                                      87143   \n",
       "             1                                                         75   \n",
       "low          0                                                      22468   \n",
       "             1                                                       2656   \n",
       "medium       0                                                     146857   \n",
       "             1                                                       1402   \n",
       "\n",
       "                                               has_secondary_use_health_post  \\\n",
       "damage_grade has_superstructure_rc_engineered                                  \n",
       "high         0                                                         87143   \n",
       "             1                                                            75   \n",
       "low          0                                                         22468   \n",
       "             1                                                          2656   \n",
       "medium       0                                                        146857   \n",
       "             1                                                          1402   \n",
       "\n",
       "                                               has_secondary_use_gov_office  \\\n",
       "damage_grade has_superstructure_rc_engineered                                 \n",
       "high         0                                                        87143   \n",
       "             1                                                           75   \n",
       "low          0                                                        22468   \n",
       "             1                                                         2656   \n",
       "medium       0                                                       146857   \n",
       "             1                                                         1402   \n",
       "\n",
       "                                               has_secondary_use_use_police  \\\n",
       "damage_grade has_superstructure_rc_engineered                                 \n",
       "high         0                                                        87143   \n",
       "             1                                                           75   \n",
       "low          0                                                        22468   \n",
       "             1                                                         2656   \n",
       "medium       0                                                       146857   \n",
       "             1                                                         1402   \n",
       "\n",
       "                                               has_secondary_use_other  binned  \n",
       "damage_grade has_superstructure_rc_engineered                                   \n",
       "high         0                                                   87143   87143  \n",
       "             1                                                      75      75  \n",
       "low          0                                                   22468   22468  \n",
       "             1                                                    2656    2656  \n",
       "medium       0                                                  146857  146857  \n",
       "             1                                                    1402    1402  \n",
       "\n",
       "[6 rows x 39 columns]"
      ]
     },
     "execution_count": 18,
     "metadata": {},
     "output_type": "execute_result"
    }
   ],
   "source": [
    "df.groupby([\"damage_grade\",\"has_superstructure_rc_engineered\"]).count()"
   ]
  },
  {
   "cell_type": "code",
   "execution_count": 19,
   "id": "specified-spectacular",
   "metadata": {},
   "outputs": [
    {
     "data": {
      "text/plain": [
       "medium    148259\n",
       "high       87218\n",
       "low        25124\n",
       "Name: damage_grade, dtype: int64"
      ]
     },
     "execution_count": 19,
     "metadata": {},
     "output_type": "execute_result"
    }
   ],
   "source": [
    "df[\"damage_grade\"].value_counts()"
   ]
  },
  {
   "cell_type": "code",
   "execution_count": 20,
   "id": "sufficient-dispute",
   "metadata": {},
   "outputs": [],
   "source": [
    "a = df.groupby([\"has_superstructure_rc_non_engineered\",\"has_superstructure_rc_engineered\",\"damage_grade\"]).agg(count=(\"building_id\",\"count\"))"
   ]
  },
  {
   "cell_type": "code",
   "execution_count": 21,
   "id": "forward-metabolism",
   "metadata": {},
   "outputs": [],
   "source": [
    "a = a.reset_index()"
   ]
  },
  {
   "cell_type": "code",
   "execution_count": 22,
   "id": "hungarian-grace",
   "metadata": {},
   "outputs": [],
   "source": [
    "def fun(value):\n",
    "    if( value == 3 ):\n",
    "        return \"Both\"\n",
    "    if( value == 2 ):\n",
    "        return \"Engineered\"\n",
    "    if( value == 1 ):\n",
    "        return \"Non_engineered\"\n",
    "    return \"None\""
   ]
  },
  {
   "cell_type": "code",
   "execution_count": 23,
   "id": "frank-saudi",
   "metadata": {},
   "outputs": [],
   "source": [
    "a[\"superstructure_rc\"] = a[\"has_superstructure_rc_non_engineered\"] + a[\"has_superstructure_rc_engineered\"]*2\n",
    "a[\"superstructure_rc\"] = a[\"superstructure_rc\"].transform(fun)"
   ]
  },
  {
   "cell_type": "code",
   "execution_count": 24,
   "id": "after-prevention",
   "metadata": {
    "tags": []
   },
   "outputs": [],
   "source": [
    "a = a.drop(columns=[\"has_superstructure_rc_non_engineered\",\"has_superstructure_rc_engineered\"])"
   ]
  },
  {
   "cell_type": "code",
   "execution_count": 25,
   "id": "retired-stamp",
   "metadata": {},
   "outputs": [
    {
     "data": {
      "text/html": [
       "<div>\n",
       "<style scoped>\n",
       "    .dataframe tbody tr th:only-of-type {\n",
       "        vertical-align: middle;\n",
       "    }\n",
       "\n",
       "    .dataframe tbody tr th {\n",
       "        vertical-align: top;\n",
       "    }\n",
       "\n",
       "    .dataframe thead th {\n",
       "        text-align: right;\n",
       "    }\n",
       "</style>\n",
       "<table border=\"1\" class=\"dataframe\">\n",
       "  <thead>\n",
       "    <tr style=\"text-align: right;\">\n",
       "      <th></th>\n",
       "      <th>damage_grade</th>\n",
       "      <th>count</th>\n",
       "      <th>superstructure_rc</th>\n",
       "    </tr>\n",
       "  </thead>\n",
       "  <tbody>\n",
       "    <tr>\n",
       "      <th>0</th>\n",
       "      <td>high</td>\n",
       "      <td>85737</td>\n",
       "      <td>None</td>\n",
       "    </tr>\n",
       "    <tr>\n",
       "      <th>1</th>\n",
       "      <td>low</td>\n",
       "      <td>18671</td>\n",
       "      <td>None</td>\n",
       "    </tr>\n",
       "    <tr>\n",
       "      <th>2</th>\n",
       "      <td>medium</td>\n",
       "      <td>141056</td>\n",
       "      <td>None</td>\n",
       "    </tr>\n",
       "    <tr>\n",
       "      <th>3</th>\n",
       "      <td>high</td>\n",
       "      <td>71</td>\n",
       "      <td>Engineered</td>\n",
       "    </tr>\n",
       "    <tr>\n",
       "      <th>4</th>\n",
       "      <td>low</td>\n",
       "      <td>2596</td>\n",
       "      <td>Engineered</td>\n",
       "    </tr>\n",
       "    <tr>\n",
       "      <th>5</th>\n",
       "      <td>medium</td>\n",
       "      <td>1371</td>\n",
       "      <td>Engineered</td>\n",
       "    </tr>\n",
       "    <tr>\n",
       "      <th>6</th>\n",
       "      <td>high</td>\n",
       "      <td>1406</td>\n",
       "      <td>Non_engineered</td>\n",
       "    </tr>\n",
       "    <tr>\n",
       "      <th>7</th>\n",
       "      <td>low</td>\n",
       "      <td>3797</td>\n",
       "      <td>Non_engineered</td>\n",
       "    </tr>\n",
       "    <tr>\n",
       "      <th>8</th>\n",
       "      <td>medium</td>\n",
       "      <td>5801</td>\n",
       "      <td>Non_engineered</td>\n",
       "    </tr>\n",
       "    <tr>\n",
       "      <th>9</th>\n",
       "      <td>high</td>\n",
       "      <td>4</td>\n",
       "      <td>Both</td>\n",
       "    </tr>\n",
       "    <tr>\n",
       "      <th>10</th>\n",
       "      <td>low</td>\n",
       "      <td>60</td>\n",
       "      <td>Both</td>\n",
       "    </tr>\n",
       "    <tr>\n",
       "      <th>11</th>\n",
       "      <td>medium</td>\n",
       "      <td>31</td>\n",
       "      <td>Both</td>\n",
       "    </tr>\n",
       "  </tbody>\n",
       "</table>\n",
       "</div>"
      ],
      "text/plain": [
       "   damage_grade   count superstructure_rc\n",
       "0          high   85737              None\n",
       "1           low   18671              None\n",
       "2        medium  141056              None\n",
       "3          high      71        Engineered\n",
       "4           low    2596        Engineered\n",
       "5        medium    1371        Engineered\n",
       "6          high    1406    Non_engineered\n",
       "7           low    3797    Non_engineered\n",
       "8        medium    5801    Non_engineered\n",
       "9          high       4              Both\n",
       "10          low      60              Both\n",
       "11       medium      31              Both"
      ]
     },
     "execution_count": 25,
     "metadata": {},
     "output_type": "execute_result"
    }
   ],
   "source": [
    "a"
   ]
  },
  {
   "cell_type": "code",
   "execution_count": 26,
   "id": "typical-density",
   "metadata": {},
   "outputs": [
    {
     "data": {
      "text/plain": [
       "<seaborn.axisgrid.FacetGrid at 0x7f11d04e2070>"
      ]
     },
     "execution_count": 26,
     "metadata": {},
     "output_type": "execute_result"
    },
    {
     "data": {
      "image/png": "[encoded data removed]",
      "text/plain": [
       "<Figure size 442.875x360 with 1 Axes>"
      ]
     },
     "metadata": {
      "needs_background": "light"
     },
     "output_type": "display_data"
    }
   ],
   "source": [
    "sns.catplot(x=\"superstructure_rc\", y=\"count\", hue=\"damage_grade\", kind=\"point\", data=a)"
   ]
  },
  {
   "cell_type": "code",
   "execution_count": 36,
   "id": "organizational-billion",
   "metadata": {},
   "outputs": [],
   "source": [
    "radar_data = df.groupby(\"damage_grade\").agg(\"sum\").iloc[:,8:19].T.reset_index().rename(columns={\"index\":\"superestructures\"})\n",
    "radar_data[\"superestructures\"] = radar_data[\"superestructures\"].apply(lambda x: x.replace(\"has_superstructure_\",\"\"))"
   ]
  },
  {
   "cell_type": "code",
   "execution_count": 37,
   "id": "disciplinary-myrtle",
   "metadata": {},
   "outputs": [
    {
     "data": {
      "text/html": [
       "<div>\n",
       "<style scoped>\n",
       "    .dataframe tbody tr th:only-of-type {\n",
       "        vertical-align: middle;\n",
       "    }\n",
       "\n",
       "    .dataframe tbody tr th {\n",
       "        vertical-align: top;\n",
       "    }\n",
       "\n",
       "    .dataframe thead th {\n",
       "        text-align: right;\n",
       "    }\n",
       "</style>\n",
       "<table border=\"1\" class=\"dataframe\">\n",
       "  <thead>\n",
       "    <tr style=\"text-align: right;\">\n",
       "      <th>damage_grade</th>\n",
       "      <th>superestructures</th>\n",
       "      <th>high</th>\n",
       "      <th>low</th>\n",
       "      <th>medium</th>\n",
       "    </tr>\n",
       "  </thead>\n",
       "  <tbody>\n",
       "    <tr>\n",
       "      <th>0</th>\n",
       "      <td>adobe_mud</td>\n",
       "      <td>8605</td>\n",
       "      <td>594</td>\n",
       "      <td>13902</td>\n",
       "    </tr>\n",
       "    <tr>\n",
       "      <th>1</th>\n",
       "      <td>mud_mortar_stone</td>\n",
       "      <td>75854</td>\n",
       "      <td>8760</td>\n",
       "      <td>113947</td>\n",
       "    </tr>\n",
       "    <tr>\n",
       "      <th>2</th>\n",
       "      <td>stone_flag</td>\n",
       "      <td>4231</td>\n",
       "      <td>182</td>\n",
       "      <td>4534</td>\n",
       "    </tr>\n",
       "    <tr>\n",
       "      <th>3</th>\n",
       "      <td>cement_mortar_stone</td>\n",
       "      <td>675</td>\n",
       "      <td>829</td>\n",
       "      <td>3248</td>\n",
       "    </tr>\n",
       "    <tr>\n",
       "      <th>4</th>\n",
       "      <td>mud_mortar_brick</td>\n",
       "      <td>5440</td>\n",
       "      <td>623</td>\n",
       "      <td>11698</td>\n",
       "    </tr>\n",
       "    <tr>\n",
       "      <th>5</th>\n",
       "      <td>cement_mortar_brick</td>\n",
       "      <td>1089</td>\n",
       "      <td>7105</td>\n",
       "      <td>11421</td>\n",
       "    </tr>\n",
       "    <tr>\n",
       "      <th>6</th>\n",
       "      <td>timber</td>\n",
       "      <td>18621</td>\n",
       "      <td>7642</td>\n",
       "      <td>40187</td>\n",
       "    </tr>\n",
       "    <tr>\n",
       "      <th>7</th>\n",
       "      <td>bamboo</td>\n",
       "      <td>5314</td>\n",
       "      <td>2839</td>\n",
       "      <td>14001</td>\n",
       "    </tr>\n",
       "    <tr>\n",
       "      <th>8</th>\n",
       "      <td>rc_non_engineered</td>\n",
       "      <td>1410</td>\n",
       "      <td>3857</td>\n",
       "      <td>5832</td>\n",
       "    </tr>\n",
       "    <tr>\n",
       "      <th>9</th>\n",
       "      <td>rc_engineered</td>\n",
       "      <td>75</td>\n",
       "      <td>2656</td>\n",
       "      <td>1402</td>\n",
       "    </tr>\n",
       "    <tr>\n",
       "      <th>10</th>\n",
       "      <td>other</td>\n",
       "      <td>1001</td>\n",
       "      <td>656</td>\n",
       "      <td>2248</td>\n",
       "    </tr>\n",
       "  </tbody>\n",
       "</table>\n",
       "</div>"
      ],
      "text/plain": [
       "damage_grade     superestructures   high   low  medium\n",
       "0                       adobe_mud   8605   594   13902\n",
       "1                mud_mortar_stone  75854  8760  113947\n",
       "2                      stone_flag   4231   182    4534\n",
       "3             cement_mortar_stone    675   829    3248\n",
       "4                mud_mortar_brick   5440   623   11698\n",
       "5             cement_mortar_brick   1089  7105   11421\n",
       "6                          timber  18621  7642   40187\n",
       "7                          bamboo   5314  2839   14001\n",
       "8               rc_non_engineered   1410  3857    5832\n",
       "9                   rc_engineered     75  2656    1402\n",
       "10                          other   1001   656    2248"
      ]
     },
     "execution_count": 37,
     "metadata": {},
     "output_type": "execute_result"
    }
   ],
   "source": [
    "radar_data"
   ]
  },
  {
   "cell_type": "code",
   "execution_count": 40,
   "id": "published-florist",
   "metadata": {},
   "outputs": [
    {
     "data": {
      "application/vnd.plotly.v1+json": {
       "config": {
        "plotlyServerURL": "https://plot.ly"
       },
       "data": [
        {
         "fill": "toself",
         "hovertemplate": "low=%{r}<br>superestructures=%{theta}<extra></extra>",
         "legendgroup": "",
         "line": {
          "color": "#636efa",
          "dash": "solid"
         },
         "mode": "lines",
         "name": "",
         "r": [
          594,
          8760,
          182,
          829,
          623,
          7105,
          7642,
          2839,
          3857,
          2656,
          656,
          594
         ],
         "showlegend": false,
         "subplot": "polar",
         "theta": [
          "adobe_mud",
          "mud_mortar_stone",
          "stone_flag",
          "cement_mortar_stone",
          "mud_mortar_brick",
          "cement_mortar_brick",
          "timber",
          "bamboo",
          "rc_non_engineered",
          "rc_engineered",
          "other",
          "adobe_mud"
         ],
         "type": "scatterpolar"
        }
       ],
       "layout": {
        "autosize": true,
        "legend": {
         "tracegroupgap": 0
        },
        "margin": {
         "t": 60
        },
        "polar": {
         "angularaxis": {
          "direction": "clockwise",
          "rotation": 90,
          "type": "category"
         },
         "domain": {
          "x": [
           0,
           1
          ],
          "y": [
           0,
           1
          ]
         },
         "radialaxis": {
          "autorange": true,
          "range": [
           0,
           8760
          ],
          "type": "linear"
         }
        },
        "template": {
         "data": {
          "bar": [
           {
            "error_x": {
             "color": "#2a3f5f"
            },
            "error_y": {
             "color": "#2a3f5f"
            },
            "marker": {
             "line": {
              "color": "#E5ECF6",
              "width": 0.5
             }
            },
            "type": "bar"
           }
          ],
          "barpolar": [
           {
            "marker": {
             "line": {
              "color": "#E5ECF6",
              "width": 0.5
             }
            },
            "type": "barpolar"
           }
          ],
          "carpet": [
           {
            "aaxis": {
             "endlinecolor": "#2a3f5f",
             "gridcolor": "white",
             "linecolor": "white",
             "minorgridcolor": "white",
             "startlinecolor": "#2a3f5f"
            },
            "baxis": {
             "endlinecolor": "#2a3f5f",
             "gridcolor": "white",
             "linecolor": "white",
             "minorgridcolor": "white",
             "startlinecolor": "#2a3f5f"
            },
            "type": "carpet"
           }
          ],
          "choropleth": [
           {
            "colorbar": {
             "outlinewidth": 0,
             "ticks": ""
            },
            "type": "choropleth"
           }
          ],
          "contour": [
           {
            "colorbar": {
             "outlinewidth": 0,
             "ticks": ""
            },
            "colorscale": [
             [
              0,
              "#0d0887"
             ],
             [
              0.1111111111111111,
              "#46039f"
             ],
             [
              0.2222222222222222,
              "#7201a8"
             ],
             [
              0.3333333333333333,
              "#9c179e"
             ],
             [
              0.4444444444444444,
              "#bd3786"
             ],
             [
              0.5555555555555556,
              "#d8576b"
             ],
             [
              0.6666666666666666,
              "#ed7953"
             ],
             [
              0.7777777777777778,
              "#fb9f3a"
             ],
             [
              0.8888888888888888,
              "#fdca26"
             ],
             [
              1,
              "#f0f921"
             ]
            ],
            "type": "contour"
           }
          ],
          "contourcarpet": [
           {
            "colorbar": {
             "outlinewidth": 0,
             "ticks": ""
            },
            "type": "contourcarpet"
           }
          ],
          "heatmap": [
           {
            "colorbar": {
             "outlinewidth": 0,
             "ticks": ""
            },
            "colorscale": [
             [
              0,
              "#0d0887"
             ],
             [
              0.1111111111111111,
              "#46039f"
             ],
             [
              0.2222222222222222,
              "#7201a8"
             ],
             [
              0.3333333333333333,
              "#9c179e"
             ],
             [
              0.4444444444444444,
              "#bd3786"
             ],
             [
              0.5555555555555556,
              "#d8576b"
             ],
             [
              0.6666666666666666,
              "#ed7953"
             ],
             [
              0.7777777777777778,
              "#fb9f3a"
             ],
             [
              0.8888888888888888,
              "#fdca26"
             ],
             [
              1,
              "#f0f921"
             ]
            ],
            "type": "heatmap"
           }
          ],
          "heatmapgl": [
           {
            "colorbar": {
             "outlinewidth": 0,
             "ticks": ""
            },
            "colorscale": [
             [
              0,
              "#0d0887"
             ],
             [
              0.1111111111111111,
              "#46039f"
             ],
             [
              0.2222222222222222,
              "#7201a8"
             ],
             [
              0.3333333333333333,
              "#9c179e"
             ],
             [
              0.4444444444444444,
              "#bd3786"
             ],
             [
              0.5555555555555556,
              "#d8576b"
             ],
             [
              0.6666666666666666,
              "#ed7953"
             ],
             [
              0.7777777777777778,
              "#fb9f3a"
             ],
             [
              0.8888888888888888,
              "#fdca26"
             ],
             [
              1,
              "#f0f921"
             ]
            ],
            "type": "heatmapgl"
           }
          ],
          "histogram": [
           {
            "marker": {
             "colorbar": {
              "outlinewidth": 0,
              "ticks": ""
             }
            },
            "type": "histogram"
           }
          ],
          "histogram2d": [
           {
            "colorbar": {
             "outlinewidth": 0,
             "ticks": ""
            },
            "colorscale": [
             [
              0,
              "#0d0887"
             ],
             [
              0.1111111111111111,
              "#46039f"
             ],
             [
              0.2222222222222222,
              "#7201a8"
             ],
             [
              0.3333333333333333,
              "#9c179e"
             ],
             [
              0.4444444444444444,
              "#bd3786"
             ],
             [
              0.5555555555555556,
              "#d8576b"
             ],
             [
              0.6666666666666666,
              "#ed7953"
             ],
             [
              0.7777777777777778,
              "#fb9f3a"
             ],
             [
              0.8888888888888888,
              "#fdca26"
             ],
             [
              1,
              "#f0f921"
             ]
            ],
            "type": "histogram2d"
           }
          ],
          "histogram2dcontour": [
           {
            "colorbar": {
             "outlinewidth": 0,
             "ticks": ""
            },
            "colorscale": [
             [
              0,
              "#0d0887"
             ],
             [
              0.1111111111111111,
              "#46039f"
             ],
             [
              0.2222222222222222,
              "#7201a8"
             ],
             [
              0.3333333333333333,
              "#9c179e"
             ],
             [
              0.4444444444444444,
              "#bd3786"
             ],
             [
              0.5555555555555556,
              "#d8576b"
             ],
             [
              0.6666666666666666,
              "#ed7953"
             ],
             [
              0.7777777777777778,
              "#fb9f3a"
             ],
             [
              0.8888888888888888,
              "#fdca26"
             ],
             [
              1,
              "#f0f921"
             ]
            ],
            "type": "histogram2dcontour"
           }
          ],
          "mesh3d": [
           {
            "colorbar": {
             "outlinewidth": 0,
             "ticks": ""
            },
            "type": "mesh3d"
           }
          ],
          "parcoords": [
           {
            "line": {
             "colorbar": {
              "outlinewidth": 0,
              "ticks": ""
             }
            },
            "type": "parcoords"
           }
          ],
          "pie": [
           {
            "automargin": true,
            "type": "pie"
           }
          ],
          "scatter": [
           {
            "marker": {
             "colorbar": {
              "outlinewidth": 0,
              "ticks": ""
             }
            },
            "type": "scatter"
           }
          ],
          "scatter3d": [
           {
            "line": {
             "colorbar": {
              "outlinewidth": 0,
              "ticks": ""
             }
            },
            "marker": {
             "colorbar": {
              "outlinewidth": 0,
              "ticks": ""
             }
            },
            "type": "scatter3d"
           }
          ],
          "scattercarpet": [
           {
            "marker": {
             "colorbar": {
              "outlinewidth": 0,
              "ticks": ""
             }
            },
            "type": "scattercarpet"
           }
          ],
          "scattergeo": [
           {
            "marker": {
             "colorbar": {
              "outlinewidth": 0,
              "ticks": ""
             }
            },
            "type": "scattergeo"
           }
          ],
          "scattergl": [
           {
            "marker": {
             "colorbar": {
              "outlinewidth": 0,
              "ticks": ""
             }
            },
            "type": "scattergl"
           }
          ],
          "scattermapbox": [
           {
            "marker": {
             "colorbar": {
              "outlinewidth": 0,
              "ticks": ""
             }
            },
            "type": "scattermapbox"
           }
          ],
          "scatterpolar": [
           {
            "marker": {
             "colorbar": {
              "outlinewidth": 0,
              "ticks": ""
             }
            },
            "type": "scatterpolar"
           }
          ],
          "scatterpolargl": [
           {
            "marker": {
             "colorbar": {
              "outlinewidth": 0,
              "ticks": ""
             }
            },
            "type": "scatterpolargl"
           }
          ],
          "scatterternary": [
           {
            "marker": {
             "colorbar": {
              "outlinewidth": 0,
              "ticks": ""
             }
            },
            "type": "scatterternary"
           }
          ],
          "surface": [
           {
            "colorbar": {
             "outlinewidth": 0,
             "ticks": ""
            },
            "colorscale": [
             [
              0,
              "#0d0887"
             ],
             [
              0.1111111111111111,
              "#46039f"
             ],
             [
              0.2222222222222222,
              "#7201a8"
             ],
             [
              0.3333333333333333,
              "#9c179e"
             ],
             [
              0.4444444444444444,
              "#bd3786"
             ],
             [
              0.5555555555555556,
              "#d8576b"
             ],
             [
              0.6666666666666666,
              "#ed7953"
             ],
             [
              0.7777777777777778,
              "#fb9f3a"
             ],
             [
              0.8888888888888888,
              "#fdca26"
             ],
             [
              1,
              "#f0f921"
             ]
            ],
            "type": "surface"
           }
          ],
          "table": [
           {
            "cells": {
             "fill": {
              "color": "#EBF0F8"
             },
             "line": {
              "color": "white"
             }
            },
            "header": {
             "fill": {
              "color": "#C8D4E3"
             },
             "line": {
              "color": "white"
             }
            },
            "type": "table"
           }
          ]
         },
         "layout": {
          "annotationdefaults": {
           "arrowcolor": "#2a3f5f",
           "arrowhead": 0,
           "arrowwidth": 1
          },
          "autotypenumbers": "strict",
          "coloraxis": {
           "colorbar": {
            "outlinewidth": 0,
            "ticks": ""
           }
          },
          "colorscale": {
           "diverging": [
            [
             0,
             "#8e0152"
            ],
            [
             0.1,
             "#c51b7d"
            ],
            [
             0.2,
             "#de77ae"
            ],
            [
             0.3,
             "#f1b6da"
            ],
            [
             0.4,
             "#fde0ef"
            ],
            [
             0.5,
             "#f7f7f7"
            ],
            [
             0.6,
             "#e6f5d0"
            ],
            [
             0.7,
             "#b8e186"
            ],
            [
             0.8,
             "#7fbc41"
            ],
            [
             0.9,
             "#4d9221"
            ],
            [
             1,
             "#276419"
            ]
           ],
           "sequential": [
            [
             0,
             "#0d0887"
            ],
            [
             0.1111111111111111,
             "#46039f"
            ],
            [
             0.2222222222222222,
             "#7201a8"
            ],
            [
             0.3333333333333333,
             "#9c179e"
            ],
            [
             0.4444444444444444,
             "#bd3786"
            ],
            [
             0.5555555555555556,
             "#d8576b"
            ],
            [
             0.6666666666666666,
             "#ed7953"
            ],
            [
             0.7777777777777778,
             "#fb9f3a"
            ],
            [
             0.8888888888888888,
             "#fdca26"
            ],
            [
             1,
             "#f0f921"
            ]
           ],
           "sequentialminus": [
            [
             0,
             "#0d0887"
            ],
            [
             0.1111111111111111,
             "#46039f"
            ],
            [
             0.2222222222222222,
             "#7201a8"
            ],
            [
             0.3333333333333333,
             "#9c179e"
            ],
            [
             0.4444444444444444,
             "#bd3786"
            ],
            [
             0.5555555555555556,
             "#d8576b"
            ],
            [
             0.6666666666666666,
             "#ed7953"
            ],
            [
             0.7777777777777778,
             "#fb9f3a"
            ],
            [
             0.8888888888888888,
             "#fdca26"
            ],
            [
             1,
             "#f0f921"
            ]
           ]
          },
          "colorway": [
           "#636efa",
           "#EF553B",
           "#00cc96",
           "#ab63fa",
           "#FFA15A",
           "#19d3f3",
           "#FF6692",
           "#B6E880",
           "#FF97FF",
           "#FECB52"
          ],
          "font": {
           "color": "#2a3f5f"
          },
          "geo": {
           "bgcolor": "white",
           "lakecolor": "white",
           "landcolor": "#E5ECF6",
           "showlakes": true,
           "showland": true,
           "subunitcolor": "white"
          },
          "hoverlabel": {
           "align": "left"
          },
          "hovermode": "closest",
          "mapbox": {
           "style": "light"
          },
          "paper_bgcolor": "white",
          "plot_bgcolor": "#E5ECF6",
          "polar": {
           "angularaxis": {
            "gridcolor": "white",
            "linecolor": "white",
            "ticks": ""
           },
           "bgcolor": "#E5ECF6",
           "radialaxis": {
            "gridcolor": "white",
            "linecolor": "white",
            "ticks": ""
           }
          },
          "scene": {
           "xaxis": {
            "backgroundcolor": "#E5ECF6",
            "gridcolor": "white",
            "gridwidth": 2,
            "linecolor": "white",
            "showbackground": true,
            "ticks": "",
            "zerolinecolor": "white"
           },
           "yaxis": {
            "backgroundcolor": "#E5ECF6",
            "gridcolor": "white",
            "gridwidth": 2,
            "linecolor": "white",
            "showbackground": true,
            "ticks": "",
            "zerolinecolor": "white"
           },
           "zaxis": {
            "backgroundcolor": "#E5ECF6",
            "gridcolor": "white",
            "gridwidth": 2,
            "linecolor": "white",
            "showbackground": true,
            "ticks": "",
            "zerolinecolor": "white"
           }
          },
          "shapedefaults": {
           "line": {
            "color": "#2a3f5f"
           }
          },
          "ternary": {
           "aaxis": {
            "gridcolor": "white",
            "linecolor": "white",
            "ticks": ""
           },
           "baxis": {
            "gridcolor": "white",
            "linecolor": "white",
            "ticks": ""
           },
           "bgcolor": "#E5ECF6",
           "caxis": {
            "gridcolor": "white",
            "linecolor": "white",
            "ticks": ""
           }
          },
          "title": {
           "x": 0.05
          },
          "xaxis": {
           "automargin": true,
           "gridcolor": "white",
           "linecolor": "white",
           "ticks": "",
           "title": {
            "standoff": 15
           },
           "zerolinecolor": "white",
           "zerolinewidth": 2
          },
          "yaxis": {
           "automargin": true,
           "gridcolor": "white",
           "linecolor": "white",
           "ticks": "",
           "title": {
            "standoff": 15
           },
           "zerolinecolor": "white",
           "zerolinewidth": 2
          }
         }
        }
       }
      },
      "image/png": "[encoded data removed]",
      "text/html": [
       "<div>                            <div id=\"42f515ea-3e19-49d9-a942-25abf7b16464\" class=\"plotly-graph-div\" style=\"height:525px; width:100%;\"></div>            <script type=\"text/javascript\">                require([\"plotly\"], function(Plotly) {                    window.PLOTLYENV=window.PLOTLYENV || {};                                    if (document.getElementById(\"42f515ea-3e19-49d9-a942-25abf7b16464\")) {                    Plotly.newPlot(                        \"42f515ea-3e19-49d9-a942-25abf7b16464\",                        [{\"fill\": \"toself\", \"hovertemplate\": \"low=%{r}<br>superestructures=%{theta}<extra></extra>\", \"legendgroup\": \"\", \"line\": {\"color\": \"#636efa\", \"dash\": \"solid\"}, \"mode\": \"lines\", \"name\": \"\", \"r\": [594, 8760, 182, 829, 623, 7105, 7642, 2839, 3857, 2656, 656, 594], \"showlegend\": false, \"subplot\": \"polar\", \"theta\": [\"adobe_mud\", \"mud_mortar_stone\", \"stone_flag\", \"cement_mortar_stone\", \"mud_mortar_brick\", \"cement_mortar_brick\", \"timber\", \"bamboo\", \"rc_non_engineered\", \"rc_engineered\", \"other\", \"adobe_mud\"], \"type\": \"scatterpolar\"}],                        {\"legend\": {\"tracegroupgap\": 0}, \"margin\": {\"t\": 60}, \"polar\": {\"angularaxis\": {\"direction\": \"clockwise\", \"rotation\": 90}, \"domain\": {\"x\": [0.0, 1.0], \"y\": [0.0, 1.0]}}, \"template\": {\"data\": {\"bar\": [{\"error_x\": {\"color\": \"#2a3f5f\"}, \"error_y\": {\"color\": \"#2a3f5f\"}, \"marker\": {\"line\": {\"color\": \"#E5ECF6\", \"width\": 0.5}}, \"type\": \"bar\"}], \"barpolar\": [{\"marker\": {\"line\": {\"color\": \"#E5ECF6\", \"width\": 0.5}}, \"type\": \"barpolar\"}], \"carpet\": [{\"aaxis\": {\"endlinecolor\": \"#2a3f5f\", \"gridcolor\": \"white\", \"linecolor\": \"white\", \"minorgridcolor\": \"white\", \"startlinecolor\": \"#2a3f5f\"}, \"baxis\": {\"endlinecolor\": \"#2a3f5f\", \"gridcolor\": \"white\", \"linecolor\": \"white\", \"minorgridcolor\": \"white\", \"startlinecolor\": \"#2a3f5f\"}, \"type\": \"carpet\"}], \"choropleth\": [{\"colorbar\": {\"outlinewidth\": 0, \"ticks\": \"\"}, \"type\": \"choropleth\"}], \"contour\": [{\"colorbar\": {\"outlinewidth\": 0, \"ticks\": \"\"}, \"colorscale\": [[0.0, \"#0d0887\"], [0.1111111111111111, \"#46039f\"], [0.2222222222222222, \"#7201a8\"], [0.3333333333333333, \"#9c179e\"], [0.4444444444444444, \"#bd3786\"], [0.5555555555555556, \"#d8576b\"], [0.6666666666666666, \"#ed7953\"], [0.7777777777777778, \"#fb9f3a\"], [0.8888888888888888, \"#fdca26\"], [1.0, \"#f0f921\"]], \"type\": \"contour\"}], \"contourcarpet\": [{\"colorbar\": {\"outlinewidth\": 0, \"ticks\": \"\"}, \"type\": \"contourcarpet\"}], \"heatmap\": [{\"colorbar\": {\"outlinewidth\": 0, \"ticks\": \"\"}, \"colorscale\": [[0.0, \"#0d0887\"], [0.1111111111111111, \"#46039f\"], [0.2222222222222222, \"#7201a8\"], [0.3333333333333333, \"#9c179e\"], [0.4444444444444444, \"#bd3786\"], [0.5555555555555556, \"#d8576b\"], [0.6666666666666666, \"#ed7953\"], [0.7777777777777778, \"#fb9f3a\"], [0.8888888888888888, \"#fdca26\"], [1.0, \"#f0f921\"]], \"type\": \"heatmap\"}], \"heatmapgl\": [{\"colorbar\": {\"outlinewidth\": 0, \"ticks\": \"\"}, \"colorscale\": [[0.0, \"#0d0887\"], [0.1111111111111111, \"#46039f\"], [0.2222222222222222, \"#7201a8\"], [0.3333333333333333, \"#9c179e\"], [0.4444444444444444, \"#bd3786\"], [0.5555555555555556, \"#d8576b\"], [0.6666666666666666, \"#ed7953\"], [0.7777777777777778, \"#fb9f3a\"], [0.8888888888888888, \"#fdca26\"], [1.0, \"#f0f921\"]], \"type\": \"heatmapgl\"}], \"histogram\": [{\"marker\": {\"colorbar\": {\"outlinewidth\": 0, \"ticks\": \"\"}}, \"type\": \"histogram\"}], \"histogram2d\": [{\"colorbar\": {\"outlinewidth\": 0, \"ticks\": \"\"}, \"colorscale\": [[0.0, \"#0d0887\"], [0.1111111111111111, \"#46039f\"], [0.2222222222222222, \"#7201a8\"], [0.3333333333333333, \"#9c179e\"], [0.4444444444444444, \"#bd3786\"], [0.5555555555555556, \"#d8576b\"], [0.6666666666666666, \"#ed7953\"], [0.7777777777777778, \"#fb9f3a\"], [0.8888888888888888, \"#fdca26\"], [1.0, \"#f0f921\"]], \"type\": \"histogram2d\"}], \"histogram2dcontour\": [{\"colorbar\": {\"outlinewidth\": 0, \"ticks\": \"\"}, \"colorscale\": [[0.0, \"#0d0887\"], [0.1111111111111111, \"#46039f\"], [0.2222222222222222, \"#7201a8\"], [0.3333333333333333, \"#9c179e\"], [0.4444444444444444, \"#bd3786\"], [0.5555555555555556, \"#d8576b\"], [0.6666666666666666, \"#ed7953\"], [0.7777777777777778, \"#fb9f3a\"], [0.8888888888888888, \"#fdca26\"], [1.0, \"#f0f921\"]], \"type\": \"histogram2dcontour\"}], \"mesh3d\": [{\"colorbar\": {\"outlinewidth\": 0, \"ticks\": \"\"}, \"type\": \"mesh3d\"}], \"parcoords\": [{\"line\": {\"colorbar\": {\"outlinewidth\": 0, \"ticks\": \"\"}}, \"type\": \"parcoords\"}], \"pie\": [{\"automargin\": true, \"type\": \"pie\"}], \"scatter\": [{\"marker\": {\"colorbar\": {\"outlinewidth\": 0, \"ticks\": \"\"}}, \"type\": \"scatter\"}], \"scatter3d\": [{\"line\": {\"colorbar\": {\"outlinewidth\": 0, \"ticks\": \"\"}}, \"marker\": {\"colorbar\": {\"outlinewidth\": 0, \"ticks\": \"\"}}, \"type\": \"scatter3d\"}], \"scattercarpet\": [{\"marker\": {\"colorbar\": {\"outlinewidth\": 0, \"ticks\": \"\"}}, \"type\": \"scattercarpet\"}], \"scattergeo\": [{\"marker\": {\"colorbar\": {\"outlinewidth\": 0, \"ticks\": \"\"}}, \"type\": \"scattergeo\"}], \"scattergl\": [{\"marker\": {\"colorbar\": {\"outlinewidth\": 0, \"ticks\": \"\"}}, \"type\": \"scattergl\"}], \"scattermapbox\": [{\"marker\": {\"colorbar\": {\"outlinewidth\": 0, \"ticks\": \"\"}}, \"type\": \"scattermapbox\"}], \"scatterpolar\": [{\"marker\": {\"colorbar\": {\"outlinewidth\": 0, \"ticks\": \"\"}}, \"type\": \"scatterpolar\"}], \"scatterpolargl\": [{\"marker\": {\"colorbar\": {\"outlinewidth\": 0, \"ticks\": \"\"}}, \"type\": \"scatterpolargl\"}], \"scatterternary\": [{\"marker\": {\"colorbar\": {\"outlinewidth\": 0, \"ticks\": \"\"}}, \"type\": \"scatterternary\"}], \"surface\": [{\"colorbar\": {\"outlinewidth\": 0, \"ticks\": \"\"}, \"colorscale\": [[0.0, \"#0d0887\"], [0.1111111111111111, \"#46039f\"], [0.2222222222222222, \"#7201a8\"], [0.3333333333333333, \"#9c179e\"], [0.4444444444444444, \"#bd3786\"], [0.5555555555555556, \"#d8576b\"], [0.6666666666666666, \"#ed7953\"], [0.7777777777777778, \"#fb9f3a\"], [0.8888888888888888, \"#fdca26\"], [1.0, \"#f0f921\"]], \"type\": \"surface\"}], \"table\": [{\"cells\": {\"fill\": {\"color\": \"#EBF0F8\"}, \"line\": {\"color\": \"white\"}}, \"header\": {\"fill\": {\"color\": \"#C8D4E3\"}, \"line\": {\"color\": \"white\"}}, \"type\": \"table\"}]}, \"layout\": {\"annotationdefaults\": {\"arrowcolor\": \"#2a3f5f\", \"arrowhead\": 0, \"arrowwidth\": 1}, \"autotypenumbers\": \"strict\", \"coloraxis\": {\"colorbar\": {\"outlinewidth\": 0, \"ticks\": \"\"}}, \"colorscale\": {\"diverging\": [[0, \"#8e0152\"], [0.1, \"#c51b7d\"], [0.2, \"#de77ae\"], [0.3, \"#f1b6da\"], [0.4, \"#fde0ef\"], [0.5, \"#f7f7f7\"], [0.6, \"#e6f5d0\"], [0.7, \"#b8e186\"], [0.8, \"#7fbc41\"], [0.9, \"#4d9221\"], [1, \"#276419\"]], \"sequential\": [[0.0, \"#0d0887\"], [0.1111111111111111, \"#46039f\"], [0.2222222222222222, \"#7201a8\"], [0.3333333333333333, \"#9c179e\"], [0.4444444444444444, \"#bd3786\"], [0.5555555555555556, \"#d8576b\"], [0.6666666666666666, \"#ed7953\"], [0.7777777777777778, \"#fb9f3a\"], [0.8888888888888888, \"#fdca26\"], [1.0, \"#f0f921\"]], \"sequentialminus\": [[0.0, \"#0d0887\"], [0.1111111111111111, \"#46039f\"], [0.2222222222222222, \"#7201a8\"], [0.3333333333333333, \"#9c179e\"], [0.4444444444444444, \"#bd3786\"], [0.5555555555555556, \"#d8576b\"], [0.6666666666666666, \"#ed7953\"], [0.7777777777777778, \"#fb9f3a\"], [0.8888888888888888, \"#fdca26\"], [1.0, \"#f0f921\"]]}, \"colorway\": [\"#636efa\", \"#EF553B\", \"#00cc96\", \"#ab63fa\", \"#FFA15A\", \"#19d3f3\", \"#FF6692\", \"#B6E880\", \"#FF97FF\", \"#FECB52\"], \"font\": {\"color\": \"#2a3f5f\"}, \"geo\": {\"bgcolor\": \"white\", \"lakecolor\": \"white\", \"landcolor\": \"#E5ECF6\", \"showlakes\": true, \"showland\": true, \"subunitcolor\": \"white\"}, \"hoverlabel\": {\"align\": \"left\"}, \"hovermode\": \"closest\", \"mapbox\": {\"style\": \"light\"}, \"paper_bgcolor\": \"white\", \"plot_bgcolor\": \"#E5ECF6\", \"polar\": {\"angularaxis\": {\"gridcolor\": \"white\", \"linecolor\": \"white\", \"ticks\": \"\"}, \"bgcolor\": \"#E5ECF6\", \"radialaxis\": {\"gridcolor\": \"white\", \"linecolor\": \"white\", \"ticks\": \"\"}}, \"scene\": {\"xaxis\": {\"backgroundcolor\": \"#E5ECF6\", \"gridcolor\": \"white\", \"gridwidth\": 2, \"linecolor\": \"white\", \"showbackground\": true, \"ticks\": \"\", \"zerolinecolor\": \"white\"}, \"yaxis\": {\"backgroundcolor\": \"#E5ECF6\", \"gridcolor\": \"white\", \"gridwidth\": 2, \"linecolor\": \"white\", \"showbackground\": true, \"ticks\": \"\", \"zerolinecolor\": \"white\"}, \"zaxis\": {\"backgroundcolor\": \"#E5ECF6\", \"gridcolor\": \"white\", \"gridwidth\": 2, \"linecolor\": \"white\", \"showbackground\": true, \"ticks\": \"\", \"zerolinecolor\": \"white\"}}, \"shapedefaults\": {\"line\": {\"color\": \"#2a3f5f\"}}, \"ternary\": {\"aaxis\": {\"gridcolor\": \"white\", \"linecolor\": \"white\", \"ticks\": \"\"}, \"baxis\": {\"gridcolor\": \"white\", \"linecolor\": \"white\", \"ticks\": \"\"}, \"bgcolor\": \"#E5ECF6\", \"caxis\": {\"gridcolor\": \"white\", \"linecolor\": \"white\", \"ticks\": \"\"}}, \"title\": {\"x\": 0.05}, \"xaxis\": {\"automargin\": true, \"gridcolor\": \"white\", \"linecolor\": \"white\", \"ticks\": \"\", \"title\": {\"standoff\": 15}, \"zerolinecolor\": \"white\", \"zerolinewidth\": 2}, \"yaxis\": {\"automargin\": true, \"gridcolor\": \"white\", \"linecolor\": \"white\", \"ticks\": \"\", \"title\": {\"standoff\": 15}, \"zerolinecolor\": \"white\", \"zerolinewidth\": 2}}}},                        {\"responsive\": true}                    ).then(function(){\n",
       "                            \n",
       "var gd = document.getElementById('42f515ea-3e19-49d9-a942-25abf7b16464');\n",
       "var x = new MutationObserver(function (mutations, observer) {{\n",
       "        var display = window.getComputedStyle(gd).display;\n",
       "        if (!display || display === 'none') {{\n",
       "            console.log([gd, 'removed!']);\n",
       "            Plotly.purge(gd);\n",
       "            observer.disconnect();\n",
       "        }}\n",
       "}});\n",
       "\n",
       "// Listen for the removal of the full notebook cells\n",
       "var notebookContainer = gd.closest('#notebook-container');\n",
       "if (notebookContainer) {{\n",
       "    x.observe(notebookContainer, {childList: true});\n",
       "}}\n",
       "\n",
       "// Listen for the clearing of the current output cell\n",
       "var outputEl = gd.closest('.output');\n",
       "if (outputEl) {{\n",
       "    x.observe(outputEl, {childList: true});\n",
       "}}\n",
       "\n",
       "                        })                };                });            </script>        </div>"
      ]
     },
     "metadata": {},
     "output_type": "display_data"
    }
   ],
   "source": [
    "#para ejecutar poner en terminal pip install plotly\n",
    "# y dsp jupyter labextension install jupyterlab-plotly\n",
    "import plotly.express as px\n",
    "\n",
    "fig = px.line_polar(radar_data, r='low', theta='superestructures', line_close=True)\n",
    "fig.update_traces(fill='toself')\n",
    "fig.show()"
   ]
  },
  {
   "cell_type": "code",
   "execution_count": 41,
   "id": "vulnerable-infrastructure",
   "metadata": {},
   "outputs": [
    {
     "data": {
      "application/vnd.plotly.v1+json": {
       "config": {
        "plotlyServerURL": "https://plot.ly"
       },
       "data": [
        {
         "fill": "toself",
         "hovertemplate": "medium=%{r}<br>superestructures=%{theta}<extra></extra>",
         "legendgroup": "",
         "line": {
          "color": "#636efa",
          "dash": "solid"
         },
         "mode": "lines",
         "name": "",
         "r": [
          13902,
          113947,
          4534,
          3248,
          11698,
          11421,
          40187,
          14001,
          5832,
          1402,
          2248,
          13902
         ],
         "showlegend": false,
         "subplot": "polar",
         "theta": [
          "adobe_mud",
          "mud_mortar_stone",
          "stone_flag",
          "cement_mortar_stone",
          "mud_mortar_brick",
          "cement_mortar_brick",
          "timber",
          "bamboo",
          "rc_non_engineered",
          "rc_engineered",
          "other",
          "adobe_mud"
         ],
         "type": "scatterpolar"
        }
       ],
       "layout": {
        "autosize": true,
        "legend": {
         "tracegroupgap": 0
        },
        "margin": {
         "t": 60
        },
        "polar": {
         "angularaxis": {
          "direction": "clockwise",
          "rotation": 90,
          "type": "category"
         },
         "domain": {
          "x": [
           0,
           1
          ],
          "y": [
           0,
           1
          ]
         },
         "radialaxis": {
          "autorange": true,
          "range": [
           0,
           113947
          ],
          "type": "linear"
         }
        },
        "template": {
         "data": {
          "bar": [
           {
            "error_x": {
             "color": "#2a3f5f"
            },
            "error_y": {
             "color": "#2a3f5f"
            },
            "marker": {
             "line": {
              "color": "#E5ECF6",
              "width": 0.5
             }
            },
            "type": "bar"
           }
          ],
          "barpolar": [
           {
            "marker": {
             "line": {
              "color": "#E5ECF6",
              "width": 0.5
             }
            },
            "type": "barpolar"
           }
          ],
          "carpet": [
           {
            "aaxis": {
             "endlinecolor": "#2a3f5f",
             "gridcolor": "white",
             "linecolor": "white",
             "minorgridcolor": "white",
             "startlinecolor": "#2a3f5f"
            },
            "baxis": {
             "endlinecolor": "#2a3f5f",
             "gridcolor": "white",
             "linecolor": "white",
             "minorgridcolor": "white",
             "startlinecolor": "#2a3f5f"
            },
            "type": "carpet"
           }
          ],
          "choropleth": [
           {
            "colorbar": {
             "outlinewidth": 0,
             "ticks": ""
            },
            "type": "choropleth"
           }
          ],
          "contour": [
           {
            "colorbar": {
             "outlinewidth": 0,
             "ticks": ""
            },
            "colorscale": [
             [
              0,
              "#0d0887"
             ],
             [
              0.1111111111111111,
              "#46039f"
             ],
             [
              0.2222222222222222,
              "#7201a8"
             ],
             [
              0.3333333333333333,
              "#9c179e"
             ],
             [
              0.4444444444444444,
              "#bd3786"
             ],
             [
              0.5555555555555556,
              "#d8576b"
             ],
             [
              0.6666666666666666,
              "#ed7953"
             ],
             [
              0.7777777777777778,
              "#fb9f3a"
             ],
             [
              0.8888888888888888,
              "#fdca26"
             ],
             [
              1,
              "#f0f921"
             ]
            ],
            "type": "contour"
           }
          ],
          "contourcarpet": [
           {
            "colorbar": {
             "outlinewidth": 0,
             "ticks": ""
            },
            "type": "contourcarpet"
           }
          ],
          "heatmap": [
           {
            "colorbar": {
             "outlinewidth": 0,
             "ticks": ""
            },
            "colorscale": [
             [
              0,
              "#0d0887"
             ],
             [
              0.1111111111111111,
              "#46039f"
             ],
             [
              0.2222222222222222,
              "#7201a8"
             ],
             [
              0.3333333333333333,
              "#9c179e"
             ],
             [
              0.4444444444444444,
              "#bd3786"
             ],
             [
              0.5555555555555556,
              "#d8576b"
             ],
             [
              0.6666666666666666,
              "#ed7953"
             ],
             [
              0.7777777777777778,
              "#fb9f3a"
             ],
             [
              0.8888888888888888,
              "#fdca26"
             ],
             [
              1,
              "#f0f921"
             ]
            ],
            "type": "heatmap"
           }
          ],
          "heatmapgl": [
           {
            "colorbar": {
             "outlinewidth": 0,
             "ticks": ""
            },
            "colorscale": [
             [
              0,
              "#0d0887"
             ],
             [
              0.1111111111111111,
              "#46039f"
             ],
             [
              0.2222222222222222,
              "#7201a8"
             ],
             [
              0.3333333333333333,
              "#9c179e"
             ],
             [
              0.4444444444444444,
              "#bd3786"
             ],
             [
              0.5555555555555556,
              "#d8576b"
             ],
             [
              0.6666666666666666,
              "#ed7953"
             ],
             [
              0.7777777777777778,
              "#fb9f3a"
             ],
             [
              0.8888888888888888,
              "#fdca26"
             ],
             [
              1,
              "#f0f921"
             ]
            ],
            "type": "heatmapgl"
           }
          ],
          "histogram": [
           {
            "marker": {
             "colorbar": {
              "outlinewidth": 0,
              "ticks": ""
             }
            },
            "type": "histogram"
           }
          ],
          "histogram2d": [
           {
            "colorbar": {
             "outlinewidth": 0,
             "ticks": ""
            },
            "colorscale": [
             [
              0,
              "#0d0887"
             ],
             [
              0.1111111111111111,
              "#46039f"
             ],
             [
              0.2222222222222222,
              "#7201a8"
             ],
             [
              0.3333333333333333,
              "#9c179e"
             ],
             [
              0.4444444444444444,
              "#bd3786"
             ],
             [
              0.5555555555555556,
              "#d8576b"
             ],
             [
              0.6666666666666666,
              "#ed7953"
             ],
             [
              0.7777777777777778,
              "#fb9f3a"
             ],
             [
              0.8888888888888888,
              "#fdca26"
             ],
             [
              1,
              "#f0f921"
             ]
            ],
            "type": "histogram2d"
           }
          ],
          "histogram2dcontour": [
           {
            "colorbar": {
             "outlinewidth": 0,
             "ticks": ""
            },
            "colorscale": [
             [
              0,
              "#0d0887"
             ],
             [
              0.1111111111111111,
              "#46039f"
             ],
             [
              0.2222222222222222,
              "#7201a8"
             ],
             [
              0.3333333333333333,
              "#9c179e"
             ],
             [
              0.4444444444444444,
              "#bd3786"
             ],
             [
              0.5555555555555556,
              "#d8576b"
             ],
             [
              0.6666666666666666,
              "#ed7953"
             ],
             [
              0.7777777777777778,
              "#fb9f3a"
             ],
             [
              0.8888888888888888,
              "#fdca26"
             ],
             [
              1,
              "#f0f921"
             ]
            ],
            "type": "histogram2dcontour"
           }
          ],
          "mesh3d": [
           {
            "colorbar": {
             "outlinewidth": 0,
             "ticks": ""
            },
            "type": "mesh3d"
           }
          ],
          "parcoords": [
           {
            "line": {
             "colorbar": {
              "outlinewidth": 0,
              "ticks": ""
             }
            },
            "type": "parcoords"
           }
          ],
          "pie": [
           {
            "automargin": true,
            "type": "pie"
           }
          ],
          "scatter": [
           {
            "marker": {
             "colorbar": {
              "outlinewidth": 0,
              "ticks": ""
             }
            },
            "type": "scatter"
           }
          ],
          "scatter3d": [
           {
            "line": {
             "colorbar": {
              "outlinewidth": 0,
              "ticks": ""
             }
            },
            "marker": {
             "colorbar": {
              "outlinewidth": 0,
              "ticks": ""
             }
            },
            "type": "scatter3d"
           }
          ],
          "scattercarpet": [
           {
            "marker": {
             "colorbar": {
              "outlinewidth": 0,
              "ticks": ""
             }
            },
            "type": "scattercarpet"
           }
          ],
          "scattergeo": [
           {
            "marker": {
             "colorbar": {
              "outlinewidth": 0,
              "ticks": ""
             }
            },
            "type": "scattergeo"
           }
          ],
          "scattergl": [
           {
            "marker": {
             "colorbar": {
              "outlinewidth": 0,
              "ticks": ""
             }
            },
            "type": "scattergl"
           }
          ],
          "scattermapbox": [
           {
            "marker": {
             "colorbar": {
              "outlinewidth": 0,
              "ticks": ""
             }
            },
            "type": "scattermapbox"
           }
          ],
          "scatterpolar": [
           {
            "marker": {
             "colorbar": {
              "outlinewidth": 0,
              "ticks": ""
             }
            },
            "type": "scatterpolar"
           }
          ],
          "scatterpolargl": [
           {
            "marker": {
             "colorbar": {
              "outlinewidth": 0,
              "ticks": ""
             }
            },
            "type": "scatterpolargl"
           }
          ],
          "scatterternary": [
           {
            "marker": {
             "colorbar": {
              "outlinewidth": 0,
              "ticks": ""
             }
            },
            "type": "scatterternary"
           }
          ],
          "surface": [
           {
            "colorbar": {
             "outlinewidth": 0,
             "ticks": ""
            },
            "colorscale": [
             [
              0,
              "#0d0887"
             ],
             [
              0.1111111111111111,
              "#46039f"
             ],
             [
              0.2222222222222222,
              "#7201a8"
             ],
             [
              0.3333333333333333,
              "#9c179e"
             ],
             [
              0.4444444444444444,
              "#bd3786"
             ],
             [
              0.5555555555555556,
              "#d8576b"
             ],
             [
              0.6666666666666666,
              "#ed7953"
             ],
             [
              0.7777777777777778,
              "#fb9f3a"
             ],
             [
              0.8888888888888888,
              "#fdca26"
             ],
             [
              1,
              "#f0f921"
             ]
            ],
            "type": "surface"
           }
          ],
          "table": [
           {
            "cells": {
             "fill": {
              "color": "#EBF0F8"
             },
             "line": {
              "color": "white"
             }
            },
            "header": {
             "fill": {
              "color": "#C8D4E3"
             },
             "line": {
              "color": "white"
             }
            },
            "type": "table"
           }
          ]
         },
         "layout": {
          "annotationdefaults": {
           "arrowcolor": "#2a3f5f",
           "arrowhead": 0,
           "arrowwidth": 1
          },
          "autotypenumbers": "strict",
          "coloraxis": {
           "colorbar": {
            "outlinewidth": 0,
            "ticks": ""
           }
          },
          "colorscale": {
           "diverging": [
            [
             0,
             "#8e0152"
            ],
            [
             0.1,
             "#c51b7d"
            ],
            [
             0.2,
             "#de77ae"
            ],
            [
             0.3,
             "#f1b6da"
            ],
            [
             0.4,
             "#fde0ef"
            ],
            [
             0.5,
             "#f7f7f7"
            ],
            [
             0.6,
             "#e6f5d0"
            ],
            [
             0.7,
             "#b8e186"
            ],
            [
             0.8,
             "#7fbc41"
            ],
            [
             0.9,
             "#4d9221"
            ],
            [
             1,
             "#276419"
            ]
           ],
           "sequential": [
            [
             0,
             "#0d0887"
            ],
            [
             0.1111111111111111,
             "#46039f"
            ],
            [
             0.2222222222222222,
             "#7201a8"
            ],
            [
             0.3333333333333333,
             "#9c179e"
            ],
            [
             0.4444444444444444,
             "#bd3786"
            ],
            [
             0.5555555555555556,
             "#d8576b"
            ],
            [
             0.6666666666666666,
             "#ed7953"
            ],
            [
             0.7777777777777778,
             "#fb9f3a"
            ],
            [
             0.8888888888888888,
             "#fdca26"
            ],
            [
             1,
             "#f0f921"
            ]
           ],
           "sequentialminus": [
            [
             0,
             "#0d0887"
            ],
            [
             0.1111111111111111,
             "#46039f"
            ],
            [
             0.2222222222222222,
             "#7201a8"
            ],
            [
             0.3333333333333333,
             "#9c179e"
            ],
            [
             0.4444444444444444,
             "#bd3786"
            ],
            [
             0.5555555555555556,
             "#d8576b"
            ],
            [
             0.6666666666666666,
             "#ed7953"
            ],
            [
             0.7777777777777778,
             "#fb9f3a"
            ],
            [
             0.8888888888888888,
             "#fdca26"
            ],
            [
             1,
             "#f0f921"
            ]
           ]
          },
          "colorway": [
           "#636efa",
           "#EF553B",
           "#00cc96",
           "#ab63fa",
           "#FFA15A",
           "#19d3f3",
           "#FF6692",
           "#B6E880",
           "#FF97FF",
           "#FECB52"
          ],
          "font": {
           "color": "#2a3f5f"
          },
          "geo": {
           "bgcolor": "white",
           "lakecolor": "white",
           "landcolor": "#E5ECF6",
           "showlakes": true,
           "showland": true,
           "subunitcolor": "white"
          },
          "hoverlabel": {
           "align": "left"
          },
          "hovermode": "closest",
          "mapbox": {
           "style": "light"
          },
          "paper_bgcolor": "white",
          "plot_bgcolor": "#E5ECF6",
          "polar": {
           "angularaxis": {
            "gridcolor": "white",
            "linecolor": "white",
            "ticks": ""
           },
           "bgcolor": "#E5ECF6",
           "radialaxis": {
            "gridcolor": "white",
            "linecolor": "white",
            "ticks": ""
           }
          },
          "scene": {
           "xaxis": {
            "backgroundcolor": "#E5ECF6",
            "gridcolor": "white",
            "gridwidth": 2,
            "linecolor": "white",
            "showbackground": true,
            "ticks": "",
            "zerolinecolor": "white"
           },
           "yaxis": {
            "backgroundcolor": "#E5ECF6",
            "gridcolor": "white",
            "gridwidth": 2,
            "linecolor": "white",
            "showbackground": true,
            "ticks": "",
            "zerolinecolor": "white"
           },
           "zaxis": {
            "backgroundcolor": "#E5ECF6",
            "gridcolor": "white",
            "gridwidth": 2,
            "linecolor": "white",
            "showbackground": true,
            "ticks": "",
            "zerolinecolor": "white"
           }
          },
          "shapedefaults": {
           "line": {
            "color": "#2a3f5f"
           }
          },
          "ternary": {
           "aaxis": {
            "gridcolor": "white",
            "linecolor": "white",
            "ticks": ""
           },
           "baxis": {
            "gridcolor": "white",
            "linecolor": "white",
            "ticks": ""
           },
           "bgcolor": "#E5ECF6",
           "caxis": {
            "gridcolor": "white",
            "linecolor": "white",
            "ticks": ""
           }
          },
          "title": {
           "x": 0.05
          },
          "xaxis": {
           "automargin": true,
           "gridcolor": "white",
           "linecolor": "white",
           "ticks": "",
           "title": {
            "standoff": 15
           },
           "zerolinecolor": "white",
           "zerolinewidth": 2
          },
          "yaxis": {
           "automargin": true,
           "gridcolor": "white",
           "linecolor": "white",
           "ticks": "",
           "title": {
            "standoff": 15
           },
           "zerolinecolor": "white",
           "zerolinewidth": 2
          }
         }
        }
       }
      },
      "image/png": "[encoded data removed]",
      "text/html": [
       "<div>                            <div id=\"60cb9821-35e4-4b4f-bf51-575c47c46595\" class=\"plotly-graph-div\" style=\"height:525px; width:100%;\"></div>            <script type=\"text/javascript\">                require([\"plotly\"], function(Plotly) {                    window.PLOTLYENV=window.PLOTLYENV || {};                                    if (document.getElementById(\"60cb9821-35e4-4b4f-bf51-575c47c46595\")) {                    Plotly.newPlot(                        \"60cb9821-35e4-4b4f-bf51-575c47c46595\",                        [{\"fill\": \"toself\", \"hovertemplate\": \"medium=%{r}<br>superestructures=%{theta}<extra></extra>\", \"legendgroup\": \"\", \"line\": {\"color\": \"#636efa\", \"dash\": \"solid\"}, \"mode\": \"lines\", \"name\": \"\", \"r\": [13902, 113947, 4534, 3248, 11698, 11421, 40187, 14001, 5832, 1402, 2248, 13902], \"showlegend\": false, \"subplot\": \"polar\", \"theta\": [\"adobe_mud\", \"mud_mortar_stone\", \"stone_flag\", \"cement_mortar_stone\", \"mud_mortar_brick\", \"cement_mortar_brick\", \"timber\", \"bamboo\", \"rc_non_engineered\", \"rc_engineered\", \"other\", \"adobe_mud\"], \"type\": \"scatterpolar\"}],                        {\"legend\": {\"tracegroupgap\": 0}, \"margin\": {\"t\": 60}, \"polar\": {\"angularaxis\": {\"direction\": \"clockwise\", \"rotation\": 90}, \"domain\": {\"x\": [0.0, 1.0], \"y\": [0.0, 1.0]}}, \"template\": {\"data\": {\"bar\": [{\"error_x\": {\"color\": \"#2a3f5f\"}, \"error_y\": {\"color\": \"#2a3f5f\"}, \"marker\": {\"line\": {\"color\": \"#E5ECF6\", \"width\": 0.5}}, \"type\": \"bar\"}], \"barpolar\": [{\"marker\": {\"line\": {\"color\": \"#E5ECF6\", \"width\": 0.5}}, \"type\": \"barpolar\"}], \"carpet\": [{\"aaxis\": {\"endlinecolor\": \"#2a3f5f\", \"gridcolor\": \"white\", \"linecolor\": \"white\", \"minorgridcolor\": \"white\", \"startlinecolor\": \"#2a3f5f\"}, \"baxis\": {\"endlinecolor\": \"#2a3f5f\", \"gridcolor\": \"white\", \"linecolor\": \"white\", \"minorgridcolor\": \"white\", \"startlinecolor\": \"#2a3f5f\"}, \"type\": \"carpet\"}], \"choropleth\": [{\"colorbar\": {\"outlinewidth\": 0, \"ticks\": \"\"}, \"type\": \"choropleth\"}], \"contour\": [{\"colorbar\": {\"outlinewidth\": 0, \"ticks\": \"\"}, \"colorscale\": [[0.0, \"#0d0887\"], [0.1111111111111111, \"#46039f\"], [0.2222222222222222, \"#7201a8\"], [0.3333333333333333, \"#9c179e\"], [0.4444444444444444, \"#bd3786\"], [0.5555555555555556, \"#d8576b\"], [0.6666666666666666, \"#ed7953\"], [0.7777777777777778, \"#fb9f3a\"], [0.8888888888888888, \"#fdca26\"], [1.0, \"#f0f921\"]], \"type\": \"contour\"}], \"contourcarpet\": [{\"colorbar\": {\"outlinewidth\": 0, \"ticks\": \"\"}, \"type\": \"contourcarpet\"}], \"heatmap\": [{\"colorbar\": {\"outlinewidth\": 0, \"ticks\": \"\"}, \"colorscale\": [[0.0, \"#0d0887\"], [0.1111111111111111, \"#46039f\"], [0.2222222222222222, \"#7201a8\"], [0.3333333333333333, \"#9c179e\"], [0.4444444444444444, \"#bd3786\"], [0.5555555555555556, \"#d8576b\"], [0.6666666666666666, \"#ed7953\"], [0.7777777777777778, \"#fb9f3a\"], [0.8888888888888888, \"#fdca26\"], [1.0, \"#f0f921\"]], \"type\": \"heatmap\"}], \"heatmapgl\": [{\"colorbar\": {\"outlinewidth\": 0, \"ticks\": \"\"}, \"colorscale\": [[0.0, \"#0d0887\"], [0.1111111111111111, \"#46039f\"], [0.2222222222222222, \"#7201a8\"], [0.3333333333333333, \"#9c179e\"], [0.4444444444444444, \"#bd3786\"], [0.5555555555555556, \"#d8576b\"], [0.6666666666666666, \"#ed7953\"], [0.7777777777777778, \"#fb9f3a\"], [0.8888888888888888, \"#fdca26\"], [1.0, \"#f0f921\"]], \"type\": \"heatmapgl\"}], \"histogram\": [{\"marker\": {\"colorbar\": {\"outlinewidth\": 0, \"ticks\": \"\"}}, \"type\": \"histogram\"}], \"histogram2d\": [{\"colorbar\": {\"outlinewidth\": 0, \"ticks\": \"\"}, \"colorscale\": [[0.0, \"#0d0887\"], [0.1111111111111111, \"#46039f\"], [0.2222222222222222, \"#7201a8\"], [0.3333333333333333, \"#9c179e\"], [0.4444444444444444, \"#bd3786\"], [0.5555555555555556, \"#d8576b\"], [0.6666666666666666, \"#ed7953\"], [0.7777777777777778, \"#fb9f3a\"], [0.8888888888888888, \"#fdca26\"], [1.0, \"#f0f921\"]], \"type\": \"histogram2d\"}], \"histogram2dcontour\": [{\"colorbar\": {\"outlinewidth\": 0, \"ticks\": \"\"}, \"colorscale\": [[0.0, \"#0d0887\"], [0.1111111111111111, \"#46039f\"], [0.2222222222222222, \"#7201a8\"], [0.3333333333333333, \"#9c179e\"], [0.4444444444444444, \"#bd3786\"], [0.5555555555555556, \"#d8576b\"], [0.6666666666666666, \"#ed7953\"], [0.7777777777777778, \"#fb9f3a\"], [0.8888888888888888, \"#fdca26\"], [1.0, \"#f0f921\"]], \"type\": \"histogram2dcontour\"}], \"mesh3d\": [{\"colorbar\": {\"outlinewidth\": 0, \"ticks\": \"\"}, \"type\": \"mesh3d\"}], \"parcoords\": [{\"line\": {\"colorbar\": {\"outlinewidth\": 0, \"ticks\": \"\"}}, \"type\": \"parcoords\"}], \"pie\": [{\"automargin\": true, \"type\": \"pie\"}], \"scatter\": [{\"marker\": {\"colorbar\": {\"outlinewidth\": 0, \"ticks\": \"\"}}, \"type\": \"scatter\"}], \"scatter3d\": [{\"line\": {\"colorbar\": {\"outlinewidth\": 0, \"ticks\": \"\"}}, \"marker\": {\"colorbar\": {\"outlinewidth\": 0, \"ticks\": \"\"}}, \"type\": \"scatter3d\"}], \"scattercarpet\": [{\"marker\": {\"colorbar\": {\"outlinewidth\": 0, \"ticks\": \"\"}}, \"type\": \"scattercarpet\"}], \"scattergeo\": [{\"marker\": {\"colorbar\": {\"outlinewidth\": 0, \"ticks\": \"\"}}, \"type\": \"scattergeo\"}], \"scattergl\": [{\"marker\": {\"colorbar\": {\"outlinewidth\": 0, \"ticks\": \"\"}}, \"type\": \"scattergl\"}], \"scattermapbox\": [{\"marker\": {\"colorbar\": {\"outlinewidth\": 0, \"ticks\": \"\"}}, \"type\": \"scattermapbox\"}], \"scatterpolar\": [{\"marker\": {\"colorbar\": {\"outlinewidth\": 0, \"ticks\": \"\"}}, \"type\": \"scatterpolar\"}], \"scatterpolargl\": [{\"marker\": {\"colorbar\": {\"outlinewidth\": 0, \"ticks\": \"\"}}, \"type\": \"scatterpolargl\"}], \"scatterternary\": [{\"marker\": {\"colorbar\": {\"outlinewidth\": 0, \"ticks\": \"\"}}, \"type\": \"scatterternary\"}], \"surface\": [{\"colorbar\": {\"outlinewidth\": 0, \"ticks\": \"\"}, \"colorscale\": [[0.0, \"#0d0887\"], [0.1111111111111111, \"#46039f\"], [0.2222222222222222, \"#7201a8\"], [0.3333333333333333, \"#9c179e\"], [0.4444444444444444, \"#bd3786\"], [0.5555555555555556, \"#d8576b\"], [0.6666666666666666, \"#ed7953\"], [0.7777777777777778, \"#fb9f3a\"], [0.8888888888888888, \"#fdca26\"], [1.0, \"#f0f921\"]], \"type\": \"surface\"}], \"table\": [{\"cells\": {\"fill\": {\"color\": \"#EBF0F8\"}, \"line\": {\"color\": \"white\"}}, \"header\": {\"fill\": {\"color\": \"#C8D4E3\"}, \"line\": {\"color\": \"white\"}}, \"type\": \"table\"}]}, \"layout\": {\"annotationdefaults\": {\"arrowcolor\": \"#2a3f5f\", \"arrowhead\": 0, \"arrowwidth\": 1}, \"autotypenumbers\": \"strict\", \"coloraxis\": {\"colorbar\": {\"outlinewidth\": 0, \"ticks\": \"\"}}, \"colorscale\": {\"diverging\": [[0, \"#8e0152\"], [0.1, \"#c51b7d\"], [0.2, \"#de77ae\"], [0.3, \"#f1b6da\"], [0.4, \"#fde0ef\"], [0.5, \"#f7f7f7\"], [0.6, \"#e6f5d0\"], [0.7, \"#b8e186\"], [0.8, \"#7fbc41\"], [0.9, \"#4d9221\"], [1, \"#276419\"]], \"sequential\": [[0.0, \"#0d0887\"], [0.1111111111111111, \"#46039f\"], [0.2222222222222222, \"#7201a8\"], [0.3333333333333333, \"#9c179e\"], [0.4444444444444444, \"#bd3786\"], [0.5555555555555556, \"#d8576b\"], [0.6666666666666666, \"#ed7953\"], [0.7777777777777778, \"#fb9f3a\"], [0.8888888888888888, \"#fdca26\"], [1.0, \"#f0f921\"]], \"sequentialminus\": [[0.0, \"#0d0887\"], [0.1111111111111111, \"#46039f\"], [0.2222222222222222, \"#7201a8\"], [0.3333333333333333, \"#9c179e\"], [0.4444444444444444, \"#bd3786\"], [0.5555555555555556, \"#d8576b\"], [0.6666666666666666, \"#ed7953\"], [0.7777777777777778, \"#fb9f3a\"], [0.8888888888888888, \"#fdca26\"], [1.0, \"#f0f921\"]]}, \"colorway\": [\"#636efa\", \"#EF553B\", \"#00cc96\", \"#ab63fa\", \"#FFA15A\", \"#19d3f3\", \"#FF6692\", \"#B6E880\", \"#FF97FF\", \"#FECB52\"], \"font\": {\"color\": \"#2a3f5f\"}, \"geo\": {\"bgcolor\": \"white\", \"lakecolor\": \"white\", \"landcolor\": \"#E5ECF6\", \"showlakes\": true, \"showland\": true, \"subunitcolor\": \"white\"}, \"hoverlabel\": {\"align\": \"left\"}, \"hovermode\": \"closest\", \"mapbox\": {\"style\": \"light\"}, \"paper_bgcolor\": \"white\", \"plot_bgcolor\": \"#E5ECF6\", \"polar\": {\"angularaxis\": {\"gridcolor\": \"white\", \"linecolor\": \"white\", \"ticks\": \"\"}, \"bgcolor\": \"#E5ECF6\", \"radialaxis\": {\"gridcolor\": \"white\", \"linecolor\": \"white\", \"ticks\": \"\"}}, \"scene\": {\"xaxis\": {\"backgroundcolor\": \"#E5ECF6\", \"gridcolor\": \"white\", \"gridwidth\": 2, \"linecolor\": \"white\", \"showbackground\": true, \"ticks\": \"\", \"zerolinecolor\": \"white\"}, \"yaxis\": {\"backgroundcolor\": \"#E5ECF6\", \"gridcolor\": \"white\", \"gridwidth\": 2, \"linecolor\": \"white\", \"showbackground\": true, \"ticks\": \"\", \"zerolinecolor\": \"white\"}, \"zaxis\": {\"backgroundcolor\": \"#E5ECF6\", \"gridcolor\": \"white\", \"gridwidth\": 2, \"linecolor\": \"white\", \"showbackground\": true, \"ticks\": \"\", \"zerolinecolor\": \"white\"}}, \"shapedefaults\": {\"line\": {\"color\": \"#2a3f5f\"}}, \"ternary\": {\"aaxis\": {\"gridcolor\": \"white\", \"linecolor\": \"white\", \"ticks\": \"\"}, \"baxis\": {\"gridcolor\": \"white\", \"linecolor\": \"white\", \"ticks\": \"\"}, \"bgcolor\": \"#E5ECF6\", \"caxis\": {\"gridcolor\": \"white\", \"linecolor\": \"white\", \"ticks\": \"\"}}, \"title\": {\"x\": 0.05}, \"xaxis\": {\"automargin\": true, \"gridcolor\": \"white\", \"linecolor\": \"white\", \"ticks\": \"\", \"title\": {\"standoff\": 15}, \"zerolinecolor\": \"white\", \"zerolinewidth\": 2}, \"yaxis\": {\"automargin\": true, \"gridcolor\": \"white\", \"linecolor\": \"white\", \"ticks\": \"\", \"title\": {\"standoff\": 15}, \"zerolinecolor\": \"white\", \"zerolinewidth\": 2}}}},                        {\"responsive\": true}                    ).then(function(){\n",
       "                            \n",
       "var gd = document.getElementById('60cb9821-35e4-4b4f-bf51-575c47c46595');\n",
       "var x = new MutationObserver(function (mutations, observer) {{\n",
       "        var display = window.getComputedStyle(gd).display;\n",
       "        if (!display || display === 'none') {{\n",
       "            console.log([gd, 'removed!']);\n",
       "            Plotly.purge(gd);\n",
       "            observer.disconnect();\n",
       "        }}\n",
       "}});\n",
       "\n",
       "// Listen for the removal of the full notebook cells\n",
       "var notebookContainer = gd.closest('#notebook-container');\n",
       "if (notebookContainer) {{\n",
       "    x.observe(notebookContainer, {childList: true});\n",
       "}}\n",
       "\n",
       "// Listen for the clearing of the current output cell\n",
       "var outputEl = gd.closest('.output');\n",
       "if (outputEl) {{\n",
       "    x.observe(outputEl, {childList: true});\n",
       "}}\n",
       "\n",
       "                        })                };                });            </script>        </div>"
      ]
     },
     "metadata": {},
     "output_type": "display_data"
    }
   ],
   "source": [
    "fig = px.line_polar(radar_data, r='medium', theta='superestructures', line_close=True)\n",
    "fig.update_traces(fill='toself')\n",
    "fig.show()"
   ]
  },
  {
   "cell_type": "code",
   "execution_count": 42,
   "id": "documented-lotus",
   "metadata": {},
   "outputs": [
    {
     "data": {
      "application/vnd.plotly.v1+json": {
       "config": {
        "plotlyServerURL": "https://plot.ly"
       },
       "data": [
        {
         "fill": "toself",
         "hovertemplate": "high=%{r}<br>superestructures=%{theta}<extra></extra>",
         "legendgroup": "",
         "line": {
          "color": "#636efa",
          "dash": "solid"
         },
         "mode": "lines",
         "name": "",
         "r": [
          8605,
          75854,
          4231,
          675,
          5440,
          1089,
          18621,
          5314,
          1410,
          75,
          1001,
          8605
         ],
         "showlegend": false,
         "subplot": "polar",
         "theta": [
          "adobe_mud",
          "mud_mortar_stone",
          "stone_flag",
          "cement_mortar_stone",
          "mud_mortar_brick",
          "cement_mortar_brick",
          "timber",
          "bamboo",
          "rc_non_engineered",
          "rc_engineered",
          "other",
          "adobe_mud"
         ],
         "type": "scatterpolar"
        }
       ],
       "layout": {
        "autosize": true,
        "legend": {
         "tracegroupgap": 0
        },
        "margin": {
         "t": 60
        },
        "polar": {
         "angularaxis": {
          "direction": "clockwise",
          "rotation": 90,
          "type": "category"
         },
         "domain": {
          "x": [
           0,
           1
          ],
          "y": [
           0,
           1
          ]
         },
         "radialaxis": {
          "autorange": true,
          "range": [
           0,
           75854
          ],
          "type": "linear"
         }
        },
        "template": {
         "data": {
          "bar": [
           {
            "error_x": {
             "color": "#2a3f5f"
            },
            "error_y": {
             "color": "#2a3f5f"
            },
            "marker": {
             "line": {
              "color": "#E5ECF6",
              "width": 0.5
             }
            },
            "type": "bar"
           }
          ],
          "barpolar": [
           {
            "marker": {
             "line": {
              "color": "#E5ECF6",
              "width": 0.5
             }
            },
            "type": "barpolar"
           }
          ],
          "carpet": [
           {
            "aaxis": {
             "endlinecolor": "#2a3f5f",
             "gridcolor": "white",
             "linecolor": "white",
             "minorgridcolor": "white",
             "startlinecolor": "#2a3f5f"
            },
            "baxis": {
             "endlinecolor": "#2a3f5f",
             "gridcolor": "white",
             "linecolor": "white",
             "minorgridcolor": "white",
             "startlinecolor": "#2a3f5f"
            },
            "type": "carpet"
           }
          ],
          "choropleth": [
           {
            "colorbar": {
             "outlinewidth": 0,
             "ticks": ""
            },
            "type": "choropleth"
           }
          ],
          "contour": [
           {
            "colorbar": {
             "outlinewidth": 0,
             "ticks": ""
            },
            "colorscale": [
             [
              0,
              "#0d0887"
             ],
             [
              0.1111111111111111,
              "#46039f"
             ],
             [
              0.2222222222222222,
              "#7201a8"
             ],
             [
              0.3333333333333333,
              "#9c179e"
             ],
             [
              0.4444444444444444,
              "#bd3786"
             ],
             [
              0.5555555555555556,
              "#d8576b"
             ],
             [
              0.6666666666666666,
              "#ed7953"
             ],
             [
              0.7777777777777778,
              "#fb9f3a"
             ],
             [
              0.8888888888888888,
              "#fdca26"
             ],
             [
              1,
              "#f0f921"
             ]
            ],
            "type": "contour"
           }
          ],
          "contourcarpet": [
           {
            "colorbar": {
             "outlinewidth": 0,
             "ticks": ""
            },
            "type": "contourcarpet"
           }
          ],
          "heatmap": [
           {
            "colorbar": {
             "outlinewidth": 0,
             "ticks": ""
            },
            "colorscale": [
             [
              0,
              "#0d0887"
             ],
             [
              0.1111111111111111,
              "#46039f"
             ],
             [
              0.2222222222222222,
              "#7201a8"
             ],
             [
              0.3333333333333333,
              "#9c179e"
             ],
             [
              0.4444444444444444,
              "#bd3786"
             ],
             [
              0.5555555555555556,
              "#d8576b"
             ],
             [
              0.6666666666666666,
              "#ed7953"
             ],
             [
              0.7777777777777778,
              "#fb9f3a"
             ],
             [
              0.8888888888888888,
              "#fdca26"
             ],
             [
              1,
              "#f0f921"
             ]
            ],
            "type": "heatmap"
           }
          ],
          "heatmapgl": [
           {
            "colorbar": {
             "outlinewidth": 0,
             "ticks": ""
            },
            "colorscale": [
             [
              0,
              "#0d0887"
             ],
             [
              0.1111111111111111,
              "#46039f"
             ],
             [
              0.2222222222222222,
              "#7201a8"
             ],
             [
              0.3333333333333333,
              "#9c179e"
             ],
             [
              0.4444444444444444,
              "#bd3786"
             ],
             [
              0.5555555555555556,
              "#d8576b"
             ],
             [
              0.6666666666666666,
              "#ed7953"
             ],
             [
              0.7777777777777778,
              "#fb9f3a"
             ],
             [
              0.8888888888888888,
              "#fdca26"
             ],
             [
              1,
              "#f0f921"
             ]
            ],
            "type": "heatmapgl"
           }
          ],
          "histogram": [
           {
            "marker": {
             "colorbar": {
              "outlinewidth": 0,
              "ticks": ""
             }
            },
            "type": "histogram"
           }
          ],
          "histogram2d": [
           {
            "colorbar": {
             "outlinewidth": 0,
             "ticks": ""
            },
            "colorscale": [
             [
              0,
              "#0d0887"
             ],
             [
              0.1111111111111111,
              "#46039f"
             ],
             [
              0.2222222222222222,
              "#7201a8"
             ],
             [
              0.3333333333333333,
              "#9c179e"
             ],
             [
              0.4444444444444444,
              "#bd3786"
             ],
             [
              0.5555555555555556,
              "#d8576b"
             ],
             [
              0.6666666666666666,
              "#ed7953"
             ],
             [
              0.7777777777777778,
              "#fb9f3a"
             ],
             [
              0.8888888888888888,
              "#fdca26"
             ],
             [
              1,
              "#f0f921"
             ]
            ],
            "type": "histogram2d"
           }
          ],
          "histogram2dcontour": [
           {
            "colorbar": {
             "outlinewidth": 0,
             "ticks": ""
            },
            "colorscale": [
             [
              0,
              "#0d0887"
             ],
             [
              0.1111111111111111,
              "#46039f"
             ],
             [
              0.2222222222222222,
              "#7201a8"
             ],
             [
              0.3333333333333333,
              "#9c179e"
             ],
             [
              0.4444444444444444,
              "#bd3786"
             ],
             [
              0.5555555555555556,
              "#d8576b"
             ],
             [
              0.6666666666666666,
              "#ed7953"
             ],
             [
              0.7777777777777778,
              "#fb9f3a"
             ],
             [
              0.8888888888888888,
              "#fdca26"
             ],
             [
              1,
              "#f0f921"
             ]
            ],
            "type": "histogram2dcontour"
           }
          ],
          "mesh3d": [
           {
            "colorbar": {
             "outlinewidth": 0,
             "ticks": ""
            },
            "type": "mesh3d"
           }
          ],
          "parcoords": [
           {
            "line": {
             "colorbar": {
              "outlinewidth": 0,
              "ticks": ""
             }
            },
            "type": "parcoords"
           }
          ],
          "pie": [
           {
            "automargin": true,
            "type": "pie"
           }
          ],
          "scatter": [
           {
            "marker": {
             "colorbar": {
              "outlinewidth": 0,
              "ticks": ""
             }
            },
            "type": "scatter"
           }
          ],
          "scatter3d": [
           {
            "line": {
             "colorbar": {
              "outlinewidth": 0,
              "ticks": ""
             }
            },
            "marker": {
             "colorbar": {
              "outlinewidth": 0,
              "ticks": ""
             }
            },
            "type": "scatter3d"
           }
          ],
          "scattercarpet": [
           {
            "marker": {
             "colorbar": {
              "outlinewidth": 0,
              "ticks": ""
             }
            },
            "type": "scattercarpet"
           }
          ],
          "scattergeo": [
           {
            "marker": {
             "colorbar": {
              "outlinewidth": 0,
              "ticks": ""
             }
            },
            "type": "scattergeo"
           }
          ],
          "scattergl": [
           {
            "marker": {
             "colorbar": {
              "outlinewidth": 0,
              "ticks": ""
             }
            },
            "type": "scattergl"
           }
          ],
          "scattermapbox": [
           {
            "marker": {
             "colorbar": {
              "outlinewidth": 0,
              "ticks": ""
             }
            },
            "type": "scattermapbox"
           }
          ],
          "scatterpolar": [
           {
            "marker": {
             "colorbar": {
              "outlinewidth": 0,
              "ticks": ""
             }
            },
            "type": "scatterpolar"
           }
          ],
          "scatterpolargl": [
           {
            "marker": {
             "colorbar": {
              "outlinewidth": 0,
              "ticks": ""
             }
            },
            "type": "scatterpolargl"
           }
          ],
          "scatterternary": [
           {
            "marker": {
             "colorbar": {
              "outlinewidth": 0,
              "ticks": ""
             }
            },
            "type": "scatterternary"
           }
          ],
          "surface": [
           {
            "colorbar": {
             "outlinewidth": 0,
             "ticks": ""
            },
            "colorscale": [
             [
              0,
              "#0d0887"
             ],
             [
              0.1111111111111111,
              "#46039f"
             ],
             [
              0.2222222222222222,
              "#7201a8"
             ],
             [
              0.3333333333333333,
              "#9c179e"
             ],
             [
              0.4444444444444444,
              "#bd3786"
             ],
             [
              0.5555555555555556,
              "#d8576b"
             ],
             [
              0.6666666666666666,
              "#ed7953"
             ],
             [
              0.7777777777777778,
              "#fb9f3a"
             ],
             [
              0.8888888888888888,
              "#fdca26"
             ],
             [
              1,
              "#f0f921"
             ]
            ],
            "type": "surface"
           }
          ],
          "table": [
           {
            "cells": {
             "fill": {
              "color": "#EBF0F8"
             },
             "line": {
              "color": "white"
             }
            },
            "header": {
             "fill": {
              "color": "#C8D4E3"
             },
             "line": {
              "color": "white"
             }
            },
            "type": "table"
           }
          ]
         },
         "layout": {
          "annotationdefaults": {
           "arrowcolor": "#2a3f5f",
           "arrowhead": 0,
           "arrowwidth": 1
          },
          "autotypenumbers": "strict",
          "coloraxis": {
           "colorbar": {
            "outlinewidth": 0,
            "ticks": ""
           }
          },
          "colorscale": {
           "diverging": [
            [
             0,
             "#8e0152"
            ],
            [
             0.1,
             "#c51b7d"
            ],
            [
             0.2,
             "#de77ae"
            ],
            [
             0.3,
             "#f1b6da"
            ],
            [
             0.4,
             "#fde0ef"
            ],
            [
             0.5,
             "#f7f7f7"
            ],
            [
             0.6,
             "#e6f5d0"
            ],
            [
             0.7,
             "#b8e186"
            ],
            [
             0.8,
             "#7fbc41"
            ],
            [
             0.9,
             "#4d9221"
            ],
            [
             1,
             "#276419"
            ]
           ],
           "sequential": [
            [
             0,
             "#0d0887"
            ],
            [
             0.1111111111111111,
             "#46039f"
            ],
            [
             0.2222222222222222,
             "#7201a8"
            ],
            [
             0.3333333333333333,
             "#9c179e"
            ],
            [
             0.4444444444444444,
             "#bd3786"
            ],
            [
             0.5555555555555556,
             "#d8576b"
            ],
            [
             0.6666666666666666,
             "#ed7953"
            ],
            [
             0.7777777777777778,
             "#fb9f3a"
            ],
            [
             0.8888888888888888,
             "#fdca26"
            ],
            [
             1,
             "#f0f921"
            ]
           ],
           "sequentialminus": [
            [
             0,
             "#0d0887"
            ],
            [
             0.1111111111111111,
             "#46039f"
            ],
            [
             0.2222222222222222,
             "#7201a8"
            ],
            [
             0.3333333333333333,
             "#9c179e"
            ],
            [
             0.4444444444444444,
             "#bd3786"
            ],
            [
             0.5555555555555556,
             "#d8576b"
            ],
            [
             0.6666666666666666,
             "#ed7953"
            ],
            [
             0.7777777777777778,
             "#fb9f3a"
            ],
            [
             0.8888888888888888,
             "#fdca26"
            ],
            [
             1,
             "#f0f921"
            ]
           ]
          },
          "colorway": [
           "#636efa",
           "#EF553B",
           "#00cc96",
           "#ab63fa",
           "#FFA15A",
           "#19d3f3",
           "#FF6692",
           "#B6E880",
           "#FF97FF",
           "#FECB52"
          ],
          "font": {
           "color": "#2a3f5f"
          },
          "geo": {
           "bgcolor": "white",
           "lakecolor": "white",
           "landcolor": "#E5ECF6",
           "showlakes": true,
           "showland": true,
           "subunitcolor": "white"
          },
          "hoverlabel": {
           "align": "left"
          },
          "hovermode": "closest",
          "mapbox": {
           "style": "light"
          },
          "paper_bgcolor": "white",
          "plot_bgcolor": "#E5ECF6",
          "polar": {
           "angularaxis": {
            "gridcolor": "white",
            "linecolor": "white",
            "ticks": ""
           },
           "bgcolor": "#E5ECF6",
           "radialaxis": {
            "gridcolor": "white",
            "linecolor": "white",
            "ticks": ""
           }
          },
          "scene": {
           "xaxis": {
            "backgroundcolor": "#E5ECF6",
            "gridcolor": "white",
            "gridwidth": 2,
            "linecolor": "white",
            "showbackground": true,
            "ticks": "",
            "zerolinecolor": "white"
           },
           "yaxis": {
            "backgroundcolor": "#E5ECF6",
            "gridcolor": "white",
            "gridwidth": 2,
            "linecolor": "white",
            "showbackground": true,
            "ticks": "",
            "zerolinecolor": "white"
           },
           "zaxis": {
            "backgroundcolor": "#E5ECF6",
            "gridcolor": "white",
            "gridwidth": 2,
            "linecolor": "white",
            "showbackground": true,
            "ticks": "",
            "zerolinecolor": "white"
           }
          },
          "shapedefaults": {
           "line": {
            "color": "#2a3f5f"
           }
          },
          "ternary": {
           "aaxis": {
            "gridcolor": "white",
            "linecolor": "white",
            "ticks": ""
           },
           "baxis": {
            "gridcolor": "white",
            "linecolor": "white",
            "ticks": ""
           },
           "bgcolor": "#E5ECF6",
           "caxis": {
            "gridcolor": "white",
            "linecolor": "white",
            "ticks": ""
           }
          },
          "title": {
           "x": 0.05
          },
          "xaxis": {
           "automargin": true,
           "gridcolor": "white",
           "linecolor": "white",
           "ticks": "",
           "title": {
            "standoff": 15
           },
           "zerolinecolor": "white",
           "zerolinewidth": 2
          },
          "yaxis": {
           "automargin": true,
           "gridcolor": "white",
           "linecolor": "white",
           "ticks": "",
           "title": {
            "standoff": 15
           },
           "zerolinecolor": "white",
           "zerolinewidth": 2
          }
         }
        }
       }
      },
      "image/png": "[encoded data removed]",
      "text/html": [
       "<div>                            <div id=\"469423f6-f2c7-42f7-92a2-a98d3d8a70be\" class=\"plotly-graph-div\" style=\"height:525px; width:100%;\"></div>            <script type=\"text/javascript\">                require([\"plotly\"], function(Plotly) {                    window.PLOTLYENV=window.PLOTLYENV || {};                                    if (document.getElementById(\"469423f6-f2c7-42f7-92a2-a98d3d8a70be\")) {                    Plotly.newPlot(                        \"469423f6-f2c7-42f7-92a2-a98d3d8a70be\",                        [{\"fill\": \"toself\", \"hovertemplate\": \"high=%{r}<br>superestructures=%{theta}<extra></extra>\", \"legendgroup\": \"\", \"line\": {\"color\": \"#636efa\", \"dash\": \"solid\"}, \"mode\": \"lines\", \"name\": \"\", \"r\": [8605, 75854, 4231, 675, 5440, 1089, 18621, 5314, 1410, 75, 1001, 8605], \"showlegend\": false, \"subplot\": \"polar\", \"theta\": [\"adobe_mud\", \"mud_mortar_stone\", \"stone_flag\", \"cement_mortar_stone\", \"mud_mortar_brick\", \"cement_mortar_brick\", \"timber\", \"bamboo\", \"rc_non_engineered\", \"rc_engineered\", \"other\", \"adobe_mud\"], \"type\": \"scatterpolar\"}],                        {\"legend\": {\"tracegroupgap\": 0}, \"margin\": {\"t\": 60}, \"polar\": {\"angularaxis\": {\"direction\": \"clockwise\", \"rotation\": 90}, \"domain\": {\"x\": [0.0, 1.0], \"y\": [0.0, 1.0]}}, \"template\": {\"data\": {\"bar\": [{\"error_x\": {\"color\": \"#2a3f5f\"}, \"error_y\": {\"color\": \"#2a3f5f\"}, \"marker\": {\"line\": {\"color\": \"#E5ECF6\", \"width\": 0.5}}, \"type\": \"bar\"}], \"barpolar\": [{\"marker\": {\"line\": {\"color\": \"#E5ECF6\", \"width\": 0.5}}, \"type\": \"barpolar\"}], \"carpet\": [{\"aaxis\": {\"endlinecolor\": \"#2a3f5f\", \"gridcolor\": \"white\", \"linecolor\": \"white\", \"minorgridcolor\": \"white\", \"startlinecolor\": \"#2a3f5f\"}, \"baxis\": {\"endlinecolor\": \"#2a3f5f\", \"gridcolor\": \"white\", \"linecolor\": \"white\", \"minorgridcolor\": \"white\", \"startlinecolor\": \"#2a3f5f\"}, \"type\": \"carpet\"}], \"choropleth\": [{\"colorbar\": {\"outlinewidth\": 0, \"ticks\": \"\"}, \"type\": \"choropleth\"}], \"contour\": [{\"colorbar\": {\"outlinewidth\": 0, \"ticks\": \"\"}, \"colorscale\": [[0.0, \"#0d0887\"], [0.1111111111111111, \"#46039f\"], [0.2222222222222222, \"#7201a8\"], [0.3333333333333333, \"#9c179e\"], [0.4444444444444444, \"#bd3786\"], [0.5555555555555556, \"#d8576b\"], [0.6666666666666666, \"#ed7953\"], [0.7777777777777778, \"#fb9f3a\"], [0.8888888888888888, \"#fdca26\"], [1.0, \"#f0f921\"]], \"type\": \"contour\"}], \"contourcarpet\": [{\"colorbar\": {\"outlinewidth\": 0, \"ticks\": \"\"}, \"type\": \"contourcarpet\"}], \"heatmap\": [{\"colorbar\": {\"outlinewidth\": 0, \"ticks\": \"\"}, \"colorscale\": [[0.0, \"#0d0887\"], [0.1111111111111111, \"#46039f\"], [0.2222222222222222, \"#7201a8\"], [0.3333333333333333, \"#9c179e\"], [0.4444444444444444, \"#bd3786\"], [0.5555555555555556, \"#d8576b\"], [0.6666666666666666, \"#ed7953\"], [0.7777777777777778, \"#fb9f3a\"], [0.8888888888888888, \"#fdca26\"], [1.0, \"#f0f921\"]], \"type\": \"heatmap\"}], \"heatmapgl\": [{\"colorbar\": {\"outlinewidth\": 0, \"ticks\": \"\"}, \"colorscale\": [[0.0, \"#0d0887\"], [0.1111111111111111, \"#46039f\"], [0.2222222222222222, \"#7201a8\"], [0.3333333333333333, \"#9c179e\"], [0.4444444444444444, \"#bd3786\"], [0.5555555555555556, \"#d8576b\"], [0.6666666666666666, \"#ed7953\"], [0.7777777777777778, \"#fb9f3a\"], [0.8888888888888888, \"#fdca26\"], [1.0, \"#f0f921\"]], \"type\": \"heatmapgl\"}], \"histogram\": [{\"marker\": {\"colorbar\": {\"outlinewidth\": 0, \"ticks\": \"\"}}, \"type\": \"histogram\"}], \"histogram2d\": [{\"colorbar\": {\"outlinewidth\": 0, \"ticks\": \"\"}, \"colorscale\": [[0.0, \"#0d0887\"], [0.1111111111111111, \"#46039f\"], [0.2222222222222222, \"#7201a8\"], [0.3333333333333333, \"#9c179e\"], [0.4444444444444444, \"#bd3786\"], [0.5555555555555556, \"#d8576b\"], [0.6666666666666666, \"#ed7953\"], [0.7777777777777778, \"#fb9f3a\"], [0.8888888888888888, \"#fdca26\"], [1.0, \"#f0f921\"]], \"type\": \"histogram2d\"}], \"histogram2dcontour\": [{\"colorbar\": {\"outlinewidth\": 0, \"ticks\": \"\"}, \"colorscale\": [[0.0, \"#0d0887\"], [0.1111111111111111, \"#46039f\"], [0.2222222222222222, \"#7201a8\"], [0.3333333333333333, \"#9c179e\"], [0.4444444444444444, \"#bd3786\"], [0.5555555555555556, \"#d8576b\"], [0.6666666666666666, \"#ed7953\"], [0.7777777777777778, \"#fb9f3a\"], [0.8888888888888888, \"#fdca26\"], [1.0, \"#f0f921\"]], \"type\": \"histogram2dcontour\"}], \"mesh3d\": [{\"colorbar\": {\"outlinewidth\": 0, \"ticks\": \"\"}, \"type\": \"mesh3d\"}], \"parcoords\": [{\"line\": {\"colorbar\": {\"outlinewidth\": 0, \"ticks\": \"\"}}, \"type\": \"parcoords\"}], \"pie\": [{\"automargin\": true, \"type\": \"pie\"}], \"scatter\": [{\"marker\": {\"colorbar\": {\"outlinewidth\": 0, \"ticks\": \"\"}}, \"type\": \"scatter\"}], \"scatter3d\": [{\"line\": {\"colorbar\": {\"outlinewidth\": 0, \"ticks\": \"\"}}, \"marker\": {\"colorbar\": {\"outlinewidth\": 0, \"ticks\": \"\"}}, \"type\": \"scatter3d\"}], \"scattercarpet\": [{\"marker\": {\"colorbar\": {\"outlinewidth\": 0, \"ticks\": \"\"}}, \"type\": \"scattercarpet\"}], \"scattergeo\": [{\"marker\": {\"colorbar\": {\"outlinewidth\": 0, \"ticks\": \"\"}}, \"type\": \"scattergeo\"}], \"scattergl\": [{\"marker\": {\"colorbar\": {\"outlinewidth\": 0, \"ticks\": \"\"}}, \"type\": \"scattergl\"}], \"scattermapbox\": [{\"marker\": {\"colorbar\": {\"outlinewidth\": 0, \"ticks\": \"\"}}, \"type\": \"scattermapbox\"}], \"scatterpolar\": [{\"marker\": {\"colorbar\": {\"outlinewidth\": 0, \"ticks\": \"\"}}, \"type\": \"scatterpolar\"}], \"scatterpolargl\": [{\"marker\": {\"colorbar\": {\"outlinewidth\": 0, \"ticks\": \"\"}}, \"type\": \"scatterpolargl\"}], \"scatterternary\": [{\"marker\": {\"colorbar\": {\"outlinewidth\": 0, \"ticks\": \"\"}}, \"type\": \"scatterternary\"}], \"surface\": [{\"colorbar\": {\"outlinewidth\": 0, \"ticks\": \"\"}, \"colorscale\": [[0.0, \"#0d0887\"], [0.1111111111111111, \"#46039f\"], [0.2222222222222222, \"#7201a8\"], [0.3333333333333333, \"#9c179e\"], [0.4444444444444444, \"#bd3786\"], [0.5555555555555556, \"#d8576b\"], [0.6666666666666666, \"#ed7953\"], [0.7777777777777778, \"#fb9f3a\"], [0.8888888888888888, \"#fdca26\"], [1.0, \"#f0f921\"]], \"type\": \"surface\"}], \"table\": [{\"cells\": {\"fill\": {\"color\": \"#EBF0F8\"}, \"line\": {\"color\": \"white\"}}, \"header\": {\"fill\": {\"color\": \"#C8D4E3\"}, \"line\": {\"color\": \"white\"}}, \"type\": \"table\"}]}, \"layout\": {\"annotationdefaults\": {\"arrowcolor\": \"#2a3f5f\", \"arrowhead\": 0, \"arrowwidth\": 1}, \"autotypenumbers\": \"strict\", \"coloraxis\": {\"colorbar\": {\"outlinewidth\": 0, \"ticks\": \"\"}}, \"colorscale\": {\"diverging\": [[0, \"#8e0152\"], [0.1, \"#c51b7d\"], [0.2, \"#de77ae\"], [0.3, \"#f1b6da\"], [0.4, \"#fde0ef\"], [0.5, \"#f7f7f7\"], [0.6, \"#e6f5d0\"], [0.7, \"#b8e186\"], [0.8, \"#7fbc41\"], [0.9, \"#4d9221\"], [1, \"#276419\"]], \"sequential\": [[0.0, \"#0d0887\"], [0.1111111111111111, \"#46039f\"], [0.2222222222222222, \"#7201a8\"], [0.3333333333333333, \"#9c179e\"], [0.4444444444444444, \"#bd3786\"], [0.5555555555555556, \"#d8576b\"], [0.6666666666666666, \"#ed7953\"], [0.7777777777777778, \"#fb9f3a\"], [0.8888888888888888, \"#fdca26\"], [1.0, \"#f0f921\"]], \"sequentialminus\": [[0.0, \"#0d0887\"], [0.1111111111111111, \"#46039f\"], [0.2222222222222222, \"#7201a8\"], [0.3333333333333333, \"#9c179e\"], [0.4444444444444444, \"#bd3786\"], [0.5555555555555556, \"#d8576b\"], [0.6666666666666666, \"#ed7953\"], [0.7777777777777778, \"#fb9f3a\"], [0.8888888888888888, \"#fdca26\"], [1.0, \"#f0f921\"]]}, \"colorway\": [\"#636efa\", \"#EF553B\", \"#00cc96\", \"#ab63fa\", \"#FFA15A\", \"#19d3f3\", \"#FF6692\", \"#B6E880\", \"#FF97FF\", \"#FECB52\"], \"font\": {\"color\": \"#2a3f5f\"}, \"geo\": {\"bgcolor\": \"white\", \"lakecolor\": \"white\", \"landcolor\": \"#E5ECF6\", \"showlakes\": true, \"showland\": true, \"subunitcolor\": \"white\"}, \"hoverlabel\": {\"align\": \"left\"}, \"hovermode\": \"closest\", \"mapbox\": {\"style\": \"light\"}, \"paper_bgcolor\": \"white\", \"plot_bgcolor\": \"#E5ECF6\", \"polar\": {\"angularaxis\": {\"gridcolor\": \"white\", \"linecolor\": \"white\", \"ticks\": \"\"}, \"bgcolor\": \"#E5ECF6\", \"radialaxis\": {\"gridcolor\": \"white\", \"linecolor\": \"white\", \"ticks\": \"\"}}, \"scene\": {\"xaxis\": {\"backgroundcolor\": \"#E5ECF6\", \"gridcolor\": \"white\", \"gridwidth\": 2, \"linecolor\": \"white\", \"showbackground\": true, \"ticks\": \"\", \"zerolinecolor\": \"white\"}, \"yaxis\": {\"backgroundcolor\": \"#E5ECF6\", \"gridcolor\": \"white\", \"gridwidth\": 2, \"linecolor\": \"white\", \"showbackground\": true, \"ticks\": \"\", \"zerolinecolor\": \"white\"}, \"zaxis\": {\"backgroundcolor\": \"#E5ECF6\", \"gridcolor\": \"white\", \"gridwidth\": 2, \"linecolor\": \"white\", \"showbackground\": true, \"ticks\": \"\", \"zerolinecolor\": \"white\"}}, \"shapedefaults\": {\"line\": {\"color\": \"#2a3f5f\"}}, \"ternary\": {\"aaxis\": {\"gridcolor\": \"white\", \"linecolor\": \"white\", \"ticks\": \"\"}, \"baxis\": {\"gridcolor\": \"white\", \"linecolor\": \"white\", \"ticks\": \"\"}, \"bgcolor\": \"#E5ECF6\", \"caxis\": {\"gridcolor\": \"white\", \"linecolor\": \"white\", \"ticks\": \"\"}}, \"title\": {\"x\": 0.05}, \"xaxis\": {\"automargin\": true, \"gridcolor\": \"white\", \"linecolor\": \"white\", \"ticks\": \"\", \"title\": {\"standoff\": 15}, \"zerolinecolor\": \"white\", \"zerolinewidth\": 2}, \"yaxis\": {\"automargin\": true, \"gridcolor\": \"white\", \"linecolor\": \"white\", \"ticks\": \"\", \"title\": {\"standoff\": 15}, \"zerolinecolor\": \"white\", \"zerolinewidth\": 2}}}},                        {\"responsive\": true}                    ).then(function(){\n",
       "                            \n",
       "var gd = document.getElementById('469423f6-f2c7-42f7-92a2-a98d3d8a70be');\n",
       "var x = new MutationObserver(function (mutations, observer) {{\n",
       "        var display = window.getComputedStyle(gd).display;\n",
       "        if (!display || display === 'none') {{\n",
       "            console.log([gd, 'removed!']);\n",
       "            Plotly.purge(gd);\n",
       "            observer.disconnect();\n",
       "        }}\n",
       "}});\n",
       "\n",
       "// Listen for the removal of the full notebook cells\n",
       "var notebookContainer = gd.closest('#notebook-container');\n",
       "if (notebookContainer) {{\n",
       "    x.observe(notebookContainer, {childList: true});\n",
       "}}\n",
       "\n",
       "// Listen for the clearing of the current output cell\n",
       "var outputEl = gd.closest('.output');\n",
       "if (outputEl) {{\n",
       "    x.observe(outputEl, {childList: true});\n",
       "}}\n",
       "\n",
       "                        })                };                });            </script>        </div>"
      ]
     },
     "metadata": {},
     "output_type": "display_data"
    }
   ],
   "source": [
    "fig = px.line_polar(radar_data, r='high', theta='superestructures', line_close=True)\n",
    "fig.update_traces(fill='toself')\n",
    "fig.show()"
   ]
  }
 ],
 "metadata": {
  "kernelspec": {
   "display_name": "Python 3",
   "language": "python",
   "name": "python3"
  },
  "language_info": {
   "codemirror_mode": {
    "name": "ipython",
    "version": 3
   },
   "file_extension": ".py",
   "mimetype": "text/x-python",
   "name": "python",
   "nbconvert_exporter": "python",
   "pygments_lexer": "ipython3",
   "version": "3.8.6"
  }
 },
 "nbformat": 4,
 "nbformat_minor": 5
}
